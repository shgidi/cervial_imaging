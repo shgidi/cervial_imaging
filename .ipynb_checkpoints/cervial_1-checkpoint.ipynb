{
 "cells": [
  {
   "cell_type": "markdown",
   "metadata": {},
   "source": [
    "## imports"
   ]
  },
  {
   "cell_type": "code",
   "execution_count": null,
   "metadata": {},
   "outputs": [],
   "source": [
    "# i will try here... donno ... start with vgg or something\n",
    "#jeremy batcher can be used\n",
    "%cd /mnt/kaggle_crevical/train"
   ]
  },
  {
   "cell_type": "code",
   "execution_count": null,
   "metadata": {
    "collapsed": true
   },
   "outputs": [],
   "source": [
    "import glob\n",
    "import numpy as np\n",
    "#read imagesis with: PIL, cv2, keras\n",
    "from PIL import Image\n",
    "from keras.preprocessing import image\n",
    "from matplotlib import pyplot as plt\n",
    "import pandas as pd\n",
    "%matplotlib inline"
   ]
  },
  {
   "cell_type": "code",
   "execution_count": null,
   "metadata": {
    "collapsed": true
   },
   "outputs": [],
   "source": [
    "def do_clip(arr, mx):\n",
    "    clipped = np.clip(arr, (1-mx)/1, mx)\n",
    "    return clipped/clipped.sum(axis=1)[:, np.newaxis]"
   ]
  },
  {
   "cell_type": "code",
   "execution_count": null,
   "metadata": {},
   "outputs": [],
   "source": [
    "import bcolz\n",
    "import pickle\n",
    "\n",
    "def save_array(fname, arr):\n",
    "    c=bcolz.carray(arr, rootdir=fname, mode='w')\n",
    "    c.flush()\n",
    "\n",
    "\n",
    "def load_array(fname):\n",
    "    return bcolz.open(fname)[:]\n",
    "\n",
    "\n",
    "def save_pickle(fname, obj):\n",
    "    with open(fname, \"wb\") as output_file:\n",
    "        pickle.dump(obj, output_file)\n",
    "\n",
    "def load_pickle(fname):\n",
    "    with open(fname, \"rb\") as input_file:\n",
    "        return pickle.load(input_file)"
   ]
  },
  {
   "cell_type": "code",
   "execution_count": null,
   "metadata": {},
   "outputs": [],
   "source": [
    "from keras.applications import VGG16,ResNet50\n",
    "from collections import Counter\n",
    "import xgboost as xgb"
   ]
  },
  {
   "cell_type": "code",
   "execution_count": null,
   "metadata": {
    "collapsed": true
   },
   "outputs": [],
   "source": [
    "from keras.utils.np_utils import to_categorical\n",
    "from sklearn.model_selection import train_test_split\n",
    "from sklearn.model_selection import StratifiedShuffleSplit"
   ]
  },
  {
   "cell_type": "markdown",
   "metadata": {
    "heading_collapsed": true
   },
   "source": [
    "## preprocess"
   ]
  },
  {
   "cell_type": "code",
   "execution_count": 463,
   "metadata": {
    "hidden": true
   },
   "outputs": [
    {
     "name": "stdout",
     "output_type": "stream",
     "text": [
      "/mnt/kaggle_crevical\n"
     ]
    }
   ],
   "source": [
    "cd /mnt/kaggle_crevical"
   ]
  },
  {
   "cell_type": "code",
   "execution_count": 467,
   "metadata": {
    "collapsed": true,
    "hidden": true
   },
   "outputs": [],
   "source": [
    "g=glob.glob('train/*/*.*')\n",
    "t=glob.glob('test/*.*')"
   ]
  },
  {
   "cell_type": "code",
   "execution_count": 506,
   "metadata": {
    "hidden": true,
    "scrolled": true
   },
   "outputs": [
    {
     "name": "stdout",
     "output_type": "stream",
     "text": [
      "0\n",
      "250\n",
      "500\n",
      "750\n",
      "954 train/Type_1/3068.jpg  seems corrupt\n",
      "1000\n",
      "1138 train/Type_1/5893.jpg  seems corrupt\n",
      "1250\n",
      "1460 train/Type_2/2845.jpg  seems corrupt\n",
      "1500\n",
      "1750\n",
      "1933 train/Type_2/7.jpg  seems corrupt\n",
      "2000\n",
      "2250\n",
      "2275 train/Type_2/5892.jpg  seems corrupt\n",
      "2500\n",
      "2750\n",
      "3000\n",
      "3250\n",
      "3500\n",
      "3750\n",
      "4000\n",
      "4250\n",
      "4500\n",
      "4750\n",
      "5000\n",
      "5250\n",
      "5500\n",
      "5750\n",
      "6000\n",
      "6250\n",
      "6500\n",
      "6750\n",
      "7000\n",
      "7250\n",
      "7500\n"
     ]
    }
   ],
   "source": [
    "#read and resize train\n",
    "imgs=[]\n",
    "type_list=[]\n",
    "\n",
    "for i,file in enumerate(g):\n",
    "    try:\n",
    "        imgs.append(image.img_to_array(image.load_img(file).resize([224,224])))\n",
    "        type_list.append(file.split('/')[1])\n",
    "    except:\n",
    "        print (i,file,' seems corrupt')\n",
    "    if i % 250 ==0:\n",
    "        print (i)\n",
    "\n",
    "imgs=np.array(imgs)\n",
    "#takes long to load all big pictures... save the smaller version for now"
   ]
  },
  {
   "cell_type": "code",
   "execution_count": 508,
   "metadata": {
    "hidden": true,
    "scrolled": true
   },
   "outputs": [
    {
     "data": {
      "text/plain": [
       "(7625, 7625)"
      ]
     },
     "execution_count": 508,
     "metadata": {},
     "output_type": "execute_result"
    }
   ],
   "source": [
    "len(imgs),len(type_list)"
   ]
  },
  {
   "cell_type": "code",
   "execution_count": 36,
   "metadata": {
    "code_folding": [
     0
    ],
    "hidden": true
   },
   "outputs": [
    {
     "name": "stdout",
     "output_type": "stream",
     "text": [
      "0\n",
      "250\n",
      "500\n"
     ]
    }
   ],
   "source": [
    "#read and process test\n",
    "test_imgs=[]\n",
    "test_ids=[]\n",
    "missing_test_indices=[]\n",
    "missing_test_files=[]\n",
    "for i,file in enumerate(t):\n",
    "    try:\n",
    "        test_imgs.append(image.img_to_array(image.load_img(file).resize([224,224])))\n",
    "        test_ids.append(file.split('/')[1])\n",
    "\n",
    "    except:\n",
    "        print (i,file,' seems corrupt')\n",
    "        \n",
    "    if i % 250 ==0:\n",
    "        print (i)\n",
    "test_imgs=np.array(test_imgs)\n",
    "#takes long to load all big pictures... save the smaller version for now"
   ]
  },
  {
   "cell_type": "code",
   "execution_count": 509,
   "metadata": {
    "collapsed": true,
    "hidden": true
   },
   "outputs": [],
   "source": [
    "save_array('train/shrunk_files/data_full',imgs)"
   ]
  },
  {
   "cell_type": "code",
   "execution_count": 57,
   "metadata": {
    "collapsed": true,
    "hidden": true
   },
   "outputs": [],
   "source": [
    "imgs=load_array('train/shrunk_files/data_full')"
   ]
  },
  {
   "cell_type": "code",
   "execution_count": 60,
   "metadata": {
    "collapsed": true,
    "hidden": true
   },
   "outputs": [],
   "source": [
    "type_list=load_pickle('train/shrunk_files/type_list.p')"
   ]
  },
  {
   "cell_type": "code",
   "execution_count": 62,
   "metadata": {
    "collapsed": true,
    "hidden": true
   },
   "outputs": [],
   "source": [
    "type_1_idx=np.array([i=='Type_1' for i in type_list])\n",
    "type_2_idx=np.array([i=='Type_2' for i in type_list])\n",
    "type_3_idx=np.array([i=='Type_3' for i in type_list])"
   ]
  },
  {
   "cell_type": "code",
   "execution_count": 63,
   "metadata": {
    "collapsed": true,
    "hidden": true
   },
   "outputs": [],
   "source": [
    "types=type_1_idx*1+type_2_idx*2+type_3_idx*3"
   ]
  },
  {
   "cell_type": "markdown",
   "metadata": {
    "heading_collapsed": true
   },
   "source": [
    "## resnet and vgg"
   ]
  },
  {
   "cell_type": "code",
   "execution_count": 6,
   "metadata": {
    "collapsed": true,
    "hidden": true
   },
   "outputs": [],
   "source": [
    "vgg=VGG16()"
   ]
  },
  {
   "cell_type": "code",
   "execution_count": 55,
   "metadata": {
    "collapsed": true,
    "hidden": true
   },
   "outputs": [],
   "source": [
    "resnet=ResNet50()"
   ]
  },
  {
   "cell_type": "code",
   "execution_count": 90,
   "metadata": {
    "collapsed": true,
    "hidden": true
   },
   "outputs": [],
   "source": [
    "test_imgs_processed=preprocess_input(test_imgs)\n",
    "imgs_processed=preprocess_input(imgs)"
   ]
  },
  {
   "cell_type": "code",
   "execution_count": 476,
   "metadata": {
    "collapsed": true,
    "hidden": true
   },
   "outputs": [],
   "source": [
    "vgg_preds=vgg.predict(imgs)"
   ]
  },
  {
   "cell_type": "code",
   "execution_count": 122,
   "metadata": {
    "hidden": true,
    "scrolled": true
   },
   "outputs": [],
   "source": [
    "res_preds=resnet.predict(imgs_processed)"
   ]
  },
  {
   "cell_type": "code",
   "execution_count": 123,
   "metadata": {
    "hidden": true
   },
   "outputs": [
    {
     "data": {
      "text/plain": [
       "2"
      ]
     },
     "execution_count": 123,
     "metadata": {},
     "output_type": "execute_result"
    }
   ],
   "source": [
    "sss = StratifiedShuffleSplit(n_splits=2, test_size=0.3, random_state=0)\n",
    "sss.get_n_splits(res_preds,types)"
   ]
  },
  {
   "cell_type": "code",
   "execution_count": 124,
   "metadata": {
    "collapsed": true,
    "hidden": true
   },
   "outputs": [],
   "source": [
    "#startfied val\n",
    "for train_index, test_index in sss.split(res_preds, types):\n",
    "   trn, val = res_preds[train_index], res_preds[test_index]\n",
    "   y, y_val = types[train_index], types[test_index]"
   ]
  },
  {
   "cell_type": "code",
   "execution_count": 482,
   "metadata": {
    "collapsed": true,
    "hidden": true
   },
   "outputs": [
    {
     "ename": "ValueError",
     "evalue": "Found input variables with inconsistent numbers of samples: [1408, 7625]",
     "output_type": "error",
     "traceback": [
      "\u001b[0;31m---------------------------------------------------------------------------\u001b[0m",
      "\u001b[0;31mValueError\u001b[0m                                Traceback (most recent call last)",
      "\u001b[0;32m<ipython-input-482-089bb4e7d6dc>\u001b[0m in \u001b[0;36m<module>\u001b[0;34m()\u001b[0m\n\u001b[0;32m----> 1\u001b[0;31m \u001b[0mtrn\u001b[0m\u001b[0;34m,\u001b[0m\u001b[0mval\u001b[0m\u001b[0;34m,\u001b[0m\u001b[0my\u001b[0m\u001b[0;34m,\u001b[0m\u001b[0my_val\u001b[0m\u001b[0;34m=\u001b[0m\u001b[0mtrain_test_split\u001b[0m\u001b[0;34m(\u001b[0m\u001b[0mres_preds\u001b[0m\u001b[0;34m,\u001b[0m\u001b[0mtypes\u001b[0m\u001b[0;34m)\u001b[0m\u001b[0;34m\u001b[0m\u001b[0m\n\u001b[0m",
      "\u001b[0;32m/home/ubuntu/anaconda3/lib/python3.6/site-packages/sklearn/model_selection/_split.py\u001b[0m in \u001b[0;36mtrain_test_split\u001b[0;34m(*arrays, **options)\u001b[0m\n\u001b[1;32m   1687\u001b[0m         \u001b[0mtest_size\u001b[0m \u001b[0;34m=\u001b[0m \u001b[0;36m0.25\u001b[0m\u001b[0;34m\u001b[0m\u001b[0m\n\u001b[1;32m   1688\u001b[0m \u001b[0;34m\u001b[0m\u001b[0m\n\u001b[0;32m-> 1689\u001b[0;31m     \u001b[0marrays\u001b[0m \u001b[0;34m=\u001b[0m \u001b[0mindexable\u001b[0m\u001b[0;34m(\u001b[0m\u001b[0;34m*\u001b[0m\u001b[0marrays\u001b[0m\u001b[0;34m)\u001b[0m\u001b[0;34m\u001b[0m\u001b[0m\n\u001b[0m\u001b[1;32m   1690\u001b[0m \u001b[0;34m\u001b[0m\u001b[0m\n\u001b[1;32m   1691\u001b[0m     \u001b[0;32mif\u001b[0m \u001b[0mstratify\u001b[0m \u001b[0;32mis\u001b[0m \u001b[0;32mnot\u001b[0m \u001b[0;32mNone\u001b[0m\u001b[0;34m:\u001b[0m\u001b[0;34m\u001b[0m\u001b[0m\n",
      "\u001b[0;32m/home/ubuntu/anaconda3/lib/python3.6/site-packages/sklearn/utils/validation.py\u001b[0m in \u001b[0;36mindexable\u001b[0;34m(*iterables)\u001b[0m\n\u001b[1;32m    204\u001b[0m         \u001b[0;32melse\u001b[0m\u001b[0;34m:\u001b[0m\u001b[0;34m\u001b[0m\u001b[0m\n\u001b[1;32m    205\u001b[0m             \u001b[0mresult\u001b[0m\u001b[0;34m.\u001b[0m\u001b[0mappend\u001b[0m\u001b[0;34m(\u001b[0m\u001b[0mnp\u001b[0m\u001b[0;34m.\u001b[0m\u001b[0marray\u001b[0m\u001b[0;34m(\u001b[0m\u001b[0mX\u001b[0m\u001b[0;34m)\u001b[0m\u001b[0;34m)\u001b[0m\u001b[0;34m\u001b[0m\u001b[0m\n\u001b[0;32m--> 206\u001b[0;31m     \u001b[0mcheck_consistent_length\u001b[0m\u001b[0;34m(\u001b[0m\u001b[0;34m*\u001b[0m\u001b[0mresult\u001b[0m\u001b[0;34m)\u001b[0m\u001b[0;34m\u001b[0m\u001b[0m\n\u001b[0m\u001b[1;32m    207\u001b[0m     \u001b[0;32mreturn\u001b[0m \u001b[0mresult\u001b[0m\u001b[0;34m\u001b[0m\u001b[0m\n\u001b[1;32m    208\u001b[0m \u001b[0;34m\u001b[0m\u001b[0m\n",
      "\u001b[0;32m/home/ubuntu/anaconda3/lib/python3.6/site-packages/sklearn/utils/validation.py\u001b[0m in \u001b[0;36mcheck_consistent_length\u001b[0;34m(*arrays)\u001b[0m\n\u001b[1;32m    179\u001b[0m     \u001b[0;32mif\u001b[0m \u001b[0mlen\u001b[0m\u001b[0;34m(\u001b[0m\u001b[0muniques\u001b[0m\u001b[0;34m)\u001b[0m \u001b[0;34m>\u001b[0m \u001b[0;36m1\u001b[0m\u001b[0;34m:\u001b[0m\u001b[0;34m\u001b[0m\u001b[0m\n\u001b[1;32m    180\u001b[0m         raise ValueError(\"Found input variables with inconsistent numbers of\"\n\u001b[0;32m--> 181\u001b[0;31m                          \" samples: %r\" % [int(l) for l in lengths])\n\u001b[0m\u001b[1;32m    182\u001b[0m \u001b[0;34m\u001b[0m\u001b[0m\n\u001b[1;32m    183\u001b[0m \u001b[0;34m\u001b[0m\u001b[0m\n",
      "\u001b[0;31mValueError\u001b[0m: Found input variables with inconsistent numbers of samples: [1408, 7625]"
     ]
    }
   ],
   "source": [
    "#trn,val,y,y_val=train_test_split(res_preds,types)"
   ]
  },
  {
   "cell_type": "code",
   "execution_count": 125,
   "metadata": {
    "hidden": true
   },
   "outputs": [
    {
     "data": {
      "text/plain": [
       "((5337, 1000), (2288, 1000), (5337,), (2288,))"
      ]
     },
     "execution_count": 125,
     "metadata": {},
     "output_type": "execute_result"
    }
   ],
   "source": [
    "trn.shape,val.shape,y.shape,y_val.shape"
   ]
  },
  {
   "cell_type": "code",
   "execution_count": 341,
   "metadata": {
    "hidden": true
   },
   "outputs": [
    {
     "data": {
      "text/plain": [
       "1481"
      ]
     },
     "execution_count": 341,
     "metadata": {},
     "output_type": "execute_result"
    }
   ],
   "source": [
    "len(g)"
   ]
  },
  {
   "cell_type": "markdown",
   "metadata": {
    "heading_collapsed": true
   },
   "source": [
    "## finetune VGG"
   ]
  },
  {
   "cell_type": "code",
   "execution_count": 11,
   "metadata": {
    "collapsed": true,
    "hidden": true
   },
   "outputs": [],
   "source": [
    "from keras.layers import Dense,BatchNormalization,Flatten,Dropout,MaxPooling2D\n",
    "from keras.layers.convolutional import Convolution2D \n",
    "from keras.models import Model,Sequential\n",
    "from keras.optimizers import Adam"
   ]
  },
  {
   "cell_type": "code",
   "execution_count": 8,
   "metadata": {
    "collapsed": true,
    "hidden": true
   },
   "outputs": [],
   "source": [
    "def split_at(model, layer_type):\n",
    "    layers = model.layers\n",
    "    layer_idx = [index for index,layer in enumerate(layers) if type(layer) is layer_type][-1]\n",
    "    return layers[:layer_idx+1], layers[layer_idx+1:]"
   ]
  },
  {
   "cell_type": "code",
   "execution_count": 9,
   "metadata": {
    "collapsed": true,
    "hidden": true
   },
   "outputs": [],
   "source": [
    "conv_layers,fc_layers = split_at(vgg, Convolution2D)"
   ]
  },
  {
   "cell_type": "code",
   "execution_count": 12,
   "metadata": {
    "hidden": true
   },
   "outputs": [],
   "source": [
    "conv_model = Sequential(conv_layers)"
   ]
  },
  {
   "cell_type": "code",
   "execution_count": 519,
   "metadata": {
    "collapsed": true,
    "hidden": true
   },
   "outputs": [],
   "source": [
    "conv_trn=conv_model.predict(trn)\n",
    "conv_val=conv_model.predict(val)"
   ]
  },
  {
   "cell_type": "code",
   "execution_count": 524,
   "metadata": {
    "collapsed": true,
    "hidden": true
   },
   "outputs": [],
   "source": [
    "save_array('train/shrunk_files/conv_trn',conv_trn)\n",
    "save_array('train/shrunk_files/conv_val',conv_val)\n",
    "save_pickle('train/shrunk_files/y.p',y)\n",
    "save_pickle('train/shrunk_files/y_val.p',y_val)"
   ]
  },
  {
   "cell_type": "code",
   "execution_count": 15,
   "metadata": {
    "hidden": true
   },
   "outputs": [
    {
     "name": "stdout",
     "output_type": "stream",
     "text": [
      "/mnt/kaggle_crevical\n"
     ]
    }
   ],
   "source": [
    "cd .."
   ]
  },
  {
   "cell_type": "code",
   "execution_count": 19,
   "metadata": {
    "hidden": true
   },
   "outputs": [],
   "source": [
    "conv_trn=load_array('train/shrunk_files/conv_trn')\n",
    "conv_val=load_array('train/shrunk_files/conv_val')\n",
    "y=load_pickle('train/shrunk_files/y.p')\n",
    "y_val=load_pickle('train/shrunk_files/y_val.p')"
   ]
  },
  {
   "cell_type": "code",
   "execution_count": 27,
   "metadata": {
    "collapsed": true,
    "hidden": true
   },
   "outputs": [],
   "source": [
    "# bn layers\n",
    "p=0.7\n",
    "def get_bn_layers(p):\n",
    "    return [\n",
    "        MaxPooling2D(input_shape=conv_layers[-1].output_shape[1:]),\n",
    "        BatchNormalization(axis=1),\n",
    "        Dropout(p/4),\n",
    "        Flatten(),\n",
    "        Dense(512, activation='relu'),\n",
    "        BatchNormalization(),\n",
    "        Dropout(p),\n",
    "        Dense(512, activation='relu'),\n",
    "        BatchNormalization(),\n",
    "        Dropout(p/2),\n",
    "        Dense(3, activation='softmax')\n",
    "    ]"
   ]
  },
  {
   "cell_type": "code",
   "execution_count": 28,
   "metadata": {
    "collapsed": true,
    "hidden": true,
    "scrolled": true
   },
   "outputs": [],
   "source": [
    "model1 =Sequential(get_bn_layers(p))"
   ]
  },
  {
   "cell_type": "code",
   "execution_count": 29,
   "metadata": {
    "collapsed": true,
    "hidden": true
   },
   "outputs": [],
   "source": [
    "model1.compile(Adam(lr=0.001), loss='categorical_crossentropy', metrics=['accuracy'])"
   ]
  },
  {
   "cell_type": "code",
   "execution_count": null,
   "metadata": {
    "hidden": true
   },
   "outputs": [],
   "source": [
    "y"
   ]
  },
  {
   "cell_type": "code",
   "execution_count": 31,
   "metadata": {
    "hidden": true,
    "scrolled": true
   },
   "outputs": [
    {
     "name": "stdout",
     "output_type": "stream",
     "text": [
      "Train on 5337 samples, validate on 2288 samples\n",
      "Epoch 1/10\n",
      "5337/5337 [==============================] - 34s - loss: 1.3764 - acc: 0.4570 - val_loss: 1.0933 - val_acc: 0.5389\n",
      "Epoch 2/10\n",
      "5337/5337 [==============================] - 34s - loss: 1.0085 - acc: 0.5451 - val_loss: 0.8607 - val_acc: 0.6023\n",
      "Epoch 3/10\n",
      "5337/5337 [==============================] - 34s - loss: 0.8056 - acc: 0.6386 - val_loss: 0.8368 - val_acc: 0.6320\n",
      "Epoch 4/10\n",
      "5337/5337 [==============================] - 34s - loss: 0.6566 - acc: 0.7146 - val_loss: 0.8895 - val_acc: 0.6351\n",
      "Epoch 5/10\n",
      "5337/5337 [==============================] - 34s - loss: 0.5698 - acc: 0.7590 - val_loss: 0.8526 - val_acc: 0.6552\n",
      "Epoch 6/10\n",
      "5312/5337 [============================>.] - ETA: 0s - loss: 0.5244 - acc: 0.7803"
     ]
    },
    {
     "ename": "KeyboardInterrupt",
     "evalue": "",
     "output_type": "error",
     "traceback": [
      "\u001b[0;31m---------------------------------------------------------------------------\u001b[0m",
      "\u001b[0;31mKeyboardInterrupt\u001b[0m                         Traceback (most recent call last)",
      "\u001b[0;32m<ipython-input-31-1fb254633ac8>\u001b[0m in \u001b[0;36m<module>\u001b[0;34m()\u001b[0m\n\u001b[0;32m----> 1\u001b[0;31m \u001b[0mmodel1\u001b[0m\u001b[0;34m.\u001b[0m\u001b[0mfit\u001b[0m\u001b[0;34m(\u001b[0m\u001b[0mconv_trn\u001b[0m\u001b[0;34m,\u001b[0m \u001b[0mto_categorical\u001b[0m\u001b[0;34m(\u001b[0m\u001b[0my\u001b[0m\u001b[0;34m)\u001b[0m\u001b[0;34m[\u001b[0m\u001b[0;34m:\u001b[0m\u001b[0;34m,\u001b[0m\u001b[0;36m1\u001b[0m\u001b[0;34m:\u001b[0m\u001b[0;34m]\u001b[0m\u001b[0;34m,\u001b[0m \u001b[0mbatch_size\u001b[0m\u001b[0;34m=\u001b[0m\u001b[0;36m32\u001b[0m            \u001b[0;34m,\u001b[0m\u001b[0mvalidation_data\u001b[0m\u001b[0;34m=\u001b[0m\u001b[0;34m(\u001b[0m\u001b[0mconv_val\u001b[0m\u001b[0;34m,\u001b[0m\u001b[0mto_categorical\u001b[0m\u001b[0;34m(\u001b[0m\u001b[0my_val\u001b[0m\u001b[0;34m)\u001b[0m\u001b[0;34m[\u001b[0m\u001b[0;34m:\u001b[0m\u001b[0;34m,\u001b[0m\u001b[0;36m1\u001b[0m\u001b[0;34m:\u001b[0m\u001b[0;34m]\u001b[0m\u001b[0;34m)\u001b[0m\u001b[0;34m)\u001b[0m\u001b[0;34m\u001b[0m\u001b[0m\n\u001b[0m",
      "\u001b[0;32m/home/ubuntu/anaconda3/lib/python3.6/site-packages/keras/models.py\u001b[0m in \u001b[0;36mfit\u001b[0;34m(self, x, y, batch_size, nb_epoch, verbose, callbacks, validation_split, validation_data, shuffle, class_weight, sample_weight, initial_epoch, **kwargs)\u001b[0m\n\u001b[1;32m    670\u001b[0m                               \u001b[0mclass_weight\u001b[0m\u001b[0;34m=\u001b[0m\u001b[0mclass_weight\u001b[0m\u001b[0;34m,\u001b[0m\u001b[0;34m\u001b[0m\u001b[0m\n\u001b[1;32m    671\u001b[0m                               \u001b[0msample_weight\u001b[0m\u001b[0;34m=\u001b[0m\u001b[0msample_weight\u001b[0m\u001b[0;34m,\u001b[0m\u001b[0;34m\u001b[0m\u001b[0m\n\u001b[0;32m--> 672\u001b[0;31m                               initial_epoch=initial_epoch)\n\u001b[0m\u001b[1;32m    673\u001b[0m \u001b[0;34m\u001b[0m\u001b[0m\n\u001b[1;32m    674\u001b[0m     def evaluate(self, x, y, batch_size=32, verbose=1,\n",
      "\u001b[0;32m/home/ubuntu/anaconda3/lib/python3.6/site-packages/keras/engine/training.py\u001b[0m in \u001b[0;36mfit\u001b[0;34m(self, x, y, batch_size, nb_epoch, verbose, callbacks, validation_split, validation_data, shuffle, class_weight, sample_weight, initial_epoch)\u001b[0m\n\u001b[1;32m   1194\u001b[0m                               \u001b[0mval_f\u001b[0m\u001b[0;34m=\u001b[0m\u001b[0mval_f\u001b[0m\u001b[0;34m,\u001b[0m \u001b[0mval_ins\u001b[0m\u001b[0;34m=\u001b[0m\u001b[0mval_ins\u001b[0m\u001b[0;34m,\u001b[0m \u001b[0mshuffle\u001b[0m\u001b[0;34m=\u001b[0m\u001b[0mshuffle\u001b[0m\u001b[0;34m,\u001b[0m\u001b[0;34m\u001b[0m\u001b[0m\n\u001b[1;32m   1195\u001b[0m                               \u001b[0mcallback_metrics\u001b[0m\u001b[0;34m=\u001b[0m\u001b[0mcallback_metrics\u001b[0m\u001b[0;34m,\u001b[0m\u001b[0;34m\u001b[0m\u001b[0m\n\u001b[0;32m-> 1196\u001b[0;31m                               initial_epoch=initial_epoch)\n\u001b[0m\u001b[1;32m   1197\u001b[0m \u001b[0;34m\u001b[0m\u001b[0m\n\u001b[1;32m   1198\u001b[0m     \u001b[0;32mdef\u001b[0m \u001b[0mevaluate\u001b[0m\u001b[0;34m(\u001b[0m\u001b[0mself\u001b[0m\u001b[0;34m,\u001b[0m \u001b[0mx\u001b[0m\u001b[0;34m,\u001b[0m \u001b[0my\u001b[0m\u001b[0;34m,\u001b[0m \u001b[0mbatch_size\u001b[0m\u001b[0;34m=\u001b[0m\u001b[0;36m32\u001b[0m\u001b[0;34m,\u001b[0m \u001b[0mverbose\u001b[0m\u001b[0;34m=\u001b[0m\u001b[0;36m1\u001b[0m\u001b[0;34m,\u001b[0m \u001b[0msample_weight\u001b[0m\u001b[0;34m=\u001b[0m\u001b[0;32mNone\u001b[0m\u001b[0;34m)\u001b[0m\u001b[0;34m:\u001b[0m\u001b[0;34m\u001b[0m\u001b[0m\n",
      "\u001b[0;32m/home/ubuntu/anaconda3/lib/python3.6/site-packages/keras/engine/training.py\u001b[0m in \u001b[0;36m_fit_loop\u001b[0;34m(self, f, ins, out_labels, batch_size, nb_epoch, verbose, callbacks, val_f, val_ins, shuffle, callback_metrics, initial_epoch)\u001b[0m\n\u001b[1;32m    903\u001b[0m                         val_outs = self._test_loop(val_f, val_ins,\n\u001b[1;32m    904\u001b[0m                                                    \u001b[0mbatch_size\u001b[0m\u001b[0;34m=\u001b[0m\u001b[0mbatch_size\u001b[0m\u001b[0;34m,\u001b[0m\u001b[0;34m\u001b[0m\u001b[0m\n\u001b[0;32m--> 905\u001b[0;31m                                                    verbose=0)\n\u001b[0m\u001b[1;32m    906\u001b[0m                         \u001b[0;32mif\u001b[0m \u001b[0;32mnot\u001b[0m \u001b[0misinstance\u001b[0m\u001b[0;34m(\u001b[0m\u001b[0mval_outs\u001b[0m\u001b[0;34m,\u001b[0m \u001b[0mlist\u001b[0m\u001b[0;34m)\u001b[0m\u001b[0;34m:\u001b[0m\u001b[0;34m\u001b[0m\u001b[0m\n\u001b[1;32m    907\u001b[0m                             \u001b[0mval_outs\u001b[0m \u001b[0;34m=\u001b[0m \u001b[0;34m[\u001b[0m\u001b[0mval_outs\u001b[0m\u001b[0;34m]\u001b[0m\u001b[0;34m\u001b[0m\u001b[0m\n",
      "\u001b[0;32m/home/ubuntu/anaconda3/lib/python3.6/site-packages/keras/engine/training.py\u001b[0m in \u001b[0;36m_test_loop\u001b[0;34m(self, f, ins, batch_size, verbose)\u001b[0m\n\u001b[1;32m    988\u001b[0m                 \u001b[0mins_batch\u001b[0m \u001b[0;34m=\u001b[0m \u001b[0mslice_X\u001b[0m\u001b[0;34m(\u001b[0m\u001b[0mins\u001b[0m\u001b[0;34m,\u001b[0m \u001b[0mbatch_ids\u001b[0m\u001b[0;34m)\u001b[0m\u001b[0;34m\u001b[0m\u001b[0m\n\u001b[1;32m    989\u001b[0m \u001b[0;34m\u001b[0m\u001b[0m\n\u001b[0;32m--> 990\u001b[0;31m             \u001b[0mbatch_outs\u001b[0m \u001b[0;34m=\u001b[0m \u001b[0mf\u001b[0m\u001b[0;34m(\u001b[0m\u001b[0mins_batch\u001b[0m\u001b[0;34m)\u001b[0m\u001b[0;34m\u001b[0m\u001b[0m\n\u001b[0m\u001b[1;32m    991\u001b[0m             \u001b[0;32mif\u001b[0m \u001b[0misinstance\u001b[0m\u001b[0;34m(\u001b[0m\u001b[0mbatch_outs\u001b[0m\u001b[0;34m,\u001b[0m \u001b[0mlist\u001b[0m\u001b[0;34m)\u001b[0m\u001b[0;34m:\u001b[0m\u001b[0;34m\u001b[0m\u001b[0m\n\u001b[1;32m    992\u001b[0m                 \u001b[0;32mif\u001b[0m \u001b[0mbatch_index\u001b[0m \u001b[0;34m==\u001b[0m \u001b[0;36m0\u001b[0m\u001b[0;34m:\u001b[0m\u001b[0;34m\u001b[0m\u001b[0m\n",
      "\u001b[0;32m/home/ubuntu/anaconda3/lib/python3.6/site-packages/keras/backend/tensorflow_backend.py\u001b[0m in \u001b[0;36m__call__\u001b[0;34m(self, inputs)\u001b[0m\n\u001b[1;32m   1941\u001b[0m         \u001b[0msession\u001b[0m \u001b[0;34m=\u001b[0m \u001b[0mget_session\u001b[0m\u001b[0;34m(\u001b[0m\u001b[0;34m)\u001b[0m\u001b[0;34m\u001b[0m\u001b[0m\n\u001b[1;32m   1942\u001b[0m         updated = session.run(self.outputs + [self.updates_op],\n\u001b[0;32m-> 1943\u001b[0;31m                               feed_dict=feed_dict)\n\u001b[0m\u001b[1;32m   1944\u001b[0m         \u001b[0;32mreturn\u001b[0m \u001b[0mupdated\u001b[0m\u001b[0;34m[\u001b[0m\u001b[0;34m:\u001b[0m\u001b[0mlen\u001b[0m\u001b[0;34m(\u001b[0m\u001b[0mself\u001b[0m\u001b[0;34m.\u001b[0m\u001b[0moutputs\u001b[0m\u001b[0;34m)\u001b[0m\u001b[0;34m]\u001b[0m\u001b[0;34m\u001b[0m\u001b[0m\n\u001b[1;32m   1945\u001b[0m \u001b[0;34m\u001b[0m\u001b[0m\n",
      "\u001b[0;32m/home/ubuntu/anaconda3/lib/python3.6/site-packages/tensorflow/python/client/session.py\u001b[0m in \u001b[0;36mrun\u001b[0;34m(self, fetches, feed_dict, options, run_metadata)\u001b[0m\n\u001b[1;32m    765\u001b[0m     \u001b[0;32mtry\u001b[0m\u001b[0;34m:\u001b[0m\u001b[0;34m\u001b[0m\u001b[0m\n\u001b[1;32m    766\u001b[0m       result = self._run(None, fetches, feed_dict, options_ptr,\n\u001b[0;32m--> 767\u001b[0;31m                          run_metadata_ptr)\n\u001b[0m\u001b[1;32m    768\u001b[0m       \u001b[0;32mif\u001b[0m \u001b[0mrun_metadata\u001b[0m\u001b[0;34m:\u001b[0m\u001b[0;34m\u001b[0m\u001b[0m\n\u001b[1;32m    769\u001b[0m         \u001b[0mproto_data\u001b[0m \u001b[0;34m=\u001b[0m \u001b[0mtf_session\u001b[0m\u001b[0;34m.\u001b[0m\u001b[0mTF_GetBuffer\u001b[0m\u001b[0;34m(\u001b[0m\u001b[0mrun_metadata_ptr\u001b[0m\u001b[0;34m)\u001b[0m\u001b[0;34m\u001b[0m\u001b[0m\n",
      "\u001b[0;32m/home/ubuntu/anaconda3/lib/python3.6/site-packages/tensorflow/python/client/session.py\u001b[0m in \u001b[0;36m_run\u001b[0;34m(self, handle, fetches, feed_dict, options, run_metadata)\u001b[0m\n\u001b[1;32m    963\u001b[0m     \u001b[0;32mif\u001b[0m \u001b[0mfinal_fetches\u001b[0m \u001b[0;32mor\u001b[0m \u001b[0mfinal_targets\u001b[0m\u001b[0;34m:\u001b[0m\u001b[0;34m\u001b[0m\u001b[0m\n\u001b[1;32m    964\u001b[0m       results = self._do_run(handle, final_targets, final_fetches,\n\u001b[0;32m--> 965\u001b[0;31m                              feed_dict_string, options, run_metadata)\n\u001b[0m\u001b[1;32m    966\u001b[0m     \u001b[0;32melse\u001b[0m\u001b[0;34m:\u001b[0m\u001b[0;34m\u001b[0m\u001b[0m\n\u001b[1;32m    967\u001b[0m       \u001b[0mresults\u001b[0m \u001b[0;34m=\u001b[0m \u001b[0;34m[\u001b[0m\u001b[0;34m]\u001b[0m\u001b[0;34m\u001b[0m\u001b[0m\n",
      "\u001b[0;32m/home/ubuntu/anaconda3/lib/python3.6/site-packages/tensorflow/python/client/session.py\u001b[0m in \u001b[0;36m_do_run\u001b[0;34m(self, handle, target_list, fetch_list, feed_dict, options, run_metadata)\u001b[0m\n\u001b[1;32m   1013\u001b[0m     \u001b[0;32mif\u001b[0m \u001b[0mhandle\u001b[0m \u001b[0;32mis\u001b[0m \u001b[0;32mNone\u001b[0m\u001b[0;34m:\u001b[0m\u001b[0;34m\u001b[0m\u001b[0m\n\u001b[1;32m   1014\u001b[0m       return self._do_call(_run_fn, self._session, feed_dict, fetch_list,\n\u001b[0;32m-> 1015\u001b[0;31m                            target_list, options, run_metadata)\n\u001b[0m\u001b[1;32m   1016\u001b[0m     \u001b[0;32melse\u001b[0m\u001b[0;34m:\u001b[0m\u001b[0;34m\u001b[0m\u001b[0m\n\u001b[1;32m   1017\u001b[0m       return self._do_call(_prun_fn, self._session, handle, feed_dict,\n",
      "\u001b[0;32m/home/ubuntu/anaconda3/lib/python3.6/site-packages/tensorflow/python/client/session.py\u001b[0m in \u001b[0;36m_do_call\u001b[0;34m(self, fn, *args)\u001b[0m\n\u001b[1;32m   1020\u001b[0m   \u001b[0;32mdef\u001b[0m \u001b[0m_do_call\u001b[0m\u001b[0;34m(\u001b[0m\u001b[0mself\u001b[0m\u001b[0;34m,\u001b[0m \u001b[0mfn\u001b[0m\u001b[0;34m,\u001b[0m \u001b[0;34m*\u001b[0m\u001b[0margs\u001b[0m\u001b[0;34m)\u001b[0m\u001b[0;34m:\u001b[0m\u001b[0;34m\u001b[0m\u001b[0m\n\u001b[1;32m   1021\u001b[0m     \u001b[0;32mtry\u001b[0m\u001b[0;34m:\u001b[0m\u001b[0;34m\u001b[0m\u001b[0m\n\u001b[0;32m-> 1022\u001b[0;31m       \u001b[0;32mreturn\u001b[0m \u001b[0mfn\u001b[0m\u001b[0;34m(\u001b[0m\u001b[0;34m*\u001b[0m\u001b[0margs\u001b[0m\u001b[0;34m)\u001b[0m\u001b[0;34m\u001b[0m\u001b[0m\n\u001b[0m\u001b[1;32m   1023\u001b[0m     \u001b[0;32mexcept\u001b[0m \u001b[0merrors\u001b[0m\u001b[0;34m.\u001b[0m\u001b[0mOpError\u001b[0m \u001b[0;32mas\u001b[0m \u001b[0me\u001b[0m\u001b[0;34m:\u001b[0m\u001b[0;34m\u001b[0m\u001b[0m\n\u001b[1;32m   1024\u001b[0m       \u001b[0mmessage\u001b[0m \u001b[0;34m=\u001b[0m \u001b[0mcompat\u001b[0m\u001b[0;34m.\u001b[0m\u001b[0mas_text\u001b[0m\u001b[0;34m(\u001b[0m\u001b[0me\u001b[0m\u001b[0;34m.\u001b[0m\u001b[0mmessage\u001b[0m\u001b[0;34m)\u001b[0m\u001b[0;34m\u001b[0m\u001b[0m\n",
      "\u001b[0;32m/home/ubuntu/anaconda3/lib/python3.6/site-packages/tensorflow/python/client/session.py\u001b[0m in \u001b[0;36m_run_fn\u001b[0;34m(session, feed_dict, fetch_list, target_list, options, run_metadata)\u001b[0m\n\u001b[1;32m   1002\u001b[0m         return tf_session.TF_Run(session, options,\n\u001b[1;32m   1003\u001b[0m                                  \u001b[0mfeed_dict\u001b[0m\u001b[0;34m,\u001b[0m \u001b[0mfetch_list\u001b[0m\u001b[0;34m,\u001b[0m \u001b[0mtarget_list\u001b[0m\u001b[0;34m,\u001b[0m\u001b[0;34m\u001b[0m\u001b[0m\n\u001b[0;32m-> 1004\u001b[0;31m                                  status, run_metadata)\n\u001b[0m\u001b[1;32m   1005\u001b[0m \u001b[0;34m\u001b[0m\u001b[0m\n\u001b[1;32m   1006\u001b[0m     \u001b[0;32mdef\u001b[0m \u001b[0m_prun_fn\u001b[0m\u001b[0;34m(\u001b[0m\u001b[0msession\u001b[0m\u001b[0;34m,\u001b[0m \u001b[0mhandle\u001b[0m\u001b[0;34m,\u001b[0m \u001b[0mfeed_dict\u001b[0m\u001b[0;34m,\u001b[0m \u001b[0mfetch_list\u001b[0m\u001b[0;34m)\u001b[0m\u001b[0;34m:\u001b[0m\u001b[0;34m\u001b[0m\u001b[0m\n",
      "\u001b[0;31mKeyboardInterrupt\u001b[0m: "
     ]
    }
   ],
   "source": [
    "model1.fit(conv_trn, to_categorical(y)[:,1:], batch_size=32 \\\n",
    "           ,validation_data=(conv_val,to_categorical(y_val)[:,1:]))"
   ]
  },
  {
   "cell_type": "markdown",
   "metadata": {
    "hidden": true
   },
   "source": [
    "#### some plots stuff"
   ]
  },
  {
   "cell_type": "code",
   "execution_count": 397,
   "metadata": {
    "collapsed": true,
    "hidden": true
   },
   "outputs": [],
   "source": [
    "# lets see what vgg says, top 5:\n",
    "#top_preds=np.argsort(preds)[:,:5]\n",
    "top_20_1=np.array(Counter(np.argsort(preds[np.array(type_1_idx),:])[:,:5].flatten()).most_common()[:20])\n",
    "top_20_2=np.array(Counter(np.argsort(preds[np.array(type_2_idx),:])[:,:5].flatten()).most_common()[:20])\n",
    "top_20_3=np.array(Counter(np.argsort(preds[np.array(type_3_idx),:])[:,:5].flatten()).most_common()[:20])"
   ]
  },
  {
   "cell_type": "code",
   "execution_count": 398,
   "metadata": {
    "collapsed": true,
    "hidden": true
   },
   "outputs": [],
   "source": [
    "df_1=pd.DataFrame(top_20_1,columns=[0,1]).set_index(0)\n",
    "df_2=pd.DataFrame(top_20_2,columns=[0,2]).set_index(0)\n",
    "df_3=pd.DataFrame(top_20_3,columns=[0,3]).set_index(0)"
   ]
  },
  {
   "cell_type": "code",
   "execution_count": 176,
   "metadata": {
    "collapsed": true,
    "hidden": true
   },
   "outputs": [],
   "source": [
    "combined=df_1.join(df_2,how='outer').join(df_3,how='outer')"
   ]
  },
  {
   "cell_type": "code",
   "execution_count": 177,
   "metadata": {
    "collapsed": true,
    "hidden": true
   },
   "outputs": [],
   "source": [
    "sums=combined/combined.sum()"
   ]
  },
  {
   "cell_type": "code",
   "execution_count": 178,
   "metadata": {
    "collapsed": true,
    "hidden": true
   },
   "outputs": [
    {
     "data": {
      "text/plain": [
       "<matplotlib.axes._subplots.AxesSubplot at 0x7f9374c34358>"
      ]
     },
     "execution_count": 178,
     "metadata": {},
     "output_type": "execute_result"
    },
    {
     "data": {
      "image/png": "[encoded data removed]",
      "text/plain": [
       "<matplotlib.figure.Figure at 0x7f93750907b8>"
      ]
     },
     "metadata": {},
     "output_type": "display_data"
    }
   ],
   "source": [
    "sums.plot.bar(figsize=[20,10])"
   ]
  },
  {
   "cell_type": "markdown",
   "metadata": {
    "heading_collapsed": true
   },
   "source": [
    "## xgboost"
   ]
  },
  {
   "cell_type": "code",
   "execution_count": 126,
   "metadata": {
    "hidden": true,
    "scrolled": true
   },
   "outputs": [
    {
     "name": "stdout",
     "output_type": "stream",
     "text": [
      "[0]\tvalidation_0-mlogloss:1.09583\n",
      "Will train until validation_0-mlogloss hasn't improved in 50 rounds.\n",
      "[1]\tvalidation_0-mlogloss:1.09296\n",
      "[2]\tvalidation_0-mlogloss:1.09052\n",
      "[3]\tvalidation_0-mlogloss:1.08815\n",
      "[4]\tvalidation_0-mlogloss:1.08587\n",
      "[5]\tvalidation_0-mlogloss:1.08344\n",
      "[6]\tvalidation_0-mlogloss:1.08115\n",
      "[7]\tvalidation_0-mlogloss:1.07892\n",
      "[8]\tvalidation_0-mlogloss:1.0766\n",
      "[9]\tvalidation_0-mlogloss:1.07439\n",
      "[10]\tvalidation_0-mlogloss:1.07216\n",
      "[11]\tvalidation_0-mlogloss:1.06992\n",
      "[12]\tvalidation_0-mlogloss:1.0677\n",
      "[13]\tvalidation_0-mlogloss:1.06554\n",
      "[14]\tvalidation_0-mlogloss:1.06366\n",
      "[15]\tvalidation_0-mlogloss:1.06153\n",
      "[16]\tvalidation_0-mlogloss:1.05946\n",
      "[17]\tvalidation_0-mlogloss:1.05749\n",
      "[18]\tvalidation_0-mlogloss:1.05526\n",
      "[19]\tvalidation_0-mlogloss:1.05325\n",
      "[20]\tvalidation_0-mlogloss:1.05118\n",
      "[21]\tvalidation_0-mlogloss:1.04926\n",
      "[22]\tvalidation_0-mlogloss:1.04718\n",
      "[23]\tvalidation_0-mlogloss:1.04516\n",
      "[24]\tvalidation_0-mlogloss:1.04311\n",
      "[25]\tvalidation_0-mlogloss:1.04121\n",
      "[26]\tvalidation_0-mlogloss:1.03931\n",
      "[27]\tvalidation_0-mlogloss:1.03753\n",
      "[28]\tvalidation_0-mlogloss:1.03574\n",
      "[29]\tvalidation_0-mlogloss:1.03401\n",
      "[30]\tvalidation_0-mlogloss:1.03216\n",
      "[31]\tvalidation_0-mlogloss:1.03035\n",
      "[32]\tvalidation_0-mlogloss:1.02862\n",
      "[33]\tvalidation_0-mlogloss:1.02676\n",
      "[34]\tvalidation_0-mlogloss:1.02489\n",
      "[35]\tvalidation_0-mlogloss:1.02317\n",
      "[36]\tvalidation_0-mlogloss:1.02142\n",
      "[37]\tvalidation_0-mlogloss:1.01991\n",
      "[38]\tvalidation_0-mlogloss:1.0182\n",
      "[39]\tvalidation_0-mlogloss:1.0166\n",
      "[40]\tvalidation_0-mlogloss:1.01509\n",
      "[41]\tvalidation_0-mlogloss:1.01351\n",
      "[42]\tvalidation_0-mlogloss:1.01174\n",
      "[43]\tvalidation_0-mlogloss:1.01006\n",
      "[44]\tvalidation_0-mlogloss:1.00847\n",
      "[45]\tvalidation_0-mlogloss:1.00688\n",
      "[46]\tvalidation_0-mlogloss:1.00532\n",
      "[47]\tvalidation_0-mlogloss:1.00391\n",
      "[48]\tvalidation_0-mlogloss:1.00245\n",
      "[49]\tvalidation_0-mlogloss:1.00089\n",
      "[50]\tvalidation_0-mlogloss:0.999558\n",
      "[51]\tvalidation_0-mlogloss:0.998018\n",
      "[52]\tvalidation_0-mlogloss:0.996809\n",
      "[53]\tvalidation_0-mlogloss:0.995445\n",
      "[54]\tvalidation_0-mlogloss:0.993808\n",
      "[55]\tvalidation_0-mlogloss:0.992461\n",
      "[56]\tvalidation_0-mlogloss:0.991059\n",
      "[57]\tvalidation_0-mlogloss:0.989638\n",
      "[58]\tvalidation_0-mlogloss:0.988273\n",
      "[59]\tvalidation_0-mlogloss:0.98697\n",
      "[60]\tvalidation_0-mlogloss:0.985787\n",
      "[61]\tvalidation_0-mlogloss:0.984386\n",
      "[62]\tvalidation_0-mlogloss:0.983094\n",
      "[63]\tvalidation_0-mlogloss:0.981725\n",
      "[64]\tvalidation_0-mlogloss:0.980431\n",
      "[65]\tvalidation_0-mlogloss:0.979113\n",
      "[66]\tvalidation_0-mlogloss:0.9778\n",
      "[67]\tvalidation_0-mlogloss:0.976572\n",
      "[68]\tvalidation_0-mlogloss:0.975365\n",
      "[69]\tvalidation_0-mlogloss:0.974164\n",
      "[70]\tvalidation_0-mlogloss:0.972888\n",
      "[71]\tvalidation_0-mlogloss:0.97167\n",
      "[72]\tvalidation_0-mlogloss:0.970382\n",
      "[73]\tvalidation_0-mlogloss:0.969188\n",
      "[74]\tvalidation_0-mlogloss:0.967934\n",
      "[75]\tvalidation_0-mlogloss:0.96673\n",
      "[76]\tvalidation_0-mlogloss:0.965594\n",
      "[77]\tvalidation_0-mlogloss:0.964516\n",
      "[78]\tvalidation_0-mlogloss:0.963285\n",
      "[79]\tvalidation_0-mlogloss:0.962145\n",
      "[80]\tvalidation_0-mlogloss:0.961144\n",
      "[81]\tvalidation_0-mlogloss:0.959976\n",
      "[82]\tvalidation_0-mlogloss:0.958759\n",
      "[83]\tvalidation_0-mlogloss:0.957694\n",
      "[84]\tvalidation_0-mlogloss:0.956708\n",
      "[85]\tvalidation_0-mlogloss:0.95555\n",
      "[86]\tvalidation_0-mlogloss:0.954526\n",
      "[87]\tvalidation_0-mlogloss:0.953533\n",
      "[88]\tvalidation_0-mlogloss:0.95246\n",
      "[89]\tvalidation_0-mlogloss:0.951514\n",
      "[90]\tvalidation_0-mlogloss:0.950541\n",
      "[91]\tvalidation_0-mlogloss:0.949625\n",
      "[92]\tvalidation_0-mlogloss:0.948497\n",
      "[93]\tvalidation_0-mlogloss:0.9476\n",
      "[94]\tvalidation_0-mlogloss:0.946727\n",
      "[95]\tvalidation_0-mlogloss:0.945717\n",
      "[96]\tvalidation_0-mlogloss:0.94476\n",
      "[97]\tvalidation_0-mlogloss:0.943758\n",
      "[98]\tvalidation_0-mlogloss:0.942856\n",
      "[99]\tvalidation_0-mlogloss:0.941887\n",
      "[100]\tvalidation_0-mlogloss:0.940973\n",
      "[101]\tvalidation_0-mlogloss:0.940031\n",
      "[102]\tvalidation_0-mlogloss:0.939166\n",
      "[103]\tvalidation_0-mlogloss:0.938278\n",
      "[104]\tvalidation_0-mlogloss:0.937394\n",
      "[105]\tvalidation_0-mlogloss:0.936495\n",
      "[106]\tvalidation_0-mlogloss:0.935778\n",
      "[107]\tvalidation_0-mlogloss:0.934942\n",
      "[108]\tvalidation_0-mlogloss:0.934164\n",
      "[109]\tvalidation_0-mlogloss:0.933305\n",
      "[110]\tvalidation_0-mlogloss:0.932504\n",
      "[111]\tvalidation_0-mlogloss:0.931645\n",
      "[112]\tvalidation_0-mlogloss:0.930734\n",
      "[113]\tvalidation_0-mlogloss:0.929841\n",
      "[114]\tvalidation_0-mlogloss:0.929065\n",
      "[115]\tvalidation_0-mlogloss:0.928252\n",
      "[116]\tvalidation_0-mlogloss:0.927321\n",
      "[117]\tvalidation_0-mlogloss:0.926502\n",
      "[118]\tvalidation_0-mlogloss:0.925723\n",
      "[119]\tvalidation_0-mlogloss:0.924903\n",
      "[120]\tvalidation_0-mlogloss:0.92407\n",
      "[121]\tvalidation_0-mlogloss:0.923309\n",
      "[122]\tvalidation_0-mlogloss:0.922482\n",
      "[123]\tvalidation_0-mlogloss:0.921636\n",
      "[124]\tvalidation_0-mlogloss:0.920855\n",
      "[125]\tvalidation_0-mlogloss:0.920106\n",
      "[126]\tvalidation_0-mlogloss:0.919345\n",
      "[127]\tvalidation_0-mlogloss:0.918515\n",
      "[128]\tvalidation_0-mlogloss:0.917787\n",
      "[129]\tvalidation_0-mlogloss:0.9172\n",
      "[130]\tvalidation_0-mlogloss:0.916557\n",
      "[131]\tvalidation_0-mlogloss:0.915757\n",
      "[132]\tvalidation_0-mlogloss:0.915021\n",
      "[133]\tvalidation_0-mlogloss:0.914318\n",
      "[134]\tvalidation_0-mlogloss:0.913685\n",
      "[135]\tvalidation_0-mlogloss:0.912933\n",
      "[136]\tvalidation_0-mlogloss:0.912306\n",
      "[137]\tvalidation_0-mlogloss:0.911595\n",
      "[138]\tvalidation_0-mlogloss:0.910896\n",
      "[139]\tvalidation_0-mlogloss:0.910315\n",
      "[140]\tvalidation_0-mlogloss:0.909614\n",
      "[141]\tvalidation_0-mlogloss:0.908988\n",
      "[142]\tvalidation_0-mlogloss:0.90841\n",
      "[143]\tvalidation_0-mlogloss:0.907766\n",
      "[144]\tvalidation_0-mlogloss:0.907197\n",
      "[145]\tvalidation_0-mlogloss:0.906633\n",
      "[146]\tvalidation_0-mlogloss:0.90599\n",
      "[147]\tvalidation_0-mlogloss:0.90535\n",
      "[148]\tvalidation_0-mlogloss:0.904753\n",
      "[149]\tvalidation_0-mlogloss:0.904224\n",
      "[150]\tvalidation_0-mlogloss:0.903666\n",
      "[151]\tvalidation_0-mlogloss:0.903018\n",
      "[152]\tvalidation_0-mlogloss:0.902405\n",
      "[153]\tvalidation_0-mlogloss:0.901734\n",
      "[154]\tvalidation_0-mlogloss:0.901047\n",
      "[155]\tvalidation_0-mlogloss:0.900459\n",
      "[156]\tvalidation_0-mlogloss:0.899856\n",
      "[157]\tvalidation_0-mlogloss:0.899241\n",
      "[158]\tvalidation_0-mlogloss:0.898694\n",
      "[159]\tvalidation_0-mlogloss:0.898055\n",
      "[160]\tvalidation_0-mlogloss:0.897416\n",
      "[161]\tvalidation_0-mlogloss:0.896867\n",
      "[162]\tvalidation_0-mlogloss:0.896384\n",
      "[163]\tvalidation_0-mlogloss:0.895902\n",
      "[164]\tvalidation_0-mlogloss:0.895356\n",
      "[165]\tvalidation_0-mlogloss:0.89471\n",
      "[166]\tvalidation_0-mlogloss:0.894265\n",
      "[167]\tvalidation_0-mlogloss:0.893752\n",
      "[168]\tvalidation_0-mlogloss:0.893233\n",
      "[169]\tvalidation_0-mlogloss:0.892725\n",
      "[170]\tvalidation_0-mlogloss:0.892192\n",
      "[171]\tvalidation_0-mlogloss:0.89169\n",
      "[172]\tvalidation_0-mlogloss:0.891161\n",
      "[173]\tvalidation_0-mlogloss:0.890618\n",
      "[174]\tvalidation_0-mlogloss:0.890168\n",
      "[175]\tvalidation_0-mlogloss:0.889616\n",
      "[176]\tvalidation_0-mlogloss:0.889005\n",
      "[177]\tvalidation_0-mlogloss:0.888555\n",
      "[178]\tvalidation_0-mlogloss:0.888014\n",
      "[179]\tvalidation_0-mlogloss:0.887395\n",
      "[180]\tvalidation_0-mlogloss:0.886962\n",
      "[181]\tvalidation_0-mlogloss:0.886525\n",
      "[182]\tvalidation_0-mlogloss:0.886043\n",
      "[183]\tvalidation_0-mlogloss:0.885523\n",
      "[184]\tvalidation_0-mlogloss:0.885101\n",
      "[185]\tvalidation_0-mlogloss:0.884636\n",
      "[186]\tvalidation_0-mlogloss:0.884121\n",
      "[187]\tvalidation_0-mlogloss:0.883735\n",
      "[188]\tvalidation_0-mlogloss:0.883218\n",
      "[189]\tvalidation_0-mlogloss:0.882791\n",
      "[190]\tvalidation_0-mlogloss:0.882349\n",
      "[191]\tvalidation_0-mlogloss:0.881891\n",
      "[192]\tvalidation_0-mlogloss:0.881426\n",
      "[193]\tvalidation_0-mlogloss:0.881031\n",
      "[194]\tvalidation_0-mlogloss:0.880574\n",
      "[195]\tvalidation_0-mlogloss:0.880181\n",
      "[196]\tvalidation_0-mlogloss:0.879753\n",
      "[197]\tvalidation_0-mlogloss:0.879302\n",
      "[198]\tvalidation_0-mlogloss:0.878965\n",
      "[199]\tvalidation_0-mlogloss:0.878542\n",
      "[200]\tvalidation_0-mlogloss:0.878101\n",
      "[201]\tvalidation_0-mlogloss:0.877628\n",
      "[202]\tvalidation_0-mlogloss:0.877176\n",
      "[203]\tvalidation_0-mlogloss:0.876754\n",
      "[204]\tvalidation_0-mlogloss:0.876312\n",
      "[205]\tvalidation_0-mlogloss:0.875866\n",
      "[206]\tvalidation_0-mlogloss:0.875326\n",
      "[207]\tvalidation_0-mlogloss:0.87485\n",
      "[208]\tvalidation_0-mlogloss:0.874303\n",
      "[209]\tvalidation_0-mlogloss:0.873977\n",
      "[210]\tvalidation_0-mlogloss:0.873606\n",
      "[211]\tvalidation_0-mlogloss:0.873196\n",
      "[212]\tvalidation_0-mlogloss:0.872751\n",
      "[213]\tvalidation_0-mlogloss:0.872365\n",
      "[214]\tvalidation_0-mlogloss:0.871999\n",
      "[215]\tvalidation_0-mlogloss:0.87158\n",
      "[216]\tvalidation_0-mlogloss:0.871239\n",
      "[217]\tvalidation_0-mlogloss:0.870918\n",
      "[218]\tvalidation_0-mlogloss:0.870595\n",
      "[219]\tvalidation_0-mlogloss:0.87028\n",
      "[220]\tvalidation_0-mlogloss:0.869829\n",
      "[221]\tvalidation_0-mlogloss:0.869453\n",
      "[222]\tvalidation_0-mlogloss:0.868998\n",
      "[223]\tvalidation_0-mlogloss:0.868716\n",
      "[224]\tvalidation_0-mlogloss:0.868269\n"
     ]
    },
    {
     "name": "stdout",
     "output_type": "stream",
     "text": [
      "[225]\tvalidation_0-mlogloss:0.867934\n",
      "[226]\tvalidation_0-mlogloss:0.867624\n",
      "[227]\tvalidation_0-mlogloss:0.86728\n",
      "[228]\tvalidation_0-mlogloss:0.866917\n",
      "[229]\tvalidation_0-mlogloss:0.866645\n",
      "[230]\tvalidation_0-mlogloss:0.866233\n",
      "[231]\tvalidation_0-mlogloss:0.865942\n",
      "[232]\tvalidation_0-mlogloss:0.865542\n",
      "[233]\tvalidation_0-mlogloss:0.865192\n",
      "[234]\tvalidation_0-mlogloss:0.864851\n",
      "[235]\tvalidation_0-mlogloss:0.864535\n",
      "[236]\tvalidation_0-mlogloss:0.864298\n",
      "[237]\tvalidation_0-mlogloss:0.864009\n",
      "[238]\tvalidation_0-mlogloss:0.863632\n",
      "[239]\tvalidation_0-mlogloss:0.863366\n",
      "[240]\tvalidation_0-mlogloss:0.863023\n",
      "[241]\tvalidation_0-mlogloss:0.862611\n",
      "[242]\tvalidation_0-mlogloss:0.862286\n",
      "[243]\tvalidation_0-mlogloss:0.861898\n",
      "[244]\tvalidation_0-mlogloss:0.861579\n",
      "[245]\tvalidation_0-mlogloss:0.861235\n",
      "[246]\tvalidation_0-mlogloss:0.860935\n",
      "[247]\tvalidation_0-mlogloss:0.860472\n",
      "[248]\tvalidation_0-mlogloss:0.860189\n",
      "[249]\tvalidation_0-mlogloss:0.859843\n",
      "[250]\tvalidation_0-mlogloss:0.859459\n",
      "[251]\tvalidation_0-mlogloss:0.859208\n",
      "[252]\tvalidation_0-mlogloss:0.85899\n",
      "[253]\tvalidation_0-mlogloss:0.858681\n",
      "[254]\tvalidation_0-mlogloss:0.85843\n",
      "[255]\tvalidation_0-mlogloss:0.858074\n",
      "[256]\tvalidation_0-mlogloss:0.857748\n",
      "[257]\tvalidation_0-mlogloss:0.857364\n",
      "[258]\tvalidation_0-mlogloss:0.85695\n",
      "[259]\tvalidation_0-mlogloss:0.856609\n",
      "[260]\tvalidation_0-mlogloss:0.856309\n",
      "[261]\tvalidation_0-mlogloss:0.856025\n",
      "[262]\tvalidation_0-mlogloss:0.855837\n",
      "[263]\tvalidation_0-mlogloss:0.855489\n",
      "[264]\tvalidation_0-mlogloss:0.855254\n",
      "[265]\tvalidation_0-mlogloss:0.85495\n",
      "[266]\tvalidation_0-mlogloss:0.854749\n",
      "[267]\tvalidation_0-mlogloss:0.854416\n",
      "[268]\tvalidation_0-mlogloss:0.854212\n",
      "[269]\tvalidation_0-mlogloss:0.853938\n",
      "[270]\tvalidation_0-mlogloss:0.853642\n",
      "[271]\tvalidation_0-mlogloss:0.853432\n",
      "[272]\tvalidation_0-mlogloss:0.853164\n",
      "[273]\tvalidation_0-mlogloss:0.852759\n",
      "[274]\tvalidation_0-mlogloss:0.852482\n",
      "[275]\tvalidation_0-mlogloss:0.852162\n",
      "[276]\tvalidation_0-mlogloss:0.851987\n",
      "[277]\tvalidation_0-mlogloss:0.851713\n",
      "[278]\tvalidation_0-mlogloss:0.851368\n",
      "[279]\tvalidation_0-mlogloss:0.851027\n",
      "[280]\tvalidation_0-mlogloss:0.850704\n",
      "[281]\tvalidation_0-mlogloss:0.850517\n",
      "[282]\tvalidation_0-mlogloss:0.850217\n",
      "[283]\tvalidation_0-mlogloss:0.850068\n",
      "[284]\tvalidation_0-mlogloss:0.849846\n",
      "[285]\tvalidation_0-mlogloss:0.849452\n",
      "[286]\tvalidation_0-mlogloss:0.849285\n",
      "[287]\tvalidation_0-mlogloss:0.848994\n",
      "[288]\tvalidation_0-mlogloss:0.848615\n",
      "[289]\tvalidation_0-mlogloss:0.848453\n",
      "[290]\tvalidation_0-mlogloss:0.848263\n",
      "[291]\tvalidation_0-mlogloss:0.847946\n",
      "[292]\tvalidation_0-mlogloss:0.847627\n",
      "[293]\tvalidation_0-mlogloss:0.847424\n",
      "[294]\tvalidation_0-mlogloss:0.847257\n",
      "[295]\tvalidation_0-mlogloss:0.84704\n",
      "[296]\tvalidation_0-mlogloss:0.846741\n",
      "[297]\tvalidation_0-mlogloss:0.846557\n",
      "[298]\tvalidation_0-mlogloss:0.846339\n",
      "[299]\tvalidation_0-mlogloss:0.846152\n",
      "[300]\tvalidation_0-mlogloss:0.845867\n",
      "[301]\tvalidation_0-mlogloss:0.84562\n",
      "[302]\tvalidation_0-mlogloss:0.845394\n",
      "[303]\tvalidation_0-mlogloss:0.845218\n",
      "[304]\tvalidation_0-mlogloss:0.844939\n",
      "[305]\tvalidation_0-mlogloss:0.844692\n",
      "[306]\tvalidation_0-mlogloss:0.844517\n",
      "[307]\tvalidation_0-mlogloss:0.84425\n",
      "[308]\tvalidation_0-mlogloss:0.844035\n",
      "[309]\tvalidation_0-mlogloss:0.843777\n",
      "[310]\tvalidation_0-mlogloss:0.843605\n",
      "[311]\tvalidation_0-mlogloss:0.843375\n",
      "[312]\tvalidation_0-mlogloss:0.84315\n",
      "[313]\tvalidation_0-mlogloss:0.84285\n",
      "[314]\tvalidation_0-mlogloss:0.84265\n",
      "[315]\tvalidation_0-mlogloss:0.842432\n",
      "[316]\tvalidation_0-mlogloss:0.842187\n",
      "[317]\tvalidation_0-mlogloss:0.841942\n",
      "[318]\tvalidation_0-mlogloss:0.841761\n",
      "[319]\tvalidation_0-mlogloss:0.841596\n",
      "[320]\tvalidation_0-mlogloss:0.841444\n",
      "[321]\tvalidation_0-mlogloss:0.841267\n",
      "[322]\tvalidation_0-mlogloss:0.841063\n",
      "[323]\tvalidation_0-mlogloss:0.840834\n",
      "[324]\tvalidation_0-mlogloss:0.840598\n",
      "[325]\tvalidation_0-mlogloss:0.840367\n",
      "[326]\tvalidation_0-mlogloss:0.840216\n",
      "[327]\tvalidation_0-mlogloss:0.840085\n",
      "[328]\tvalidation_0-mlogloss:0.839914\n",
      "[329]\tvalidation_0-mlogloss:0.839729\n",
      "[330]\tvalidation_0-mlogloss:0.839584\n",
      "[331]\tvalidation_0-mlogloss:0.839467\n",
      "[332]\tvalidation_0-mlogloss:0.83928\n",
      "[333]\tvalidation_0-mlogloss:0.839087\n",
      "[334]\tvalidation_0-mlogloss:0.838811\n",
      "[335]\tvalidation_0-mlogloss:0.838628\n",
      "[336]\tvalidation_0-mlogloss:0.838481\n",
      "[337]\tvalidation_0-mlogloss:0.838311\n",
      "[338]\tvalidation_0-mlogloss:0.838116\n",
      "[339]\tvalidation_0-mlogloss:0.837801\n",
      "[340]\tvalidation_0-mlogloss:0.837624\n",
      "[341]\tvalidation_0-mlogloss:0.837474\n",
      "[342]\tvalidation_0-mlogloss:0.837274\n",
      "[343]\tvalidation_0-mlogloss:0.837187\n",
      "[344]\tvalidation_0-mlogloss:0.837081\n",
      "[345]\tvalidation_0-mlogloss:0.836979\n",
      "[346]\tvalidation_0-mlogloss:0.836845\n",
      "[347]\tvalidation_0-mlogloss:0.836654\n",
      "[348]\tvalidation_0-mlogloss:0.836472\n",
      "[349]\tvalidation_0-mlogloss:0.836334\n",
      "[350]\tvalidation_0-mlogloss:0.836238\n",
      "[351]\tvalidation_0-mlogloss:0.836116\n",
      "[352]\tvalidation_0-mlogloss:0.835951\n",
      "[353]\tvalidation_0-mlogloss:0.835827\n",
      "[354]\tvalidation_0-mlogloss:0.83567\n",
      "[355]\tvalidation_0-mlogloss:0.835512\n",
      "[356]\tvalidation_0-mlogloss:0.835403\n",
      "[357]\tvalidation_0-mlogloss:0.835227\n",
      "[358]\tvalidation_0-mlogloss:0.835142\n",
      "[359]\tvalidation_0-mlogloss:0.835028\n",
      "[360]\tvalidation_0-mlogloss:0.834837\n",
      "[361]\tvalidation_0-mlogloss:0.834754\n",
      "[362]\tvalidation_0-mlogloss:0.834538\n",
      "[363]\tvalidation_0-mlogloss:0.834397\n",
      "[364]\tvalidation_0-mlogloss:0.834208\n",
      "[365]\tvalidation_0-mlogloss:0.834021\n",
      "[366]\tvalidation_0-mlogloss:0.833821\n",
      "[367]\tvalidation_0-mlogloss:0.833615\n",
      "[368]\tvalidation_0-mlogloss:0.833452\n",
      "[369]\tvalidation_0-mlogloss:0.833337\n",
      "[370]\tvalidation_0-mlogloss:0.833224\n",
      "[371]\tvalidation_0-mlogloss:0.833079\n",
      "[372]\tvalidation_0-mlogloss:0.83297\n",
      "[373]\tvalidation_0-mlogloss:0.832829\n",
      "[374]\tvalidation_0-mlogloss:0.832609\n",
      "[375]\tvalidation_0-mlogloss:0.832401\n",
      "[376]\tvalidation_0-mlogloss:0.832272\n",
      "[377]\tvalidation_0-mlogloss:0.832049\n",
      "[378]\tvalidation_0-mlogloss:0.831969\n",
      "[379]\tvalidation_0-mlogloss:0.831854\n",
      "[380]\tvalidation_0-mlogloss:0.831698\n",
      "[381]\tvalidation_0-mlogloss:0.831608\n",
      "[382]\tvalidation_0-mlogloss:0.831364\n",
      "[383]\tvalidation_0-mlogloss:0.831223\n",
      "[384]\tvalidation_0-mlogloss:0.831033\n",
      "[385]\tvalidation_0-mlogloss:0.830852\n",
      "[386]\tvalidation_0-mlogloss:0.830685\n",
      "[387]\tvalidation_0-mlogloss:0.830404\n",
      "[388]\tvalidation_0-mlogloss:0.830249\n",
      "[389]\tvalidation_0-mlogloss:0.830042\n",
      "[390]\tvalidation_0-mlogloss:0.829853\n",
      "[391]\tvalidation_0-mlogloss:0.82972\n",
      "[392]\tvalidation_0-mlogloss:0.829606\n",
      "[393]\tvalidation_0-mlogloss:0.829421\n",
      "[394]\tvalidation_0-mlogloss:0.829181\n",
      "[395]\tvalidation_0-mlogloss:0.829085\n",
      "[396]\tvalidation_0-mlogloss:0.828983\n",
      "[397]\tvalidation_0-mlogloss:0.828796\n",
      "[398]\tvalidation_0-mlogloss:0.828718\n",
      "[399]\tvalidation_0-mlogloss:0.828512\n",
      "[400]\tvalidation_0-mlogloss:0.828424\n",
      "[401]\tvalidation_0-mlogloss:0.828233\n",
      "[402]\tvalidation_0-mlogloss:0.827996\n",
      "[403]\tvalidation_0-mlogloss:0.82783\n",
      "[404]\tvalidation_0-mlogloss:0.827647\n",
      "[405]\tvalidation_0-mlogloss:0.827448\n",
      "[406]\tvalidation_0-mlogloss:0.827311\n",
      "[407]\tvalidation_0-mlogloss:0.82719\n",
      "[408]\tvalidation_0-mlogloss:0.826997\n",
      "[409]\tvalidation_0-mlogloss:0.826883\n",
      "[410]\tvalidation_0-mlogloss:0.826743\n",
      "[411]\tvalidation_0-mlogloss:0.826596\n",
      "[412]\tvalidation_0-mlogloss:0.826463\n",
      "[413]\tvalidation_0-mlogloss:0.826294\n",
      "[414]\tvalidation_0-mlogloss:0.826162\n",
      "[415]\tvalidation_0-mlogloss:0.826042\n",
      "[416]\tvalidation_0-mlogloss:0.825955\n",
      "[417]\tvalidation_0-mlogloss:0.82572\n",
      "[418]\tvalidation_0-mlogloss:0.825613\n",
      "[419]\tvalidation_0-mlogloss:0.825528\n",
      "[420]\tvalidation_0-mlogloss:0.825356\n",
      "[421]\tvalidation_0-mlogloss:0.825169\n",
      "[422]\tvalidation_0-mlogloss:0.825001\n",
      "[423]\tvalidation_0-mlogloss:0.824927\n",
      "[424]\tvalidation_0-mlogloss:0.824822\n",
      "[425]\tvalidation_0-mlogloss:0.824722\n",
      "[426]\tvalidation_0-mlogloss:0.824603\n",
      "[427]\tvalidation_0-mlogloss:0.824523\n",
      "[428]\tvalidation_0-mlogloss:0.824471\n",
      "[429]\tvalidation_0-mlogloss:0.824318\n",
      "[430]\tvalidation_0-mlogloss:0.824239\n",
      "[431]\tvalidation_0-mlogloss:0.824142\n",
      "[432]\tvalidation_0-mlogloss:0.82398\n",
      "[433]\tvalidation_0-mlogloss:0.823915\n",
      "[434]\tvalidation_0-mlogloss:0.823754\n",
      "[435]\tvalidation_0-mlogloss:0.823634\n",
      "[436]\tvalidation_0-mlogloss:0.823506\n",
      "[437]\tvalidation_0-mlogloss:0.823406\n",
      "[438]\tvalidation_0-mlogloss:0.823252\n",
      "[439]\tvalidation_0-mlogloss:0.823203\n",
      "[440]\tvalidation_0-mlogloss:0.823073\n",
      "[441]\tvalidation_0-mlogloss:0.822935\n",
      "[442]\tvalidation_0-mlogloss:0.822804\n",
      "[443]\tvalidation_0-mlogloss:0.822758\n",
      "[444]\tvalidation_0-mlogloss:0.822652\n",
      "[445]\tvalidation_0-mlogloss:0.822597\n",
      "[446]\tvalidation_0-mlogloss:0.822433\n"
     ]
    },
    {
     "name": "stdout",
     "output_type": "stream",
     "text": [
      "[447]\tvalidation_0-mlogloss:0.822402\n",
      "[448]\tvalidation_0-mlogloss:0.822354\n",
      "[449]\tvalidation_0-mlogloss:0.822157\n",
      "[450]\tvalidation_0-mlogloss:0.822014\n",
      "[451]\tvalidation_0-mlogloss:0.821843\n",
      "[452]\tvalidation_0-mlogloss:0.821711\n",
      "[453]\tvalidation_0-mlogloss:0.821586\n",
      "[454]\tvalidation_0-mlogloss:0.821536\n",
      "[455]\tvalidation_0-mlogloss:0.821432\n",
      "[456]\tvalidation_0-mlogloss:0.821311\n",
      "[457]\tvalidation_0-mlogloss:0.821213\n",
      "[458]\tvalidation_0-mlogloss:0.821133\n",
      "[459]\tvalidation_0-mlogloss:0.821077\n",
      "[460]\tvalidation_0-mlogloss:0.820998\n",
      "[461]\tvalidation_0-mlogloss:0.820886\n",
      "[462]\tvalidation_0-mlogloss:0.820699\n",
      "[463]\tvalidation_0-mlogloss:0.820561\n",
      "[464]\tvalidation_0-mlogloss:0.820468\n",
      "[465]\tvalidation_0-mlogloss:0.820472\n",
      "[466]\tvalidation_0-mlogloss:0.8203\n",
      "[467]\tvalidation_0-mlogloss:0.820173\n",
      "[468]\tvalidation_0-mlogloss:0.820143\n",
      "[469]\tvalidation_0-mlogloss:0.820071\n",
      "[470]\tvalidation_0-mlogloss:0.819981\n",
      "[471]\tvalidation_0-mlogloss:0.819851\n",
      "[472]\tvalidation_0-mlogloss:0.819729\n",
      "[473]\tvalidation_0-mlogloss:0.819643\n",
      "[474]\tvalidation_0-mlogloss:0.819567\n",
      "[475]\tvalidation_0-mlogloss:0.819424\n",
      "[476]\tvalidation_0-mlogloss:0.819235\n",
      "[477]\tvalidation_0-mlogloss:0.819107\n",
      "[478]\tvalidation_0-mlogloss:0.819021\n",
      "[479]\tvalidation_0-mlogloss:0.819002\n",
      "[480]\tvalidation_0-mlogloss:0.818789\n",
      "[481]\tvalidation_0-mlogloss:0.818659\n",
      "[482]\tvalidation_0-mlogloss:0.818571\n",
      "[483]\tvalidation_0-mlogloss:0.818446\n",
      "[484]\tvalidation_0-mlogloss:0.81838\n",
      "[485]\tvalidation_0-mlogloss:0.818212\n",
      "[486]\tvalidation_0-mlogloss:0.818072\n",
      "[487]\tvalidation_0-mlogloss:0.81797\n",
      "[488]\tvalidation_0-mlogloss:0.817894\n",
      "[489]\tvalidation_0-mlogloss:0.817756\n",
      "[490]\tvalidation_0-mlogloss:0.817755\n",
      "[491]\tvalidation_0-mlogloss:0.817591\n",
      "[492]\tvalidation_0-mlogloss:0.817498\n",
      "[493]\tvalidation_0-mlogloss:0.81741\n",
      "[494]\tvalidation_0-mlogloss:0.817274\n",
      "[495]\tvalidation_0-mlogloss:0.817123\n",
      "[496]\tvalidation_0-mlogloss:0.816961\n",
      "[497]\tvalidation_0-mlogloss:0.81686\n",
      "[498]\tvalidation_0-mlogloss:0.816784\n",
      "[499]\tvalidation_0-mlogloss:0.816713\n",
      "[500]\tvalidation_0-mlogloss:0.816615\n",
      "[501]\tvalidation_0-mlogloss:0.816545\n",
      "[502]\tvalidation_0-mlogloss:0.816445\n",
      "[503]\tvalidation_0-mlogloss:0.816375\n",
      "[504]\tvalidation_0-mlogloss:0.816212\n",
      "[505]\tvalidation_0-mlogloss:0.81617\n",
      "[506]\tvalidation_0-mlogloss:0.816044\n",
      "[507]\tvalidation_0-mlogloss:0.815936\n",
      "[508]\tvalidation_0-mlogloss:0.815872\n",
      "[509]\tvalidation_0-mlogloss:0.815882\n",
      "[510]\tvalidation_0-mlogloss:0.815736\n",
      "[511]\tvalidation_0-mlogloss:0.815571\n",
      "[512]\tvalidation_0-mlogloss:0.815467\n",
      "[513]\tvalidation_0-mlogloss:0.815305\n",
      "[514]\tvalidation_0-mlogloss:0.815178\n",
      "[515]\tvalidation_0-mlogloss:0.815113\n",
      "[516]\tvalidation_0-mlogloss:0.814999\n",
      "[517]\tvalidation_0-mlogloss:0.814864\n",
      "[518]\tvalidation_0-mlogloss:0.81474\n",
      "[519]\tvalidation_0-mlogloss:0.814543\n",
      "[520]\tvalidation_0-mlogloss:0.814461\n",
      "[521]\tvalidation_0-mlogloss:0.814447\n",
      "[522]\tvalidation_0-mlogloss:0.81439\n",
      "[523]\tvalidation_0-mlogloss:0.814263\n",
      "[524]\tvalidation_0-mlogloss:0.814147\n",
      "[525]\tvalidation_0-mlogloss:0.814076\n",
      "[526]\tvalidation_0-mlogloss:0.813977\n",
      "[527]\tvalidation_0-mlogloss:0.813877\n",
      "[528]\tvalidation_0-mlogloss:0.813765\n",
      "[529]\tvalidation_0-mlogloss:0.813666\n",
      "[530]\tvalidation_0-mlogloss:0.813592\n",
      "[531]\tvalidation_0-mlogloss:0.813513\n",
      "[532]\tvalidation_0-mlogloss:0.813458\n",
      "[533]\tvalidation_0-mlogloss:0.813411\n",
      "[534]\tvalidation_0-mlogloss:0.813359\n",
      "[535]\tvalidation_0-mlogloss:0.813272\n",
      "[536]\tvalidation_0-mlogloss:0.813184\n",
      "[537]\tvalidation_0-mlogloss:0.813131\n",
      "[538]\tvalidation_0-mlogloss:0.813106\n",
      "[539]\tvalidation_0-mlogloss:0.813062\n",
      "[540]\tvalidation_0-mlogloss:0.813038\n",
      "[541]\tvalidation_0-mlogloss:0.812992\n",
      "[542]\tvalidation_0-mlogloss:0.812856\n",
      "[543]\tvalidation_0-mlogloss:0.812791\n",
      "[544]\tvalidation_0-mlogloss:0.81268\n",
      "[545]\tvalidation_0-mlogloss:0.812606\n",
      "[546]\tvalidation_0-mlogloss:0.812555\n",
      "[547]\tvalidation_0-mlogloss:0.81248\n",
      "[548]\tvalidation_0-mlogloss:0.812456\n",
      "[549]\tvalidation_0-mlogloss:0.812314\n",
      "[550]\tvalidation_0-mlogloss:0.812229\n",
      "[551]\tvalidation_0-mlogloss:0.812155\n",
      "[552]\tvalidation_0-mlogloss:0.812039\n",
      "[553]\tvalidation_0-mlogloss:0.811986\n",
      "[554]\tvalidation_0-mlogloss:0.811911\n",
      "[555]\tvalidation_0-mlogloss:0.811815\n",
      "[556]\tvalidation_0-mlogloss:0.811701\n",
      "[557]\tvalidation_0-mlogloss:0.811663\n",
      "[558]\tvalidation_0-mlogloss:0.811582\n",
      "[559]\tvalidation_0-mlogloss:0.8115\n",
      "[560]\tvalidation_0-mlogloss:0.811322\n",
      "[561]\tvalidation_0-mlogloss:0.811255\n",
      "[562]\tvalidation_0-mlogloss:0.811227\n",
      "[563]\tvalidation_0-mlogloss:0.811118\n",
      "[564]\tvalidation_0-mlogloss:0.811025\n",
      "[565]\tvalidation_0-mlogloss:0.810919\n",
      "[566]\tvalidation_0-mlogloss:0.810872\n",
      "[567]\tvalidation_0-mlogloss:0.810883\n",
      "[568]\tvalidation_0-mlogloss:0.810789\n",
      "[569]\tvalidation_0-mlogloss:0.810682\n",
      "[570]\tvalidation_0-mlogloss:0.810623\n",
      "[571]\tvalidation_0-mlogloss:0.810548\n",
      "[572]\tvalidation_0-mlogloss:0.810378\n",
      "[573]\tvalidation_0-mlogloss:0.810328\n",
      "[574]\tvalidation_0-mlogloss:0.810234\n",
      "[575]\tvalidation_0-mlogloss:0.810119\n",
      "[576]\tvalidation_0-mlogloss:0.810109\n",
      "[577]\tvalidation_0-mlogloss:0.810031\n",
      "[578]\tvalidation_0-mlogloss:0.809984\n",
      "[579]\tvalidation_0-mlogloss:0.809843\n",
      "[580]\tvalidation_0-mlogloss:0.809772\n",
      "[581]\tvalidation_0-mlogloss:0.80965\n",
      "[582]\tvalidation_0-mlogloss:0.809579\n",
      "[583]\tvalidation_0-mlogloss:0.809489\n",
      "[584]\tvalidation_0-mlogloss:0.809473\n",
      "[585]\tvalidation_0-mlogloss:0.809402\n",
      "[586]\tvalidation_0-mlogloss:0.809405\n",
      "[587]\tvalidation_0-mlogloss:0.809277\n",
      "[588]\tvalidation_0-mlogloss:0.809209\n",
      "[589]\tvalidation_0-mlogloss:0.809126\n",
      "[590]\tvalidation_0-mlogloss:0.809097\n",
      "[591]\tvalidation_0-mlogloss:0.809093\n",
      "[592]\tvalidation_0-mlogloss:0.808945\n",
      "[593]\tvalidation_0-mlogloss:0.808844\n",
      "[594]\tvalidation_0-mlogloss:0.808787\n",
      "[595]\tvalidation_0-mlogloss:0.808726\n",
      "[596]\tvalidation_0-mlogloss:0.808671\n",
      "[597]\tvalidation_0-mlogloss:0.808531\n",
      "[598]\tvalidation_0-mlogloss:0.808461\n",
      "[599]\tvalidation_0-mlogloss:0.808379\n",
      "[600]\tvalidation_0-mlogloss:0.80833\n",
      "[601]\tvalidation_0-mlogloss:0.808275\n",
      "[602]\tvalidation_0-mlogloss:0.808174\n",
      "[603]\tvalidation_0-mlogloss:0.80815\n",
      "[604]\tvalidation_0-mlogloss:0.808104\n",
      "[605]\tvalidation_0-mlogloss:0.808002\n",
      "[606]\tvalidation_0-mlogloss:0.807947\n",
      "[607]\tvalidation_0-mlogloss:0.8079\n",
      "[608]\tvalidation_0-mlogloss:0.807851\n",
      "[609]\tvalidation_0-mlogloss:0.807779\n",
      "[610]\tvalidation_0-mlogloss:0.807758\n",
      "[611]\tvalidation_0-mlogloss:0.807695\n",
      "[612]\tvalidation_0-mlogloss:0.807661\n",
      "[613]\tvalidation_0-mlogloss:0.807571\n",
      "[614]\tvalidation_0-mlogloss:0.807537\n",
      "[615]\tvalidation_0-mlogloss:0.807495\n",
      "[616]\tvalidation_0-mlogloss:0.807454\n",
      "[617]\tvalidation_0-mlogloss:0.807461\n",
      "[618]\tvalidation_0-mlogloss:0.807402\n",
      "[619]\tvalidation_0-mlogloss:0.807381\n",
      "[620]\tvalidation_0-mlogloss:0.807356\n",
      "[621]\tvalidation_0-mlogloss:0.807334\n",
      "[622]\tvalidation_0-mlogloss:0.807321\n",
      "[623]\tvalidation_0-mlogloss:0.807279\n",
      "[624]\tvalidation_0-mlogloss:0.80722\n",
      "[625]\tvalidation_0-mlogloss:0.807204\n",
      "[626]\tvalidation_0-mlogloss:0.807168\n",
      "[627]\tvalidation_0-mlogloss:0.80711\n",
      "[628]\tvalidation_0-mlogloss:0.807067\n",
      "[629]\tvalidation_0-mlogloss:0.80697\n",
      "[630]\tvalidation_0-mlogloss:0.806957\n",
      "[631]\tvalidation_0-mlogloss:0.806868\n",
      "[632]\tvalidation_0-mlogloss:0.806814\n",
      "[633]\tvalidation_0-mlogloss:0.806668\n",
      "[634]\tvalidation_0-mlogloss:0.806637\n",
      "[635]\tvalidation_0-mlogloss:0.806552\n",
      "[636]\tvalidation_0-mlogloss:0.80644\n",
      "[637]\tvalidation_0-mlogloss:0.80646\n",
      "[638]\tvalidation_0-mlogloss:0.806368\n",
      "[639]\tvalidation_0-mlogloss:0.806259\n",
      "[640]\tvalidation_0-mlogloss:0.806189\n",
      "[641]\tvalidation_0-mlogloss:0.806146\n",
      "[642]\tvalidation_0-mlogloss:0.806133\n",
      "[643]\tvalidation_0-mlogloss:0.806108\n",
      "[644]\tvalidation_0-mlogloss:0.806062\n",
      "[645]\tvalidation_0-mlogloss:0.806027\n",
      "[646]\tvalidation_0-mlogloss:0.805978\n",
      "[647]\tvalidation_0-mlogloss:0.805896\n",
      "[648]\tvalidation_0-mlogloss:0.805896\n",
      "[649]\tvalidation_0-mlogloss:0.805793\n",
      "[650]\tvalidation_0-mlogloss:0.805799\n",
      "[651]\tvalidation_0-mlogloss:0.805696\n",
      "[652]\tvalidation_0-mlogloss:0.805647\n",
      "[653]\tvalidation_0-mlogloss:0.805456\n",
      "[654]\tvalidation_0-mlogloss:0.805369\n",
      "[655]\tvalidation_0-mlogloss:0.80533\n",
      "[656]\tvalidation_0-mlogloss:0.805318\n",
      "[657]\tvalidation_0-mlogloss:0.805331\n",
      "[658]\tvalidation_0-mlogloss:0.805259\n",
      "[659]\tvalidation_0-mlogloss:0.80519\n",
      "[660]\tvalidation_0-mlogloss:0.805161\n",
      "[661]\tvalidation_0-mlogloss:0.80514\n",
      "[662]\tvalidation_0-mlogloss:0.805068\n",
      "[663]\tvalidation_0-mlogloss:0.804983\n",
      "[664]\tvalidation_0-mlogloss:0.804896\n",
      "[665]\tvalidation_0-mlogloss:0.804864\n",
      "[666]\tvalidation_0-mlogloss:0.804789\n",
      "[667]\tvalidation_0-mlogloss:0.804764\n",
      "[668]\tvalidation_0-mlogloss:0.804742\n",
      "[669]\tvalidation_0-mlogloss:0.80468\n"
     ]
    },
    {
     "name": "stdout",
     "output_type": "stream",
     "text": [
      "[670]\tvalidation_0-mlogloss:0.804616\n",
      "[671]\tvalidation_0-mlogloss:0.804563\n",
      "[672]\tvalidation_0-mlogloss:0.804481\n",
      "[673]\tvalidation_0-mlogloss:0.804399\n",
      "[674]\tvalidation_0-mlogloss:0.804317\n",
      "[675]\tvalidation_0-mlogloss:0.804327\n",
      "[676]\tvalidation_0-mlogloss:0.804211\n",
      "[677]\tvalidation_0-mlogloss:0.804109\n",
      "[678]\tvalidation_0-mlogloss:0.80403\n",
      "[679]\tvalidation_0-mlogloss:0.803917\n",
      "[680]\tvalidation_0-mlogloss:0.803802\n",
      "[681]\tvalidation_0-mlogloss:0.803696\n",
      "[682]\tvalidation_0-mlogloss:0.803615\n",
      "[683]\tvalidation_0-mlogloss:0.803501\n",
      "[684]\tvalidation_0-mlogloss:0.803403\n",
      "[685]\tvalidation_0-mlogloss:0.80342\n",
      "[686]\tvalidation_0-mlogloss:0.803387\n",
      "[687]\tvalidation_0-mlogloss:0.803287\n",
      "[688]\tvalidation_0-mlogloss:0.803238\n",
      "[689]\tvalidation_0-mlogloss:0.803186\n",
      "[690]\tvalidation_0-mlogloss:0.803148\n",
      "[691]\tvalidation_0-mlogloss:0.803139\n",
      "[692]\tvalidation_0-mlogloss:0.803026\n",
      "[693]\tvalidation_0-mlogloss:0.802978\n",
      "[694]\tvalidation_0-mlogloss:0.802944\n",
      "[695]\tvalidation_0-mlogloss:0.802898\n",
      "[696]\tvalidation_0-mlogloss:0.80284\n",
      "[697]\tvalidation_0-mlogloss:0.802779\n",
      "[698]\tvalidation_0-mlogloss:0.802662\n",
      "[699]\tvalidation_0-mlogloss:0.802567\n",
      "[700]\tvalidation_0-mlogloss:0.80254\n",
      "[701]\tvalidation_0-mlogloss:0.802551\n",
      "[702]\tvalidation_0-mlogloss:0.802488\n",
      "[703]\tvalidation_0-mlogloss:0.802493\n",
      "[704]\tvalidation_0-mlogloss:0.802389\n",
      "[705]\tvalidation_0-mlogloss:0.802354\n",
      "[706]\tvalidation_0-mlogloss:0.802331\n",
      "[707]\tvalidation_0-mlogloss:0.802293\n",
      "[708]\tvalidation_0-mlogloss:0.802268\n",
      "[709]\tvalidation_0-mlogloss:0.802193\n",
      "[710]\tvalidation_0-mlogloss:0.802117\n",
      "[711]\tvalidation_0-mlogloss:0.802058\n",
      "[712]\tvalidation_0-mlogloss:0.801942\n",
      "[713]\tvalidation_0-mlogloss:0.80188\n",
      "[714]\tvalidation_0-mlogloss:0.801841\n",
      "[715]\tvalidation_0-mlogloss:0.801794\n",
      "[716]\tvalidation_0-mlogloss:0.801673\n",
      "[717]\tvalidation_0-mlogloss:0.80166\n",
      "[718]\tvalidation_0-mlogloss:0.801611\n",
      "[719]\tvalidation_0-mlogloss:0.801517\n",
      "[720]\tvalidation_0-mlogloss:0.801473\n",
      "[721]\tvalidation_0-mlogloss:0.801428\n",
      "[722]\tvalidation_0-mlogloss:0.801369\n",
      "[723]\tvalidation_0-mlogloss:0.801344\n",
      "[724]\tvalidation_0-mlogloss:0.801249\n",
      "[725]\tvalidation_0-mlogloss:0.801241\n",
      "[726]\tvalidation_0-mlogloss:0.801169\n",
      "[727]\tvalidation_0-mlogloss:0.801109\n",
      "[728]\tvalidation_0-mlogloss:0.801098\n",
      "[729]\tvalidation_0-mlogloss:0.800983\n",
      "[730]\tvalidation_0-mlogloss:0.800942\n",
      "[731]\tvalidation_0-mlogloss:0.800884\n",
      "[732]\tvalidation_0-mlogloss:0.800887\n",
      "[733]\tvalidation_0-mlogloss:0.800869\n",
      "[734]\tvalidation_0-mlogloss:0.800805\n",
      "[735]\tvalidation_0-mlogloss:0.800741\n",
      "[736]\tvalidation_0-mlogloss:0.800711\n",
      "[737]\tvalidation_0-mlogloss:0.800666\n",
      "[738]\tvalidation_0-mlogloss:0.800579\n",
      "[739]\tvalidation_0-mlogloss:0.800458\n",
      "[740]\tvalidation_0-mlogloss:0.800381\n",
      "[741]\tvalidation_0-mlogloss:0.800314\n",
      "[742]\tvalidation_0-mlogloss:0.800264\n",
      "[743]\tvalidation_0-mlogloss:0.800253\n",
      "[744]\tvalidation_0-mlogloss:0.800241\n",
      "[745]\tvalidation_0-mlogloss:0.800121\n",
      "[746]\tvalidation_0-mlogloss:0.800093\n",
      "[747]\tvalidation_0-mlogloss:0.800117\n",
      "[748]\tvalidation_0-mlogloss:0.800087\n",
      "[749]\tvalidation_0-mlogloss:0.800102\n",
      "[750]\tvalidation_0-mlogloss:0.800033\n",
      "[751]\tvalidation_0-mlogloss:0.8\n",
      "[752]\tvalidation_0-mlogloss:0.799971\n",
      "[753]\tvalidation_0-mlogloss:0.799983\n",
      "[754]\tvalidation_0-mlogloss:0.799939\n",
      "[755]\tvalidation_0-mlogloss:0.799926\n",
      "[756]\tvalidation_0-mlogloss:0.799795\n",
      "[757]\tvalidation_0-mlogloss:0.799722\n",
      "[758]\tvalidation_0-mlogloss:0.799695\n",
      "[759]\tvalidation_0-mlogloss:0.79971\n",
      "[760]\tvalidation_0-mlogloss:0.799656\n",
      "[761]\tvalidation_0-mlogloss:0.799616\n",
      "[762]\tvalidation_0-mlogloss:0.799541\n",
      "[763]\tvalidation_0-mlogloss:0.799503\n",
      "[764]\tvalidation_0-mlogloss:0.799477\n",
      "[765]\tvalidation_0-mlogloss:0.799401\n",
      "[766]\tvalidation_0-mlogloss:0.799342\n",
      "[767]\tvalidation_0-mlogloss:0.799235\n",
      "[768]\tvalidation_0-mlogloss:0.799205\n",
      "[769]\tvalidation_0-mlogloss:0.799071\n",
      "[770]\tvalidation_0-mlogloss:0.798995\n",
      "[771]\tvalidation_0-mlogloss:0.798965\n",
      "[772]\tvalidation_0-mlogloss:0.798887\n",
      "[773]\tvalidation_0-mlogloss:0.798898\n",
      "[774]\tvalidation_0-mlogloss:0.798806\n",
      "[775]\tvalidation_0-mlogloss:0.798795\n",
      "[776]\tvalidation_0-mlogloss:0.798761\n",
      "[777]\tvalidation_0-mlogloss:0.798699\n",
      "[778]\tvalidation_0-mlogloss:0.798682\n",
      "[779]\tvalidation_0-mlogloss:0.798645\n",
      "[780]\tvalidation_0-mlogloss:0.798623\n",
      "[781]\tvalidation_0-mlogloss:0.798615\n",
      "[782]\tvalidation_0-mlogloss:0.798566\n",
      "[783]\tvalidation_0-mlogloss:0.798582\n",
      "[784]\tvalidation_0-mlogloss:0.798522\n",
      "[785]\tvalidation_0-mlogloss:0.798496\n",
      "[786]\tvalidation_0-mlogloss:0.798467\n",
      "[787]\tvalidation_0-mlogloss:0.798398\n",
      "[788]\tvalidation_0-mlogloss:0.798348\n",
      "[789]\tvalidation_0-mlogloss:0.798328\n",
      "[790]\tvalidation_0-mlogloss:0.798294\n",
      "[791]\tvalidation_0-mlogloss:0.798294\n",
      "[792]\tvalidation_0-mlogloss:0.798265\n",
      "[793]\tvalidation_0-mlogloss:0.798214\n",
      "[794]\tvalidation_0-mlogloss:0.798205\n",
      "[795]\tvalidation_0-mlogloss:0.798182\n",
      "[796]\tvalidation_0-mlogloss:0.79813\n",
      "[797]\tvalidation_0-mlogloss:0.798107\n",
      "[798]\tvalidation_0-mlogloss:0.798057\n",
      "[799]\tvalidation_0-mlogloss:0.798035\n",
      "[800]\tvalidation_0-mlogloss:0.79799\n",
      "[801]\tvalidation_0-mlogloss:0.797958\n",
      "[802]\tvalidation_0-mlogloss:0.7979\n",
      "[803]\tvalidation_0-mlogloss:0.797916\n",
      "[804]\tvalidation_0-mlogloss:0.797855\n",
      "[805]\tvalidation_0-mlogloss:0.797861\n",
      "[806]\tvalidation_0-mlogloss:0.797785\n",
      "[807]\tvalidation_0-mlogloss:0.797758\n",
      "[808]\tvalidation_0-mlogloss:0.797737\n",
      "[809]\tvalidation_0-mlogloss:0.797666\n",
      "[810]\tvalidation_0-mlogloss:0.797646\n",
      "[811]\tvalidation_0-mlogloss:0.797587\n",
      "[812]\tvalidation_0-mlogloss:0.797607\n",
      "[813]\tvalidation_0-mlogloss:0.797591\n",
      "[814]\tvalidation_0-mlogloss:0.797453\n",
      "[815]\tvalidation_0-mlogloss:0.797436\n",
      "[816]\tvalidation_0-mlogloss:0.797364\n",
      "[817]\tvalidation_0-mlogloss:0.797337\n",
      "[818]\tvalidation_0-mlogloss:0.797199\n",
      "[819]\tvalidation_0-mlogloss:0.797173\n",
      "[820]\tvalidation_0-mlogloss:0.79715\n",
      "[821]\tvalidation_0-mlogloss:0.797144\n",
      "[822]\tvalidation_0-mlogloss:0.797106\n",
      "[823]\tvalidation_0-mlogloss:0.797107\n",
      "[824]\tvalidation_0-mlogloss:0.797074\n",
      "[825]\tvalidation_0-mlogloss:0.797018\n",
      "[826]\tvalidation_0-mlogloss:0.796967\n",
      "[827]\tvalidation_0-mlogloss:0.796944\n",
      "[828]\tvalidation_0-mlogloss:0.796912\n",
      "[829]\tvalidation_0-mlogloss:0.79688\n",
      "[830]\tvalidation_0-mlogloss:0.79677\n",
      "[831]\tvalidation_0-mlogloss:0.79675\n",
      "[832]\tvalidation_0-mlogloss:0.796679\n",
      "[833]\tvalidation_0-mlogloss:0.796666\n",
      "[834]\tvalidation_0-mlogloss:0.796605\n",
      "[835]\tvalidation_0-mlogloss:0.796494\n",
      "[836]\tvalidation_0-mlogloss:0.796443\n",
      "[837]\tvalidation_0-mlogloss:0.796442\n",
      "[838]\tvalidation_0-mlogloss:0.796418\n",
      "[839]\tvalidation_0-mlogloss:0.796358\n",
      "[840]\tvalidation_0-mlogloss:0.796317\n",
      "[841]\tvalidation_0-mlogloss:0.796252\n",
      "[842]\tvalidation_0-mlogloss:0.796199\n",
      "[843]\tvalidation_0-mlogloss:0.796167\n",
      "[844]\tvalidation_0-mlogloss:0.796066\n",
      "[845]\tvalidation_0-mlogloss:0.795936\n",
      "[846]\tvalidation_0-mlogloss:0.795835\n",
      "[847]\tvalidation_0-mlogloss:0.795756\n",
      "[848]\tvalidation_0-mlogloss:0.795695\n",
      "[849]\tvalidation_0-mlogloss:0.795655\n",
      "[850]\tvalidation_0-mlogloss:0.795629\n",
      "[851]\tvalidation_0-mlogloss:0.795608\n",
      "[852]\tvalidation_0-mlogloss:0.795556\n",
      "[853]\tvalidation_0-mlogloss:0.795561\n",
      "[854]\tvalidation_0-mlogloss:0.795553\n",
      "[855]\tvalidation_0-mlogloss:0.79554\n",
      "[856]\tvalidation_0-mlogloss:0.795514\n",
      "[857]\tvalidation_0-mlogloss:0.795428\n",
      "[858]\tvalidation_0-mlogloss:0.795332\n",
      "[859]\tvalidation_0-mlogloss:0.795309\n",
      "[860]\tvalidation_0-mlogloss:0.79526\n",
      "[861]\tvalidation_0-mlogloss:0.795166\n",
      "[862]\tvalidation_0-mlogloss:0.795093\n",
      "[863]\tvalidation_0-mlogloss:0.795062\n",
      "[864]\tvalidation_0-mlogloss:0.794986\n",
      "[865]\tvalidation_0-mlogloss:0.794937\n",
      "[866]\tvalidation_0-mlogloss:0.794883\n",
      "[867]\tvalidation_0-mlogloss:0.794879\n",
      "[868]\tvalidation_0-mlogloss:0.794836\n",
      "[869]\tvalidation_0-mlogloss:0.794776\n",
      "[870]\tvalidation_0-mlogloss:0.794743\n",
      "[871]\tvalidation_0-mlogloss:0.79476\n",
      "[872]\tvalidation_0-mlogloss:0.794649\n",
      "[873]\tvalidation_0-mlogloss:0.794583\n",
      "[874]\tvalidation_0-mlogloss:0.794495\n",
      "[875]\tvalidation_0-mlogloss:0.794435\n",
      "[876]\tvalidation_0-mlogloss:0.794356\n",
      "[877]\tvalidation_0-mlogloss:0.794309\n",
      "[878]\tvalidation_0-mlogloss:0.794309\n",
      "[879]\tvalidation_0-mlogloss:0.794335\n",
      "[880]\tvalidation_0-mlogloss:0.794339\n",
      "[881]\tvalidation_0-mlogloss:0.794274\n",
      "[882]\tvalidation_0-mlogloss:0.794221\n",
      "[883]\tvalidation_0-mlogloss:0.794241\n",
      "[884]\tvalidation_0-mlogloss:0.794276\n",
      "[885]\tvalidation_0-mlogloss:0.794343\n",
      "[886]\tvalidation_0-mlogloss:0.794306\n",
      "[887]\tvalidation_0-mlogloss:0.794333\n",
      "[888]\tvalidation_0-mlogloss:0.79438\n",
      "[889]\tvalidation_0-mlogloss:0.794358\n",
      "[890]\tvalidation_0-mlogloss:0.794283\n",
      "[891]\tvalidation_0-mlogloss:0.79417\n",
      "[892]\tvalidation_0-mlogloss:0.794111\n"
     ]
    },
    {
     "name": "stdout",
     "output_type": "stream",
     "text": [
      "[893]\tvalidation_0-mlogloss:0.794036\n",
      "[894]\tvalidation_0-mlogloss:0.794014\n",
      "[895]\tvalidation_0-mlogloss:0.794042\n",
      "[896]\tvalidation_0-mlogloss:0.794029\n",
      "[897]\tvalidation_0-mlogloss:0.794019\n",
      "[898]\tvalidation_0-mlogloss:0.793989\n",
      "[899]\tvalidation_0-mlogloss:0.793982\n",
      "[900]\tvalidation_0-mlogloss:0.793953\n",
      "[901]\tvalidation_0-mlogloss:0.793956\n",
      "[902]\tvalidation_0-mlogloss:0.793927\n",
      "[903]\tvalidation_0-mlogloss:0.79387\n",
      "[904]\tvalidation_0-mlogloss:0.793841\n",
      "[905]\tvalidation_0-mlogloss:0.793829\n",
      "[906]\tvalidation_0-mlogloss:0.793721\n",
      "[907]\tvalidation_0-mlogloss:0.793706\n",
      "[908]\tvalidation_0-mlogloss:0.793697\n",
      "[909]\tvalidation_0-mlogloss:0.793711\n",
      "[910]\tvalidation_0-mlogloss:0.793714\n",
      "[911]\tvalidation_0-mlogloss:0.79374\n",
      "[912]\tvalidation_0-mlogloss:0.79373\n",
      "[913]\tvalidation_0-mlogloss:0.793723\n",
      "[914]\tvalidation_0-mlogloss:0.793719\n",
      "[915]\tvalidation_0-mlogloss:0.79369\n",
      "[916]\tvalidation_0-mlogloss:0.793683\n",
      "[917]\tvalidation_0-mlogloss:0.793604\n",
      "[918]\tvalidation_0-mlogloss:0.793645\n",
      "[919]\tvalidation_0-mlogloss:0.793615\n",
      "[920]\tvalidation_0-mlogloss:0.793584\n",
      "[921]\tvalidation_0-mlogloss:0.793565\n",
      "[922]\tvalidation_0-mlogloss:0.793514\n",
      "[923]\tvalidation_0-mlogloss:0.793471\n",
      "[924]\tvalidation_0-mlogloss:0.793479\n",
      "[925]\tvalidation_0-mlogloss:0.793422\n",
      "[926]\tvalidation_0-mlogloss:0.793427\n",
      "[927]\tvalidation_0-mlogloss:0.793362\n",
      "[928]\tvalidation_0-mlogloss:0.793319\n",
      "[929]\tvalidation_0-mlogloss:0.793318\n",
      "[930]\tvalidation_0-mlogloss:0.793224\n",
      "[931]\tvalidation_0-mlogloss:0.793115\n",
      "[932]\tvalidation_0-mlogloss:0.793069\n",
      "[933]\tvalidation_0-mlogloss:0.793031\n",
      "[934]\tvalidation_0-mlogloss:0.793015\n",
      "[935]\tvalidation_0-mlogloss:0.792962\n",
      "[936]\tvalidation_0-mlogloss:0.79293\n",
      "[937]\tvalidation_0-mlogloss:0.792934\n",
      "[938]\tvalidation_0-mlogloss:0.792894\n",
      "[939]\tvalidation_0-mlogloss:0.792839\n",
      "[940]\tvalidation_0-mlogloss:0.792838\n",
      "[941]\tvalidation_0-mlogloss:0.792786\n",
      "[942]\tvalidation_0-mlogloss:0.792777\n",
      "[943]\tvalidation_0-mlogloss:0.792724\n",
      "[944]\tvalidation_0-mlogloss:0.792676\n",
      "[945]\tvalidation_0-mlogloss:0.792724\n",
      "[946]\tvalidation_0-mlogloss:0.792797\n",
      "[947]\tvalidation_0-mlogloss:0.792777\n",
      "[948]\tvalidation_0-mlogloss:0.792751\n",
      "[949]\tvalidation_0-mlogloss:0.792661\n",
      "[950]\tvalidation_0-mlogloss:0.79262\n",
      "[951]\tvalidation_0-mlogloss:0.792563\n",
      "[952]\tvalidation_0-mlogloss:0.792568\n",
      "[953]\tvalidation_0-mlogloss:0.792525\n",
      "[954]\tvalidation_0-mlogloss:0.792445\n",
      "[955]\tvalidation_0-mlogloss:0.792478\n",
      "[956]\tvalidation_0-mlogloss:0.792483\n",
      "[957]\tvalidation_0-mlogloss:0.792444\n",
      "[958]\tvalidation_0-mlogloss:0.792423\n",
      "[959]\tvalidation_0-mlogloss:0.792387\n",
      "[960]\tvalidation_0-mlogloss:0.79233\n",
      "[961]\tvalidation_0-mlogloss:0.792275\n",
      "[962]\tvalidation_0-mlogloss:0.792238\n",
      "[963]\tvalidation_0-mlogloss:0.79222\n",
      "[964]\tvalidation_0-mlogloss:0.792177\n",
      "[965]\tvalidation_0-mlogloss:0.792171\n",
      "[966]\tvalidation_0-mlogloss:0.792132\n",
      "[967]\tvalidation_0-mlogloss:0.792085\n",
      "[968]\tvalidation_0-mlogloss:0.792066\n",
      "[969]\tvalidation_0-mlogloss:0.792013\n",
      "[970]\tvalidation_0-mlogloss:0.79198\n",
      "[971]\tvalidation_0-mlogloss:0.791982\n",
      "[972]\tvalidation_0-mlogloss:0.791955\n",
      "[973]\tvalidation_0-mlogloss:0.792009\n",
      "[974]\tvalidation_0-mlogloss:0.791997\n",
      "[975]\tvalidation_0-mlogloss:0.791928\n",
      "[976]\tvalidation_0-mlogloss:0.791941\n",
      "[977]\tvalidation_0-mlogloss:0.79191\n",
      "[978]\tvalidation_0-mlogloss:0.79187\n",
      "[979]\tvalidation_0-mlogloss:0.791804\n",
      "[980]\tvalidation_0-mlogloss:0.791796\n",
      "[981]\tvalidation_0-mlogloss:0.791778\n",
      "[982]\tvalidation_0-mlogloss:0.791775\n",
      "[983]\tvalidation_0-mlogloss:0.791711\n",
      "[984]\tvalidation_0-mlogloss:0.791726\n",
      "[985]\tvalidation_0-mlogloss:0.791707\n",
      "[986]\tvalidation_0-mlogloss:0.791727\n",
      "[987]\tvalidation_0-mlogloss:0.791704\n",
      "[988]\tvalidation_0-mlogloss:0.791664\n",
      "[989]\tvalidation_0-mlogloss:0.791662\n",
      "[990]\tvalidation_0-mlogloss:0.791628\n",
      "[991]\tvalidation_0-mlogloss:0.791565\n",
      "[992]\tvalidation_0-mlogloss:0.791539\n",
      "[993]\tvalidation_0-mlogloss:0.791535\n",
      "[994]\tvalidation_0-mlogloss:0.791522\n",
      "[995]\tvalidation_0-mlogloss:0.791476\n",
      "[996]\tvalidation_0-mlogloss:0.791425\n",
      "[997]\tvalidation_0-mlogloss:0.791433\n",
      "[998]\tvalidation_0-mlogloss:0.791412\n",
      "[999]\tvalidation_0-mlogloss:0.791409\n",
      "[1000]\tvalidation_0-mlogloss:0.791384\n",
      "[1001]\tvalidation_0-mlogloss:0.791392\n",
      "[1002]\tvalidation_0-mlogloss:0.79134\n",
      "[1003]\tvalidation_0-mlogloss:0.791317\n",
      "[1004]\tvalidation_0-mlogloss:0.791242\n",
      "[1005]\tvalidation_0-mlogloss:0.791234\n",
      "[1006]\tvalidation_0-mlogloss:0.791225\n",
      "[1007]\tvalidation_0-mlogloss:0.791193\n",
      "[1008]\tvalidation_0-mlogloss:0.791169\n",
      "[1009]\tvalidation_0-mlogloss:0.791142\n",
      "[1010]\tvalidation_0-mlogloss:0.791129\n",
      "[1011]\tvalidation_0-mlogloss:0.791179\n",
      "[1012]\tvalidation_0-mlogloss:0.791162\n",
      "[1013]\tvalidation_0-mlogloss:0.791126\n",
      "[1014]\tvalidation_0-mlogloss:0.791093\n",
      "[1015]\tvalidation_0-mlogloss:0.791048\n",
      "[1016]\tvalidation_0-mlogloss:0.791011\n",
      "[1017]\tvalidation_0-mlogloss:0.790972\n",
      "[1018]\tvalidation_0-mlogloss:0.790961\n",
      "[1019]\tvalidation_0-mlogloss:0.790938\n",
      "[1020]\tvalidation_0-mlogloss:0.79092\n",
      "[1021]\tvalidation_0-mlogloss:0.790917\n",
      "[1022]\tvalidation_0-mlogloss:0.790902\n",
      "[1023]\tvalidation_0-mlogloss:0.790893\n",
      "[1024]\tvalidation_0-mlogloss:0.790914\n",
      "[1025]\tvalidation_0-mlogloss:0.790887\n",
      "[1026]\tvalidation_0-mlogloss:0.790848\n",
      "[1027]\tvalidation_0-mlogloss:0.790827\n",
      "[1028]\tvalidation_0-mlogloss:0.790773\n",
      "[1029]\tvalidation_0-mlogloss:0.790736\n",
      "[1030]\tvalidation_0-mlogloss:0.790701\n",
      "[1031]\tvalidation_0-mlogloss:0.790717\n",
      "[1032]\tvalidation_0-mlogloss:0.790742\n",
      "[1033]\tvalidation_0-mlogloss:0.790744\n",
      "[1034]\tvalidation_0-mlogloss:0.790737\n",
      "[1035]\tvalidation_0-mlogloss:0.790728\n",
      "[1036]\tvalidation_0-mlogloss:0.790666\n",
      "[1037]\tvalidation_0-mlogloss:0.790672\n",
      "[1038]\tvalidation_0-mlogloss:0.790661\n",
      "[1039]\tvalidation_0-mlogloss:0.79073\n",
      "[1040]\tvalidation_0-mlogloss:0.790733\n",
      "[1041]\tvalidation_0-mlogloss:0.790721\n",
      "[1042]\tvalidation_0-mlogloss:0.790623\n",
      "[1043]\tvalidation_0-mlogloss:0.790606\n",
      "[1044]\tvalidation_0-mlogloss:0.790565\n",
      "[1045]\tvalidation_0-mlogloss:0.790529\n",
      "[1046]\tvalidation_0-mlogloss:0.790475\n",
      "[1047]\tvalidation_0-mlogloss:0.790446\n",
      "[1048]\tvalidation_0-mlogloss:0.790429\n",
      "[1049]\tvalidation_0-mlogloss:0.790378\n",
      "[1050]\tvalidation_0-mlogloss:0.790372\n",
      "[1051]\tvalidation_0-mlogloss:0.79035\n",
      "[1052]\tvalidation_0-mlogloss:0.790334\n",
      "[1053]\tvalidation_0-mlogloss:0.790315\n",
      "[1054]\tvalidation_0-mlogloss:0.790328\n",
      "[1055]\tvalidation_0-mlogloss:0.790303\n",
      "[1056]\tvalidation_0-mlogloss:0.790244\n",
      "[1057]\tvalidation_0-mlogloss:0.790224\n",
      "[1058]\tvalidation_0-mlogloss:0.790196\n",
      "[1059]\tvalidation_0-mlogloss:0.790115\n",
      "[1060]\tvalidation_0-mlogloss:0.790038\n",
      "[1061]\tvalidation_0-mlogloss:0.789997\n",
      "[1062]\tvalidation_0-mlogloss:0.790011\n",
      "[1063]\tvalidation_0-mlogloss:0.789993\n",
      "[1064]\tvalidation_0-mlogloss:0.789941\n",
      "[1065]\tvalidation_0-mlogloss:0.789923\n",
      "[1066]\tvalidation_0-mlogloss:0.789916\n",
      "[1067]\tvalidation_0-mlogloss:0.789855\n",
      "[1068]\tvalidation_0-mlogloss:0.789863\n",
      "[1069]\tvalidation_0-mlogloss:0.789876\n",
      "[1070]\tvalidation_0-mlogloss:0.789863\n",
      "[1071]\tvalidation_0-mlogloss:0.789805\n",
      "[1072]\tvalidation_0-mlogloss:0.789785\n",
      "[1073]\tvalidation_0-mlogloss:0.78978\n",
      "[1074]\tvalidation_0-mlogloss:0.78976\n",
      "[1075]\tvalidation_0-mlogloss:0.789745\n",
      "[1076]\tvalidation_0-mlogloss:0.789706\n",
      "[1077]\tvalidation_0-mlogloss:0.789696\n",
      "[1078]\tvalidation_0-mlogloss:0.789613\n",
      "[1079]\tvalidation_0-mlogloss:0.789554\n",
      "[1080]\tvalidation_0-mlogloss:0.789513\n",
      "[1081]\tvalidation_0-mlogloss:0.789485\n",
      "[1082]\tvalidation_0-mlogloss:0.789532\n",
      "[1083]\tvalidation_0-mlogloss:0.789463\n",
      "[1084]\tvalidation_0-mlogloss:0.789458\n",
      "[1085]\tvalidation_0-mlogloss:0.789427\n",
      "[1086]\tvalidation_0-mlogloss:0.789387\n",
      "[1087]\tvalidation_0-mlogloss:0.789337\n",
      "[1088]\tvalidation_0-mlogloss:0.789329\n",
      "[1089]\tvalidation_0-mlogloss:0.789308\n",
      "[1090]\tvalidation_0-mlogloss:0.789288\n",
      "[1091]\tvalidation_0-mlogloss:0.789312\n",
      "[1092]\tvalidation_0-mlogloss:0.789289\n",
      "[1093]\tvalidation_0-mlogloss:0.789292\n",
      "[1094]\tvalidation_0-mlogloss:0.789312\n",
      "[1095]\tvalidation_0-mlogloss:0.789284\n",
      "[1096]\tvalidation_0-mlogloss:0.789247\n",
      "[1097]\tvalidation_0-mlogloss:0.789228\n",
      "[1098]\tvalidation_0-mlogloss:0.7892\n",
      "[1099]\tvalidation_0-mlogloss:0.789206\n",
      "[1100]\tvalidation_0-mlogloss:0.789228\n",
      "[1101]\tvalidation_0-mlogloss:0.789234\n",
      "[1102]\tvalidation_0-mlogloss:0.789243\n",
      "[1103]\tvalidation_0-mlogloss:0.789205\n",
      "[1104]\tvalidation_0-mlogloss:0.789202\n",
      "[1105]\tvalidation_0-mlogloss:0.78923\n",
      "[1106]\tvalidation_0-mlogloss:0.789239\n",
      "[1107]\tvalidation_0-mlogloss:0.789155\n",
      "[1108]\tvalidation_0-mlogloss:0.78916\n",
      "[1109]\tvalidation_0-mlogloss:0.789169\n",
      "[1110]\tvalidation_0-mlogloss:0.789172\n",
      "[1111]\tvalidation_0-mlogloss:0.78917\n"
     ]
    },
    {
     "name": "stdout",
     "output_type": "stream",
     "text": [
      "[1112]\tvalidation_0-mlogloss:0.789155\n",
      "[1113]\tvalidation_0-mlogloss:0.789197\n",
      "[1114]\tvalidation_0-mlogloss:0.789212\n",
      "[1115]\tvalidation_0-mlogloss:0.78922\n",
      "[1116]\tvalidation_0-mlogloss:0.78916\n",
      "[1117]\tvalidation_0-mlogloss:0.789106\n",
      "[1118]\tvalidation_0-mlogloss:0.789087\n",
      "[1119]\tvalidation_0-mlogloss:0.789088\n",
      "[1120]\tvalidation_0-mlogloss:0.789011\n",
      "[1121]\tvalidation_0-mlogloss:0.788983\n",
      "[1122]\tvalidation_0-mlogloss:0.788873\n",
      "[1123]\tvalidation_0-mlogloss:0.788868\n",
      "[1124]\tvalidation_0-mlogloss:0.78887\n",
      "[1125]\tvalidation_0-mlogloss:0.788888\n",
      "[1126]\tvalidation_0-mlogloss:0.788847\n",
      "[1127]\tvalidation_0-mlogloss:0.788893\n",
      "[1128]\tvalidation_0-mlogloss:0.788851\n",
      "[1129]\tvalidation_0-mlogloss:0.788842\n",
      "[1130]\tvalidation_0-mlogloss:0.788818\n",
      "[1131]\tvalidation_0-mlogloss:0.788784\n",
      "[1132]\tvalidation_0-mlogloss:0.788769\n",
      "[1133]\tvalidation_0-mlogloss:0.788768\n",
      "[1134]\tvalidation_0-mlogloss:0.788773\n",
      "[1135]\tvalidation_0-mlogloss:0.788778\n",
      "[1136]\tvalidation_0-mlogloss:0.788768\n",
      "[1137]\tvalidation_0-mlogloss:0.788737\n",
      "[1138]\tvalidation_0-mlogloss:0.788736\n",
      "[1139]\tvalidation_0-mlogloss:0.788729\n",
      "[1140]\tvalidation_0-mlogloss:0.788713\n",
      "[1141]\tvalidation_0-mlogloss:0.788668\n",
      "[1142]\tvalidation_0-mlogloss:0.788607\n",
      "[1143]\tvalidation_0-mlogloss:0.788579\n",
      "[1144]\tvalidation_0-mlogloss:0.788598\n",
      "[1145]\tvalidation_0-mlogloss:0.788588\n",
      "[1146]\tvalidation_0-mlogloss:0.788587\n",
      "[1147]\tvalidation_0-mlogloss:0.78856\n",
      "[1148]\tvalidation_0-mlogloss:0.788519\n",
      "[1149]\tvalidation_0-mlogloss:0.788473\n",
      "[1150]\tvalidation_0-mlogloss:0.788443\n",
      "[1151]\tvalidation_0-mlogloss:0.788452\n",
      "[1152]\tvalidation_0-mlogloss:0.788429\n",
      "[1153]\tvalidation_0-mlogloss:0.788398\n",
      "[1154]\tvalidation_0-mlogloss:0.788351\n",
      "[1155]\tvalidation_0-mlogloss:0.788361\n",
      "[1156]\tvalidation_0-mlogloss:0.788362\n",
      "[1157]\tvalidation_0-mlogloss:0.788328\n",
      "[1158]\tvalidation_0-mlogloss:0.788279\n",
      "[1159]\tvalidation_0-mlogloss:0.788258\n",
      "[1160]\tvalidation_0-mlogloss:0.788235\n",
      "[1161]\tvalidation_0-mlogloss:0.788201\n",
      "[1162]\tvalidation_0-mlogloss:0.788195\n",
      "[1163]\tvalidation_0-mlogloss:0.788175\n",
      "[1164]\tvalidation_0-mlogloss:0.788124\n",
      "[1165]\tvalidation_0-mlogloss:0.788078\n",
      "[1166]\tvalidation_0-mlogloss:0.788049\n",
      "[1167]\tvalidation_0-mlogloss:0.788041\n",
      "[1168]\tvalidation_0-mlogloss:0.788039\n",
      "[1169]\tvalidation_0-mlogloss:0.787954\n",
      "[1170]\tvalidation_0-mlogloss:0.78792\n",
      "[1171]\tvalidation_0-mlogloss:0.787905\n",
      "[1172]\tvalidation_0-mlogloss:0.787887\n",
      "[1173]\tvalidation_0-mlogloss:0.787883\n",
      "[1174]\tvalidation_0-mlogloss:0.787874\n",
      "[1175]\tvalidation_0-mlogloss:0.787869\n",
      "[1176]\tvalidation_0-mlogloss:0.787926\n",
      "[1177]\tvalidation_0-mlogloss:0.787858\n",
      "[1178]\tvalidation_0-mlogloss:0.787868\n",
      "[1179]\tvalidation_0-mlogloss:0.787787\n",
      "[1180]\tvalidation_0-mlogloss:0.787814\n",
      "[1181]\tvalidation_0-mlogloss:0.787816\n",
      "[1182]\tvalidation_0-mlogloss:0.787775\n",
      "[1183]\tvalidation_0-mlogloss:0.787743\n",
      "[1184]\tvalidation_0-mlogloss:0.78773\n",
      "[1185]\tvalidation_0-mlogloss:0.787716\n",
      "[1186]\tvalidation_0-mlogloss:0.787726\n",
      "[1187]\tvalidation_0-mlogloss:0.787771\n",
      "[1188]\tvalidation_0-mlogloss:0.787776\n",
      "[1189]\tvalidation_0-mlogloss:0.787799\n",
      "[1190]\tvalidation_0-mlogloss:0.787808\n",
      "[1191]\tvalidation_0-mlogloss:0.787772\n",
      "[1192]\tvalidation_0-mlogloss:0.787739\n",
      "[1193]\tvalidation_0-mlogloss:0.787767\n",
      "[1194]\tvalidation_0-mlogloss:0.787707\n",
      "[1195]\tvalidation_0-mlogloss:0.787702\n",
      "[1196]\tvalidation_0-mlogloss:0.787675\n",
      "[1197]\tvalidation_0-mlogloss:0.787706\n",
      "[1198]\tvalidation_0-mlogloss:0.78768\n",
      "[1199]\tvalidation_0-mlogloss:0.787665\n",
      "[1200]\tvalidation_0-mlogloss:0.787633\n",
      "[1201]\tvalidation_0-mlogloss:0.787657\n",
      "[1202]\tvalidation_0-mlogloss:0.787616\n",
      "[1203]\tvalidation_0-mlogloss:0.78762\n",
      "[1204]\tvalidation_0-mlogloss:0.787624\n",
      "[1205]\tvalidation_0-mlogloss:0.787618\n",
      "[1206]\tvalidation_0-mlogloss:0.787576\n",
      "[1207]\tvalidation_0-mlogloss:0.787587\n",
      "[1208]\tvalidation_0-mlogloss:0.787626\n",
      "[1209]\tvalidation_0-mlogloss:0.787575\n",
      "[1210]\tvalidation_0-mlogloss:0.78753\n",
      "[1211]\tvalidation_0-mlogloss:0.787485\n",
      "[1212]\tvalidation_0-mlogloss:0.787435\n",
      "[1213]\tvalidation_0-mlogloss:0.787411\n",
      "[1214]\tvalidation_0-mlogloss:0.787433\n",
      "[1215]\tvalidation_0-mlogloss:0.787458\n",
      "[1216]\tvalidation_0-mlogloss:0.787486\n",
      "[1217]\tvalidation_0-mlogloss:0.78747\n",
      "[1218]\tvalidation_0-mlogloss:0.787437\n",
      "[1219]\tvalidation_0-mlogloss:0.787435\n",
      "[1220]\tvalidation_0-mlogloss:0.787409\n",
      "[1221]\tvalidation_0-mlogloss:0.78737\n",
      "[1222]\tvalidation_0-mlogloss:0.787359\n",
      "[1223]\tvalidation_0-mlogloss:0.787311\n",
      "[1224]\tvalidation_0-mlogloss:0.78737\n",
      "[1225]\tvalidation_0-mlogloss:0.787391\n",
      "[1226]\tvalidation_0-mlogloss:0.787339\n",
      "[1227]\tvalidation_0-mlogloss:0.787323\n",
      "[1228]\tvalidation_0-mlogloss:0.787376\n",
      "[1229]\tvalidation_0-mlogloss:0.787387\n",
      "[1230]\tvalidation_0-mlogloss:0.787362\n",
      "[1231]\tvalidation_0-mlogloss:0.787384\n",
      "[1232]\tvalidation_0-mlogloss:0.787388\n",
      "[1233]\tvalidation_0-mlogloss:0.787394\n",
      "[1234]\tvalidation_0-mlogloss:0.787404\n",
      "[1235]\tvalidation_0-mlogloss:0.787374\n",
      "[1236]\tvalidation_0-mlogloss:0.787345\n",
      "[1237]\tvalidation_0-mlogloss:0.787284\n",
      "[1238]\tvalidation_0-mlogloss:0.787253\n",
      "[1239]\tvalidation_0-mlogloss:0.787261\n",
      "[1240]\tvalidation_0-mlogloss:0.7872\n",
      "[1241]\tvalidation_0-mlogloss:0.787179\n",
      "[1242]\tvalidation_0-mlogloss:0.787138\n",
      "[1243]\tvalidation_0-mlogloss:0.787158\n",
      "[1244]\tvalidation_0-mlogloss:0.787137\n",
      "[1245]\tvalidation_0-mlogloss:0.787167\n",
      "[1246]\tvalidation_0-mlogloss:0.78714\n",
      "[1247]\tvalidation_0-mlogloss:0.787124\n",
      "[1248]\tvalidation_0-mlogloss:0.787103\n",
      "[1249]\tvalidation_0-mlogloss:0.787181\n",
      "[1250]\tvalidation_0-mlogloss:0.78715\n",
      "[1251]\tvalidation_0-mlogloss:0.78717\n",
      "[1252]\tvalidation_0-mlogloss:0.787203\n",
      "[1253]\tvalidation_0-mlogloss:0.787231\n",
      "[1254]\tvalidation_0-mlogloss:0.78723\n",
      "[1255]\tvalidation_0-mlogloss:0.787159\n",
      "[1256]\tvalidation_0-mlogloss:0.787114\n",
      "[1257]\tvalidation_0-mlogloss:0.787122\n",
      "[1258]\tvalidation_0-mlogloss:0.787137\n",
      "[1259]\tvalidation_0-mlogloss:0.787109\n",
      "[1260]\tvalidation_0-mlogloss:0.787119\n",
      "[1261]\tvalidation_0-mlogloss:0.787053\n",
      "[1262]\tvalidation_0-mlogloss:0.787027\n",
      "[1263]\tvalidation_0-mlogloss:0.787099\n",
      "[1264]\tvalidation_0-mlogloss:0.787109\n",
      "[1265]\tvalidation_0-mlogloss:0.7871\n",
      "[1266]\tvalidation_0-mlogloss:0.787033\n",
      "[1267]\tvalidation_0-mlogloss:0.787084\n",
      "[1268]\tvalidation_0-mlogloss:0.787101\n",
      "[1269]\tvalidation_0-mlogloss:0.787086\n",
      "[1270]\tvalidation_0-mlogloss:0.787096\n",
      "[1271]\tvalidation_0-mlogloss:0.78711\n",
      "[1272]\tvalidation_0-mlogloss:0.787121\n",
      "[1273]\tvalidation_0-mlogloss:0.787121\n",
      "[1274]\tvalidation_0-mlogloss:0.787145\n",
      "[1275]\tvalidation_0-mlogloss:0.787133\n",
      "[1276]\tvalidation_0-mlogloss:0.787155\n",
      "[1277]\tvalidation_0-mlogloss:0.787136\n",
      "[1278]\tvalidation_0-mlogloss:0.787136\n",
      "[1279]\tvalidation_0-mlogloss:0.787127\n",
      "[1280]\tvalidation_0-mlogloss:0.787126\n",
      "[1281]\tvalidation_0-mlogloss:0.787133\n",
      "[1282]\tvalidation_0-mlogloss:0.787109\n",
      "[1283]\tvalidation_0-mlogloss:0.787105\n",
      "[1284]\tvalidation_0-mlogloss:0.787079\n",
      "[1285]\tvalidation_0-mlogloss:0.787063\n",
      "[1286]\tvalidation_0-mlogloss:0.787057\n",
      "[1287]\tvalidation_0-mlogloss:0.787086\n",
      "[1288]\tvalidation_0-mlogloss:0.787062\n",
      "[1289]\tvalidation_0-mlogloss:0.787032\n",
      "[1290]\tvalidation_0-mlogloss:0.787021\n",
      "[1291]\tvalidation_0-mlogloss:0.787028\n",
      "[1292]\tvalidation_0-mlogloss:0.786983\n",
      "[1293]\tvalidation_0-mlogloss:0.78695\n",
      "[1294]\tvalidation_0-mlogloss:0.786943\n",
      "[1295]\tvalidation_0-mlogloss:0.786943\n",
      "[1296]\tvalidation_0-mlogloss:0.786959\n",
      "[1297]\tvalidation_0-mlogloss:0.78695\n",
      "[1298]\tvalidation_0-mlogloss:0.786936\n",
      "[1299]\tvalidation_0-mlogloss:0.786883\n",
      "[1300]\tvalidation_0-mlogloss:0.786922\n",
      "[1301]\tvalidation_0-mlogloss:0.786894\n",
      "[1302]\tvalidation_0-mlogloss:0.786889\n",
      "[1303]\tvalidation_0-mlogloss:0.786869\n",
      "[1304]\tvalidation_0-mlogloss:0.786888\n",
      "[1305]\tvalidation_0-mlogloss:0.786854\n",
      "[1306]\tvalidation_0-mlogloss:0.786847\n",
      "[1307]\tvalidation_0-mlogloss:0.786863\n",
      "[1308]\tvalidation_0-mlogloss:0.786915\n",
      "[1309]\tvalidation_0-mlogloss:0.786923\n",
      "[1310]\tvalidation_0-mlogloss:0.786938\n",
      "[1311]\tvalidation_0-mlogloss:0.786953\n",
      "[1312]\tvalidation_0-mlogloss:0.786943\n",
      "[1313]\tvalidation_0-mlogloss:0.786975\n",
      "[1314]\tvalidation_0-mlogloss:0.78701\n",
      "[1315]\tvalidation_0-mlogloss:0.787009\n",
      "[1316]\tvalidation_0-mlogloss:0.787075\n",
      "[1317]\tvalidation_0-mlogloss:0.787023\n",
      "[1318]\tvalidation_0-mlogloss:0.787042\n",
      "[1319]\tvalidation_0-mlogloss:0.787037\n",
      "[1320]\tvalidation_0-mlogloss:0.78702\n",
      "[1321]\tvalidation_0-mlogloss:0.787037\n",
      "[1322]\tvalidation_0-mlogloss:0.787008\n",
      "[1323]\tvalidation_0-mlogloss:0.786974\n",
      "[1324]\tvalidation_0-mlogloss:0.786951\n",
      "[1325]\tvalidation_0-mlogloss:0.786928\n",
      "[1326]\tvalidation_0-mlogloss:0.786962\n",
      "[1327]\tvalidation_0-mlogloss:0.786924\n",
      "[1328]\tvalidation_0-mlogloss:0.786932\n"
     ]
    },
    {
     "name": "stdout",
     "output_type": "stream",
     "text": [
      "[1329]\tvalidation_0-mlogloss:0.786952\n",
      "[1330]\tvalidation_0-mlogloss:0.786943\n",
      "[1331]\tvalidation_0-mlogloss:0.786946\n",
      "[1332]\tvalidation_0-mlogloss:0.786933\n",
      "[1333]\tvalidation_0-mlogloss:0.786979\n",
      "[1334]\tvalidation_0-mlogloss:0.786991\n",
      "[1335]\tvalidation_0-mlogloss:0.786974\n",
      "[1336]\tvalidation_0-mlogloss:0.786936\n",
      "[1337]\tvalidation_0-mlogloss:0.786951\n",
      "[1338]\tvalidation_0-mlogloss:0.786925\n",
      "[1339]\tvalidation_0-mlogloss:0.786937\n",
      "[1340]\tvalidation_0-mlogloss:0.78696\n",
      "[1341]\tvalidation_0-mlogloss:0.786985\n",
      "[1342]\tvalidation_0-mlogloss:0.786965\n",
      "[1343]\tvalidation_0-mlogloss:0.786956\n",
      "[1344]\tvalidation_0-mlogloss:0.786982\n",
      "[1345]\tvalidation_0-mlogloss:0.786959\n",
      "[1346]\tvalidation_0-mlogloss:0.786899\n",
      "[1347]\tvalidation_0-mlogloss:0.786885\n",
      "[1348]\tvalidation_0-mlogloss:0.786909\n",
      "[1349]\tvalidation_0-mlogloss:0.786865\n",
      "[1350]\tvalidation_0-mlogloss:0.786865\n",
      "[1351]\tvalidation_0-mlogloss:0.786869\n",
      "[1352]\tvalidation_0-mlogloss:0.786907\n",
      "[1353]\tvalidation_0-mlogloss:0.786889\n",
      "[1354]\tvalidation_0-mlogloss:0.786881\n",
      "[1355]\tvalidation_0-mlogloss:0.786901\n",
      "[1356]\tvalidation_0-mlogloss:0.786905\n",
      "Stopping. Best iteration:\n",
      "[1306]\tvalidation_0-mlogloss:0.786847\n",
      "\n"
     ]
    },
    {
     "data": {
      "text/plain": [
       "XGBClassifier(base_score=0.5, colsample_bylevel=1, colsample_bytree=0.8,\n",
       "       gamma=0, learning_rate=0.01, max_delta_step=0, max_depth=10,\n",
       "       min_child_weight=9, missing=None, n_estimators=1500, nthread=8,\n",
       "       objective='multi:softprob', reg_alpha=0, reg_lambda=1,\n",
       "       scale_pos_weight=1, seed=4242, silent=True, subsample=0.8)"
      ]
     },
     "execution_count": 126,
     "metadata": {},
     "output_type": "execute_result"
    }
   ],
   "source": [
    "clf = xgb.XGBClassifier(max_depth=10, n_estimators=1500,min_child_weight=9,learning_rate=0.01,\n",
    "                       nthread=8, subsample=0.80,colsample_bytree=0.80,seed=4242)\n",
    "\n",
    "#learning rate .05 => 0.98 vgg\n",
    "#learning rate .005 => 0.96 vgg\n",
    "#resnet: 0.81,0.8, 0.01=>0.79,.78 preprocessed-0.87LB\n",
    "clf.fit(trn , y,eval_set=[(val, y_val)], eval_metric='mlogloss', verbose=True, early_stopping_rounds=50)\n",
    "#, eval_set=[(val_x, val_y)]"
   ]
  },
  {
   "cell_type": "code",
   "execution_count": 275,
   "metadata": {
    "hidden": true,
    "scrolled": false
   },
   "outputs": [
    {
     "data": {
      "text/plain": [
       "0.5243243243243243"
      ]
     },
     "execution_count": 275,
     "metadata": {},
     "output_type": "execute_result"
    }
   ],
   "source": [
    "sum(clf.predict(val)==y_val)/len(y_val)"
   ]
  },
  {
   "cell_type": "code",
   "execution_count": 276,
   "metadata": {
    "collapsed": true,
    "hidden": true
   },
   "outputs": [],
   "source": [
    "from sklearn.metrics import log_loss"
   ]
  },
  {
   "cell_type": "code",
   "execution_count": 292,
   "metadata": {
    "collapsed": true,
    "hidden": true
   },
   "outputs": [],
   "source": [
    "y_pred=clf.predict_proba(val)"
   ]
  },
  {
   "cell_type": "code",
   "execution_count": 285,
   "metadata": {
    "hidden": true
   },
   "outputs": [
    {
     "data": {
      "text/plain": [
       "(array([1, 2, 3]), array([1, 2, 3]))"
      ]
     },
     "execution_count": 285,
     "metadata": {},
     "output_type": "execute_result"
    }
   ],
   "source": [
    "np.unique(y_pred),np.unique(y_val)"
   ]
  },
  {
   "cell_type": "code",
   "execution_count": 293,
   "metadata": {
    "hidden": true,
    "scrolled": false
   },
   "outputs": [
    {
     "data": {
      "text/plain": [
       "0.98047145327200758"
      ]
     },
     "execution_count": 293,
     "metadata": {},
     "output_type": "execute_result"
    }
   ],
   "source": [
    "log_loss(y_val,y_pred)"
   ]
  },
  {
   "cell_type": "markdown",
   "metadata": {
    "heading_collapsed": true
   },
   "source": [
    "## submission"
   ]
  },
  {
   "cell_type": "code",
   "execution_count": 78,
   "metadata": {
    "hidden": true
   },
   "outputs": [],
   "source": [
    "from keras.applications.imagenet_utils import preprocess_input"
   ]
  },
  {
   "cell_type": "code",
   "execution_count": 38,
   "metadata": {
    "hidden": true,
    "scrolled": true
   },
   "outputs": [
    {
     "data": {
      "text/plain": [
       "(512, 224, 224, 3)"
      ]
     },
     "execution_count": 38,
     "metadata": {},
     "output_type": "execute_result"
    }
   ],
   "source": [
    "preprocess_input"
   ]
  },
  {
   "cell_type": "markdown",
   "metadata": {
    "hidden": true
   },
   "source": [
    "#### fine tuned section"
   ]
  },
  {
   "cell_type": "code",
   "execution_count": 97,
   "metadata": {
    "collapsed": true,
    "hidden": true
   },
   "outputs": [
    {
     "ename": "KeyboardInterrupt",
     "evalue": "",
     "output_type": "error",
     "traceback": [
      "\u001b[0;31m---------------------------------------------------------------------------\u001b[0m",
      "\u001b[0;31mKeyboardInterrupt\u001b[0m                         Traceback (most recent call last)",
      "\u001b[0;32m<ipython-input-97-58ee7ffd40b1>\u001b[0m in \u001b[0;36m<module>\u001b[0;34m()\u001b[0m\n\u001b[1;32m      1\u001b[0m \u001b[0;31m#fine tuned vgg\u001b[0m\u001b[0;34m\u001b[0m\u001b[0;34m\u001b[0m\u001b[0m\n\u001b[0;32m----> 2\u001b[0;31m \u001b[0mtest_pre_preds\u001b[0m\u001b[0;34m=\u001b[0m\u001b[0mconv_model\u001b[0m\u001b[0;34m.\u001b[0m\u001b[0mpredict\u001b[0m\u001b[0;34m(\u001b[0m\u001b[0mtest_imgs_processed\u001b[0m\u001b[0;34m)\u001b[0m\u001b[0;34m\u001b[0m\u001b[0m\n\u001b[0m",
      "\u001b[0;32m/home/ubuntu/anaconda3/lib/python3.6/site-packages/keras/models.py\u001b[0m in \u001b[0;36mpredict\u001b[0;34m(self, x, batch_size, verbose)\u001b[0m\n\u001b[1;32m    722\u001b[0m         \u001b[0;32mif\u001b[0m \u001b[0mself\u001b[0m\u001b[0;34m.\u001b[0m\u001b[0mmodel\u001b[0m \u001b[0;32mis\u001b[0m \u001b[0;32mNone\u001b[0m\u001b[0;34m:\u001b[0m\u001b[0;34m\u001b[0m\u001b[0m\n\u001b[1;32m    723\u001b[0m             \u001b[0mself\u001b[0m\u001b[0;34m.\u001b[0m\u001b[0mbuild\u001b[0m\u001b[0;34m(\u001b[0m\u001b[0;34m)\u001b[0m\u001b[0;34m\u001b[0m\u001b[0m\n\u001b[0;32m--> 724\u001b[0;31m         \u001b[0;32mreturn\u001b[0m \u001b[0mself\u001b[0m\u001b[0;34m.\u001b[0m\u001b[0mmodel\u001b[0m\u001b[0;34m.\u001b[0m\u001b[0mpredict\u001b[0m\u001b[0;34m(\u001b[0m\u001b[0mx\u001b[0m\u001b[0;34m,\u001b[0m \u001b[0mbatch_size\u001b[0m\u001b[0;34m=\u001b[0m\u001b[0mbatch_size\u001b[0m\u001b[0;34m,\u001b[0m \u001b[0mverbose\u001b[0m\u001b[0;34m=\u001b[0m\u001b[0mverbose\u001b[0m\u001b[0;34m)\u001b[0m\u001b[0;34m\u001b[0m\u001b[0m\n\u001b[0m\u001b[1;32m    725\u001b[0m \u001b[0;34m\u001b[0m\u001b[0m\n\u001b[1;32m    726\u001b[0m     \u001b[0;32mdef\u001b[0m \u001b[0mpredict_on_batch\u001b[0m\u001b[0;34m(\u001b[0m\u001b[0mself\u001b[0m\u001b[0;34m,\u001b[0m \u001b[0mx\u001b[0m\u001b[0;34m)\u001b[0m\u001b[0;34m:\u001b[0m\u001b[0;34m\u001b[0m\u001b[0m\n",
      "\u001b[0;32m/home/ubuntu/anaconda3/lib/python3.6/site-packages/keras/engine/training.py\u001b[0m in \u001b[0;36mpredict\u001b[0;34m(self, x, batch_size, verbose)\u001b[0m\n\u001b[1;32m   1270\u001b[0m         \u001b[0mf\u001b[0m \u001b[0;34m=\u001b[0m \u001b[0mself\u001b[0m\u001b[0;34m.\u001b[0m\u001b[0mpredict_function\u001b[0m\u001b[0;34m\u001b[0m\u001b[0m\n\u001b[1;32m   1271\u001b[0m         return self._predict_loop(f, ins,\n\u001b[0;32m-> 1272\u001b[0;31m                                   batch_size=batch_size, verbose=verbose)\n\u001b[0m\u001b[1;32m   1273\u001b[0m \u001b[0;34m\u001b[0m\u001b[0m\n\u001b[1;32m   1274\u001b[0m     def train_on_batch(self, x, y,\n",
      "\u001b[0;32m/home/ubuntu/anaconda3/lib/python3.6/site-packages/keras/engine/training.py\u001b[0m in \u001b[0;36m_predict_loop\u001b[0;34m(self, f, ins, batch_size, verbose)\u001b[0m\n\u001b[1;32m    941\u001b[0m                 \u001b[0mins_batch\u001b[0m \u001b[0;34m=\u001b[0m \u001b[0mslice_X\u001b[0m\u001b[0;34m(\u001b[0m\u001b[0mins\u001b[0m\u001b[0;34m[\u001b[0m\u001b[0;34m:\u001b[0m\u001b[0;34m-\u001b[0m\u001b[0;36m1\u001b[0m\u001b[0;34m]\u001b[0m\u001b[0;34m,\u001b[0m \u001b[0mbatch_ids\u001b[0m\u001b[0;34m)\u001b[0m \u001b[0;34m+\u001b[0m \u001b[0;34m[\u001b[0m\u001b[0mins\u001b[0m\u001b[0;34m[\u001b[0m\u001b[0;34m-\u001b[0m\u001b[0;36m1\u001b[0m\u001b[0;34m]\u001b[0m\u001b[0;34m]\u001b[0m\u001b[0;34m\u001b[0m\u001b[0m\n\u001b[1;32m    942\u001b[0m             \u001b[0;32melse\u001b[0m\u001b[0;34m:\u001b[0m\u001b[0;34m\u001b[0m\u001b[0m\n\u001b[0;32m--> 943\u001b[0;31m                 \u001b[0mins_batch\u001b[0m \u001b[0;34m=\u001b[0m \u001b[0mslice_X\u001b[0m\u001b[0;34m(\u001b[0m\u001b[0mins\u001b[0m\u001b[0;34m,\u001b[0m \u001b[0mbatch_ids\u001b[0m\u001b[0;34m)\u001b[0m\u001b[0;34m\u001b[0m\u001b[0m\n\u001b[0m\u001b[1;32m    944\u001b[0m \u001b[0;34m\u001b[0m\u001b[0m\n\u001b[1;32m    945\u001b[0m             \u001b[0mbatch_outs\u001b[0m \u001b[0;34m=\u001b[0m \u001b[0mf\u001b[0m\u001b[0;34m(\u001b[0m\u001b[0mins_batch\u001b[0m\u001b[0;34m)\u001b[0m\u001b[0;34m\u001b[0m\u001b[0m\n",
      "\u001b[0;32m/home/ubuntu/anaconda3/lib/python3.6/site-packages/keras/engine/training.py\u001b[0m in \u001b[0;36mslice_X\u001b[0;34m(X, start, stop)\u001b[0m\n\u001b[1;32m    297\u001b[0m             \u001b[0;32mif\u001b[0m \u001b[0mhasattr\u001b[0m\u001b[0;34m(\u001b[0m\u001b[0mstart\u001b[0m\u001b[0;34m,\u001b[0m \u001b[0;34m'shape'\u001b[0m\u001b[0;34m)\u001b[0m\u001b[0;34m:\u001b[0m\u001b[0;34m\u001b[0m\u001b[0m\n\u001b[1;32m    298\u001b[0m                 \u001b[0mstart\u001b[0m \u001b[0;34m=\u001b[0m \u001b[0mstart\u001b[0m\u001b[0;34m.\u001b[0m\u001b[0mtolist\u001b[0m\u001b[0;34m(\u001b[0m\u001b[0;34m)\u001b[0m\u001b[0;34m\u001b[0m\u001b[0m\n\u001b[0;32m--> 299\u001b[0;31m             \u001b[0;32mreturn\u001b[0m \u001b[0;34m[\u001b[0m\u001b[0mx\u001b[0m\u001b[0;34m[\u001b[0m\u001b[0mstart\u001b[0m\u001b[0;34m]\u001b[0m \u001b[0;32mfor\u001b[0m \u001b[0mx\u001b[0m \u001b[0;32min\u001b[0m \u001b[0mX\u001b[0m\u001b[0;34m]\u001b[0m\u001b[0;34m\u001b[0m\u001b[0m\n\u001b[0m\u001b[1;32m    300\u001b[0m         \u001b[0;32melse\u001b[0m\u001b[0;34m:\u001b[0m\u001b[0;34m\u001b[0m\u001b[0m\n\u001b[1;32m    301\u001b[0m             \u001b[0;32mreturn\u001b[0m \u001b[0;34m[\u001b[0m\u001b[0mx\u001b[0m\u001b[0;34m[\u001b[0m\u001b[0mstart\u001b[0m\u001b[0;34m:\u001b[0m\u001b[0mstop\u001b[0m\u001b[0;34m]\u001b[0m \u001b[0;32mfor\u001b[0m \u001b[0mx\u001b[0m \u001b[0;32min\u001b[0m \u001b[0mX\u001b[0m\u001b[0;34m]\u001b[0m\u001b[0;34m\u001b[0m\u001b[0m\n",
      "\u001b[0;32m/home/ubuntu/anaconda3/lib/python3.6/site-packages/keras/engine/training.py\u001b[0m in \u001b[0;36m<listcomp>\u001b[0;34m(.0)\u001b[0m\n\u001b[1;32m    297\u001b[0m             \u001b[0;32mif\u001b[0m \u001b[0mhasattr\u001b[0m\u001b[0;34m(\u001b[0m\u001b[0mstart\u001b[0m\u001b[0;34m,\u001b[0m \u001b[0;34m'shape'\u001b[0m\u001b[0;34m)\u001b[0m\u001b[0;34m:\u001b[0m\u001b[0;34m\u001b[0m\u001b[0m\n\u001b[1;32m    298\u001b[0m                 \u001b[0mstart\u001b[0m \u001b[0;34m=\u001b[0m \u001b[0mstart\u001b[0m\u001b[0;34m.\u001b[0m\u001b[0mtolist\u001b[0m\u001b[0;34m(\u001b[0m\u001b[0;34m)\u001b[0m\u001b[0;34m\u001b[0m\u001b[0m\n\u001b[0;32m--> 299\u001b[0;31m             \u001b[0;32mreturn\u001b[0m \u001b[0;34m[\u001b[0m\u001b[0mx\u001b[0m\u001b[0;34m[\u001b[0m\u001b[0mstart\u001b[0m\u001b[0;34m]\u001b[0m \u001b[0;32mfor\u001b[0m \u001b[0mx\u001b[0m \u001b[0;32min\u001b[0m \u001b[0mX\u001b[0m\u001b[0;34m]\u001b[0m\u001b[0;34m\u001b[0m\u001b[0m\n\u001b[0m\u001b[1;32m    300\u001b[0m         \u001b[0;32melse\u001b[0m\u001b[0;34m:\u001b[0m\u001b[0;34m\u001b[0m\u001b[0m\n\u001b[1;32m    301\u001b[0m             \u001b[0;32mreturn\u001b[0m \u001b[0;34m[\u001b[0m\u001b[0mx\u001b[0m\u001b[0;34m[\u001b[0m\u001b[0mstart\u001b[0m\u001b[0;34m:\u001b[0m\u001b[0mstop\u001b[0m\u001b[0;34m]\u001b[0m \u001b[0;32mfor\u001b[0m \u001b[0mx\u001b[0m \u001b[0;32min\u001b[0m \u001b[0mX\u001b[0m\u001b[0;34m]\u001b[0m\u001b[0;34m\u001b[0m\u001b[0m\n",
      "\u001b[0;31mKeyboardInterrupt\u001b[0m: "
     ]
    }
   ],
   "source": [
    "#fine tuned vgg\n",
    "test_pre_preds=conv_model.predict(test_imgs)"
   ]
  },
  {
   "cell_type": "code",
   "execution_count": 40,
   "metadata": {
    "collapsed": true,
    "hidden": true
   },
   "outputs": [],
   "source": [
    "sub_preds=model1.predict(test_pre_preds)"
   ]
  },
  {
   "cell_type": "markdown",
   "metadata": {
    "hidden": true
   },
   "source": [
    " #### resnet/vgg + xgboost"
   ]
  },
  {
   "cell_type": "code",
   "execution_count": 127,
   "metadata": {
    "collapsed": true,
    "hidden": true,
    "scrolled": true
   },
   "outputs": [],
   "source": [
    "\n",
    "test_preds=resnet.predict(test_imgs_processed)\n"
   ]
  },
  {
   "cell_type": "code",
   "execution_count": 128,
   "metadata": {
    "collapsed": true,
    "hidden": true
   },
   "outputs": [],
   "source": [
    "sub_preds=clf.predict_proba(test_preds)"
   ]
  },
  {
   "cell_type": "code",
   "execution_count": 136,
   "metadata": {
    "hidden": true
   },
   "outputs": [],
   "source": [
    "train_preds=clf.predict_proba(trn)"
   ]
  },
  {
   "cell_type": "code",
   "execution_count": 140,
   "metadata": {
    "hidden": true
   },
   "outputs": [],
   "source": [
    "from sklearn.metrics import log_loss"
   ]
  },
  {
   "cell_type": "code",
   "execution_count": 142,
   "metadata": {
    "collapsed": true,
    "hidden": true
   },
   "outputs": [
    {
     "ename": "ValueError",
     "evalue": "Multioutput target data is not supported with label binarization",
     "output_type": "error",
     "traceback": [
      "\u001b[0;31m---------------------------------------------------------------------------\u001b[0m",
      "\u001b[0;31mValueError\u001b[0m                                Traceback (most recent call last)",
      "\u001b[0;32m<ipython-input-142-e7fb7dd1f99f>\u001b[0m in \u001b[0;36m<module>\u001b[0;34m()\u001b[0m\n\u001b[0;32m----> 1\u001b[0;31m \u001b[0mlog_loss\u001b[0m\u001b[0;34m(\u001b[0m\u001b[0mtrain_preds\u001b[0m\u001b[0;34m,\u001b[0m\u001b[0my\u001b[0m\u001b[0;34m)\u001b[0m\u001b[0;34m\u001b[0m\u001b[0m\n\u001b[0m",
      "\u001b[0;32m/home/ubuntu/anaconda3/lib/python3.6/site-packages/sklearn/metrics/classification.py\u001b[0m in \u001b[0;36mlog_loss\u001b[0;34m(y_true, y_pred, eps, normalize, sample_weight, labels)\u001b[0m\n\u001b[1;32m   1614\u001b[0m         \u001b[0mlb\u001b[0m\u001b[0;34m.\u001b[0m\u001b[0mfit\u001b[0m\u001b[0;34m(\u001b[0m\u001b[0mlabels\u001b[0m\u001b[0;34m)\u001b[0m\u001b[0;34m\u001b[0m\u001b[0m\n\u001b[1;32m   1615\u001b[0m     \u001b[0;32melse\u001b[0m\u001b[0;34m:\u001b[0m\u001b[0;34m\u001b[0m\u001b[0m\n\u001b[0;32m-> 1616\u001b[0;31m         \u001b[0mlb\u001b[0m\u001b[0;34m.\u001b[0m\u001b[0mfit\u001b[0m\u001b[0;34m(\u001b[0m\u001b[0my_true\u001b[0m\u001b[0;34m)\u001b[0m\u001b[0;34m\u001b[0m\u001b[0m\n\u001b[0m\u001b[1;32m   1617\u001b[0m \u001b[0;34m\u001b[0m\u001b[0m\n\u001b[1;32m   1618\u001b[0m     \u001b[0;32mif\u001b[0m \u001b[0mlen\u001b[0m\u001b[0;34m(\u001b[0m\u001b[0mlb\u001b[0m\u001b[0;34m.\u001b[0m\u001b[0mclasses_\u001b[0m\u001b[0;34m)\u001b[0m \u001b[0;34m==\u001b[0m \u001b[0;36m1\u001b[0m\u001b[0;34m:\u001b[0m\u001b[0;34m\u001b[0m\u001b[0m\n",
      "\u001b[0;32m/home/ubuntu/anaconda3/lib/python3.6/site-packages/sklearn/preprocessing/label.py\u001b[0m in \u001b[0;36mfit\u001b[0;34m(self, y)\u001b[0m\n\u001b[1;32m    296\u001b[0m         \u001b[0mself\u001b[0m\u001b[0;34m.\u001b[0m\u001b[0my_type_\u001b[0m \u001b[0;34m=\u001b[0m \u001b[0mtype_of_target\u001b[0m\u001b[0;34m(\u001b[0m\u001b[0my\u001b[0m\u001b[0;34m)\u001b[0m\u001b[0;34m\u001b[0m\u001b[0m\n\u001b[1;32m    297\u001b[0m         \u001b[0;32mif\u001b[0m \u001b[0;34m'multioutput'\u001b[0m \u001b[0;32min\u001b[0m \u001b[0mself\u001b[0m\u001b[0;34m.\u001b[0m\u001b[0my_type_\u001b[0m\u001b[0;34m:\u001b[0m\u001b[0;34m\u001b[0m\u001b[0m\n\u001b[0;32m--> 298\u001b[0;31m             raise ValueError(\"Multioutput target data is not supported with \"\n\u001b[0m\u001b[1;32m    299\u001b[0m                              \"label binarization\")\n\u001b[1;32m    300\u001b[0m         \u001b[0;32mif\u001b[0m \u001b[0m_num_samples\u001b[0m\u001b[0;34m(\u001b[0m\u001b[0my\u001b[0m\u001b[0;34m)\u001b[0m \u001b[0;34m==\u001b[0m \u001b[0;36m0\u001b[0m\u001b[0;34m:\u001b[0m\u001b[0;34m\u001b[0m\u001b[0m\n",
      "\u001b[0;31mValueError\u001b[0m: Multioutput target data is not supported with label binarization"
     ]
    }
   ],
   "source": [
    "log_loss(y,train_preds)"
   ]
  },
  {
   "cell_type": "code",
   "execution_count": 129,
   "metadata": {
    "collapsed": true,
    "hidden": true
   },
   "outputs": [],
   "source": [
    "new_preds_1 = do_clip(sub_preds,0.82)"
   ]
  },
  {
   "cell_type": "code",
   "execution_count": 130,
   "metadata": {
    "collapsed": true,
    "hidden": true
   },
   "outputs": [],
   "source": [
    "classes = ['Type_1','Type_2','Type_3']\n",
    "submission = pd.DataFrame(new_preds_1, columns=classes)"
   ]
  },
  {
   "cell_type": "code",
   "execution_count": 131,
   "metadata": {
    "collapsed": true,
    "hidden": true
   },
   "outputs": [],
   "source": [
    "submission.insert(0,'image_name', test_ids)"
   ]
  },
  {
   "cell_type": "code",
   "execution_count": 132,
   "metadata": {
    "hidden": true,
    "scrolled": true
   },
   "outputs": [
    {
     "data": {
      "text/html": [
       "<div>\n",
       "<table border=\"1\" class=\"dataframe\">\n",
       "  <thead>\n",
       "    <tr style=\"text-align: right;\">\n",
       "      <th></th>\n",
       "      <th>image_name</th>\n",
       "      <th>Type_1</th>\n",
       "      <th>Type_2</th>\n",
       "      <th>Type_3</th>\n",
       "    </tr>\n",
       "  </thead>\n",
       "  <tbody>\n",
       "    <tr>\n",
       "      <th>0</th>\n",
       "      <td>488.jpg</td>\n",
       "      <td>0.152542</td>\n",
       "      <td>0.694915</td>\n",
       "      <td>0.152542</td>\n",
       "    </tr>\n",
       "    <tr>\n",
       "      <th>1</th>\n",
       "      <td>389.jpg</td>\n",
       "      <td>0.152542</td>\n",
       "      <td>0.694915</td>\n",
       "      <td>0.152542</td>\n",
       "    </tr>\n",
       "    <tr>\n",
       "      <th>2</th>\n",
       "      <td>4.jpg</td>\n",
       "      <td>0.163888</td>\n",
       "      <td>0.310425</td>\n",
       "      <td>0.525687</td>\n",
       "    </tr>\n",
       "    <tr>\n",
       "      <th>3</th>\n",
       "      <td>166.jpg</td>\n",
       "      <td>0.171331</td>\n",
       "      <td>0.329278</td>\n",
       "      <td>0.499391</td>\n",
       "    </tr>\n",
       "    <tr>\n",
       "      <th>4</th>\n",
       "      <td>290.jpg</td>\n",
       "      <td>0.160977</td>\n",
       "      <td>0.518851</td>\n",
       "      <td>0.320172</td>\n",
       "    </tr>\n",
       "  </tbody>\n",
       "</table>\n",
       "</div>"
      ],
      "text/plain": [
       "  image_name    Type_1    Type_2    Type_3\n",
       "0    488.jpg  0.152542  0.694915  0.152542\n",
       "1    389.jpg  0.152542  0.694915  0.152542\n",
       "2      4.jpg  0.163888  0.310425  0.525687\n",
       "3    166.jpg  0.171331  0.329278  0.499391\n",
       "4    290.jpg  0.160977  0.518851  0.320172"
      ]
     },
     "execution_count": 132,
     "metadata": {},
     "output_type": "execute_result"
    }
   ],
   "source": [
    "submission.head()#,len(submission)"
   ]
  },
  {
   "cell_type": "code",
   "execution_count": 133,
   "metadata": {
    "hidden": true
   },
   "outputs": [
    {
     "data": {
      "text/plain": [
       "512"
      ]
     },
     "execution_count": 133,
     "metadata": {},
     "output_type": "execute_result"
    }
   ],
   "source": [
    "len(submission)"
   ]
  },
  {
   "cell_type": "code",
   "execution_count": 134,
   "metadata": {
    "collapsed": true,
    "hidden": true,
    "scrolled": true
   },
   "outputs": [],
   "source": [
    "submission.to_csv('res_clipped_cerv_sub', index=False)"
   ]
  }
 ],
 "metadata": {
  "kernelspec": {
   "display_name": "Python 3",
   "language": "python",
   "name": "python3"
  },
  "language_info": {
   "codemirror_mode": {
    "name": "ipython",
    "version": 3
   },
   "file_extension": ".py",
   "mimetype": "text/x-python",
   "name": "python",
   "nbconvert_exporter": "python",
   "pygments_lexer": "ipython3",
   "version": "3.6.0"
  }
 },
 "nbformat": 4,
 "nbformat_minor": 2
}
