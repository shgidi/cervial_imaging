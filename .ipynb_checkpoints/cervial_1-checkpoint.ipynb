{
 "cells": [
  {
   "cell_type": "markdown",
   "metadata": {},
   "source": [
    "## imports"
   ]
  },
  {
   "cell_type": "code",
   "execution_count": 1,
   "metadata": {},
   "outputs": [
    {
     "name": "stdout",
     "output_type": "stream",
     "text": [
      "/mnt/kaggle_crevical/train\n"
     ]
    }
   ],
   "source": [
    "# i will try here... donno ... start with vgg or something\n",
    "#jeremy batcher can be used\n",
    "%cd /mnt/kaggle_crevical/train"
   ]
  },
  {
   "cell_type": "code",
   "execution_count": 2,
   "metadata": {
    "collapsed": true
   },
   "outputs": [],
   "source": [
    "import glob\n",
    "import numpy as np\n",
    "#read imagesis with: PIL, cv2, keras\n",
    "from PIL import Image\n",
    "from keras.preprocessing import image\n",
    "from matplotlib import pyplot as plt\n",
    "import pandas as pd\n",
    "%matplotlib inline\n",
    "from keras.applications.imagenet_utils import preprocess_input"
   ]
  },
  {
   "cell_type": "code",
   "execution_count": 3,
   "metadata": {
    "collapsed": true
   },
   "outputs": [],
   "source": [
    "def do_clip(arr, mx):\n",
    "    clipped = np.clip(arr, (1-mx)/1, mx)\n",
    "    return clipped/clipped.sum(axis=1)[:, np.newaxis]"
   ]
  },
  {
   "cell_type": "code",
   "execution_count": 4,
   "metadata": {
    "collapsed": true
   },
   "outputs": [],
   "source": [
    "import bcolz\n",
    "import pickle\n",
    "\n",
    "def save_array(fname, arr):\n",
    "    c=bcolz.carray(arr, rootdir=fname, mode='w')\n",
    "    c.flush()\n",
    "\n",
    "\n",
    "def load_array(fname):\n",
    "    return bcolz.open(fname)[:]\n",
    "\n",
    "\n",
    "def save_pickle(fname, obj):\n",
    "    with open(fname, \"wb\") as output_file:\n",
    "        pickle.dump(obj, output_file)\n",
    "\n",
    "def load_pickle(fname):\n",
    "    with open(fname, \"rb\") as input_file:\n",
    "        return pickle.load(input_file)"
   ]
  },
  {
   "cell_type": "code",
   "execution_count": 5,
   "metadata": {},
   "outputs": [
    {
     "name": "stderr",
     "output_type": "stream",
     "text": [
      "/home/ubuntu/anaconda3/lib/python3.6/site-packages/sklearn/cross_validation.py:44: DeprecationWarning: This module was deprecated in version 0.18 in favor of the model_selection module into which all the refactored classes and functions are moved. Also note that the interface of the new CV iterators are different from that of this module. This module will be removed in 0.20.\n",
      "  \"This module will be removed in 0.20.\", DeprecationWarning)\n"
     ]
    }
   ],
   "source": [
    "from keras.applications import VGG16,ResNet50\n",
    "from collections import Counter\n",
    "import xgboost as xgb"
   ]
  },
  {
   "cell_type": "code",
   "execution_count": 6,
   "metadata": {
    "collapsed": true
   },
   "outputs": [],
   "source": [
    "from keras.utils.np_utils import to_categorical\n",
    "from sklearn.model_selection import train_test_split\n",
    "from sklearn.model_selection import StratifiedShuffleSplit"
   ]
  },
  {
   "cell_type": "markdown",
   "metadata": {},
   "source": [
    "## preprocess"
   ]
  },
  {
   "cell_type": "code",
   "execution_count": 7,
   "metadata": {
    "scrolled": true
   },
   "outputs": [
    {
     "name": "stdout",
     "output_type": "stream",
     "text": [
      "/mnt/kaggle_crevical\n"
     ]
    }
   ],
   "source": [
    "cd /mnt/kaggle_crevical"
   ]
  },
  {
   "cell_type": "code",
   "execution_count": 8,
   "metadata": {
    "collapsed": true
   },
   "outputs": [],
   "source": [
    "g=glob.glob('train/*/*.*')\n",
    "t=glob.glob('test/*.*')"
   ]
  },
  {
   "cell_type": "markdown",
   "metadata": {},
   "source": [
    "read large images, resize them to 224^2, save as npy"
   ]
  },
  {
   "cell_type": "code",
   "execution_count": 9,
   "metadata": {},
   "outputs": [
    {
     "data": {
      "text/plain": [
       "\"\\nimgs=[]\\ntype_list=[]\\n\\nfor i,file in enumerate(g):\\n    try:\\n        imgs.append(image.img_to_array(image.load_img(file).resize([224,224])))\\n        type_list.append(file.split('/')[1])\\n    except:\\n        print (i,file,' seems corrupt')\\n    if i % 250 ==0:\\n        print (i)\\n\\nimgs=np.array(imgs)\\n\""
      ]
     },
     "execution_count": 9,
     "metadata": {},
     "output_type": "execute_result"
    }
   ],
   "source": [
    "#read and resize train\n",
    "'''\n",
    "imgs=[]\n",
    "type_list=[]\n",
    "\n",
    "for i,file in enumerate(g):\n",
    "    try:\n",
    "        imgs.append(image.img_to_array(image.load_img(file).resize([224,224])))\n",
    "        type_list.append(file.split('/')[1])\n",
    "    except:\n",
    "        print (i,file,' seems corrupt')\n",
    "    if i % 250 ==0:\n",
    "        print (i)\n",
    "\n",
    "imgs=np.array(imgs)\n",
    "'''\n",
    "#takes long to load all big pictures... save the smaller version for now"
   ]
  },
  {
   "cell_type": "code",
   "execution_count": 25,
   "metadata": {
    "code_folding": [
     0
    ]
   },
   "outputs": [
    {
     "name": "stdout",
     "output_type": "stream",
     "text": [
      "0\n",
      "250\n",
      "500\n"
     ]
    }
   ],
   "source": [
    "#read and process test\n",
    "test_imgs=[]\n",
    "test_ids=[]\n",
    "missing_test_indices=[]\n",
    "missing_test_files=[]\n",
    "for i,file in enumerate(t):\n",
    "    try:\n",
    "        test_imgs.append(image.img_to_array(image.load_img(file).resize([224,224])))\n",
    "        test_ids.append(file.split('/')[1])\n",
    "\n",
    "    except:\n",
    "        print (i,file,' seems corrupt')\n",
    "        \n",
    "    if i % 250 ==0:\n",
    "        print (i)\n",
    "test_imgs=np.array(test_imgs)\n",
    "#takes long to load all big pictures... save the smaller version for now"
   ]
  },
  {
   "cell_type": "code",
   "execution_count": 509,
   "metadata": {
    "collapsed": true
   },
   "outputs": [],
   "source": [
    "save_array('train/shrunk_files/data_full',imgs)"
   ]
  },
  {
   "cell_type": "code",
   "execution_count": 9,
   "metadata": {
    "collapsed": true
   },
   "outputs": [],
   "source": [
    "imgs=load_array('/mnt/kaggle_crevical/shrunk_files/data_full')"
   ]
  },
  {
   "cell_type": "code",
   "execution_count": 10,
   "metadata": {
    "collapsed": true
   },
   "outputs": [],
   "source": [
    "type_list=load_pickle('/mnt/kaggle_crevical/shrunk_files/type_list.p')"
   ]
  },
  {
   "cell_type": "code",
   "execution_count": 11,
   "metadata": {
    "collapsed": true
   },
   "outputs": [],
   "source": [
    "type_1_idx=np.array([i=='Type_1' for i in type_list])\n",
    "type_2_idx=np.array([i=='Type_2' for i in type_list])\n",
    "type_3_idx=np.array([i=='Type_3' for i in type_list])"
   ]
  },
  {
   "cell_type": "markdown",
   "metadata": {},
   "source": [
    "unite types to 1 list"
   ]
  },
  {
   "cell_type": "code",
   "execution_count": 12,
   "metadata": {
    "collapsed": true
   },
   "outputs": [],
   "source": [
    "types=type_1_idx*1+type_2_idx*2+type_3_idx*3"
   ]
  },
  {
   "cell_type": "markdown",
   "metadata": {},
   "source": [
    "## resnet and vgg"
   ]
  },
  {
   "cell_type": "markdown",
   "metadata": {},
   "source": [
    "### vgg"
   ]
  },
  {
   "cell_type": "code",
   "execution_count": 13,
   "metadata": {
    "collapsed": true
   },
   "outputs": [],
   "source": [
    "vgg=VGG16()"
   ]
  },
  {
   "cell_type": "code",
   "execution_count": 15,
   "metadata": {
    "collapsed": true
   },
   "outputs": [
    {
     "ename": "KeyboardInterrupt",
     "evalue": "",
     "output_type": "error",
     "traceback": [
      "\u001b[0;31m---------------------------------------------------------------------------\u001b[0m",
      "\u001b[0;31mKeyboardInterrupt\u001b[0m                         Traceback (most recent call last)",
      "\u001b[0;32m<ipython-input-15-f2ac9c8ec33b>\u001b[0m in \u001b[0;36m<module>\u001b[0;34m()\u001b[0m\n\u001b[0;32m----> 1\u001b[0;31m \u001b[0mvgg_preds\u001b[0m\u001b[0;34m=\u001b[0m\u001b[0mvgg\u001b[0m\u001b[0;34m.\u001b[0m\u001b[0mpredict\u001b[0m\u001b[0;34m(\u001b[0m\u001b[0mimgs\u001b[0m\u001b[0;34m)\u001b[0m\u001b[0;34m\u001b[0m\u001b[0m\n\u001b[0m",
      "\u001b[0;32m/home/ubuntu/anaconda3/lib/python3.6/site-packages/keras/engine/training.py\u001b[0m in \u001b[0;36mpredict\u001b[0;34m(self, x, batch_size, verbose)\u001b[0m\n\u001b[1;32m   1270\u001b[0m         \u001b[0mf\u001b[0m \u001b[0;34m=\u001b[0m \u001b[0mself\u001b[0m\u001b[0;34m.\u001b[0m\u001b[0mpredict_function\u001b[0m\u001b[0;34m\u001b[0m\u001b[0m\n\u001b[1;32m   1271\u001b[0m         return self._predict_loop(f, ins,\n\u001b[0;32m-> 1272\u001b[0;31m                                   batch_size=batch_size, verbose=verbose)\n\u001b[0m\u001b[1;32m   1273\u001b[0m \u001b[0;34m\u001b[0m\u001b[0m\n\u001b[1;32m   1274\u001b[0m     def train_on_batch(self, x, y,\n",
      "\u001b[0;32m/home/ubuntu/anaconda3/lib/python3.6/site-packages/keras/engine/training.py\u001b[0m in \u001b[0;36m_predict_loop\u001b[0;34m(self, f, ins, batch_size, verbose)\u001b[0m\n\u001b[1;32m    943\u001b[0m                 \u001b[0mins_batch\u001b[0m \u001b[0;34m=\u001b[0m \u001b[0mslice_X\u001b[0m\u001b[0;34m(\u001b[0m\u001b[0mins\u001b[0m\u001b[0;34m,\u001b[0m \u001b[0mbatch_ids\u001b[0m\u001b[0;34m)\u001b[0m\u001b[0;34m\u001b[0m\u001b[0m\n\u001b[1;32m    944\u001b[0m \u001b[0;34m\u001b[0m\u001b[0m\n\u001b[0;32m--> 945\u001b[0;31m             \u001b[0mbatch_outs\u001b[0m \u001b[0;34m=\u001b[0m \u001b[0mf\u001b[0m\u001b[0;34m(\u001b[0m\u001b[0mins_batch\u001b[0m\u001b[0;34m)\u001b[0m\u001b[0;34m\u001b[0m\u001b[0m\n\u001b[0m\u001b[1;32m    946\u001b[0m             \u001b[0;32mif\u001b[0m \u001b[0;32mnot\u001b[0m \u001b[0misinstance\u001b[0m\u001b[0;34m(\u001b[0m\u001b[0mbatch_outs\u001b[0m\u001b[0;34m,\u001b[0m \u001b[0mlist\u001b[0m\u001b[0;34m)\u001b[0m\u001b[0;34m:\u001b[0m\u001b[0;34m\u001b[0m\u001b[0m\n\u001b[1;32m    947\u001b[0m                 \u001b[0mbatch_outs\u001b[0m \u001b[0;34m=\u001b[0m \u001b[0;34m[\u001b[0m\u001b[0mbatch_outs\u001b[0m\u001b[0;34m]\u001b[0m\u001b[0;34m\u001b[0m\u001b[0m\n",
      "\u001b[0;32m/home/ubuntu/anaconda3/lib/python3.6/site-packages/keras/backend/tensorflow_backend.py\u001b[0m in \u001b[0;36m__call__\u001b[0;34m(self, inputs)\u001b[0m\n\u001b[1;32m   1941\u001b[0m         \u001b[0msession\u001b[0m \u001b[0;34m=\u001b[0m \u001b[0mget_session\u001b[0m\u001b[0;34m(\u001b[0m\u001b[0;34m)\u001b[0m\u001b[0;34m\u001b[0m\u001b[0m\n\u001b[1;32m   1942\u001b[0m         updated = session.run(self.outputs + [self.updates_op],\n\u001b[0;32m-> 1943\u001b[0;31m                               feed_dict=feed_dict)\n\u001b[0m\u001b[1;32m   1944\u001b[0m         \u001b[0;32mreturn\u001b[0m \u001b[0mupdated\u001b[0m\u001b[0;34m[\u001b[0m\u001b[0;34m:\u001b[0m\u001b[0mlen\u001b[0m\u001b[0;34m(\u001b[0m\u001b[0mself\u001b[0m\u001b[0;34m.\u001b[0m\u001b[0moutputs\u001b[0m\u001b[0;34m)\u001b[0m\u001b[0;34m]\u001b[0m\u001b[0;34m\u001b[0m\u001b[0m\n\u001b[1;32m   1945\u001b[0m \u001b[0;34m\u001b[0m\u001b[0m\n",
      "\u001b[0;32m/home/ubuntu/anaconda3/lib/python3.6/site-packages/tensorflow/python/client/session.py\u001b[0m in \u001b[0;36mrun\u001b[0;34m(self, fetches, feed_dict, options, run_metadata)\u001b[0m\n\u001b[1;32m    765\u001b[0m     \u001b[0;32mtry\u001b[0m\u001b[0;34m:\u001b[0m\u001b[0;34m\u001b[0m\u001b[0m\n\u001b[1;32m    766\u001b[0m       result = self._run(None, fetches, feed_dict, options_ptr,\n\u001b[0;32m--> 767\u001b[0;31m                          run_metadata_ptr)\n\u001b[0m\u001b[1;32m    768\u001b[0m       \u001b[0;32mif\u001b[0m \u001b[0mrun_metadata\u001b[0m\u001b[0;34m:\u001b[0m\u001b[0;34m\u001b[0m\u001b[0m\n\u001b[1;32m    769\u001b[0m         \u001b[0mproto_data\u001b[0m \u001b[0;34m=\u001b[0m \u001b[0mtf_session\u001b[0m\u001b[0;34m.\u001b[0m\u001b[0mTF_GetBuffer\u001b[0m\u001b[0;34m(\u001b[0m\u001b[0mrun_metadata_ptr\u001b[0m\u001b[0;34m)\u001b[0m\u001b[0;34m\u001b[0m\u001b[0m\n",
      "\u001b[0;32m/home/ubuntu/anaconda3/lib/python3.6/site-packages/tensorflow/python/client/session.py\u001b[0m in \u001b[0;36m_run\u001b[0;34m(self, handle, fetches, feed_dict, options, run_metadata)\u001b[0m\n\u001b[1;32m    963\u001b[0m     \u001b[0;32mif\u001b[0m \u001b[0mfinal_fetches\u001b[0m \u001b[0;32mor\u001b[0m \u001b[0mfinal_targets\u001b[0m\u001b[0;34m:\u001b[0m\u001b[0;34m\u001b[0m\u001b[0m\n\u001b[1;32m    964\u001b[0m       results = self._do_run(handle, final_targets, final_fetches,\n\u001b[0;32m--> 965\u001b[0;31m                              feed_dict_string, options, run_metadata)\n\u001b[0m\u001b[1;32m    966\u001b[0m     \u001b[0;32melse\u001b[0m\u001b[0;34m:\u001b[0m\u001b[0;34m\u001b[0m\u001b[0m\n\u001b[1;32m    967\u001b[0m       \u001b[0mresults\u001b[0m \u001b[0;34m=\u001b[0m \u001b[0;34m[\u001b[0m\u001b[0;34m]\u001b[0m\u001b[0;34m\u001b[0m\u001b[0m\n",
      "\u001b[0;32m/home/ubuntu/anaconda3/lib/python3.6/site-packages/tensorflow/python/client/session.py\u001b[0m in \u001b[0;36m_do_run\u001b[0;34m(self, handle, target_list, fetch_list, feed_dict, options, run_metadata)\u001b[0m\n\u001b[1;32m   1013\u001b[0m     \u001b[0;32mif\u001b[0m \u001b[0mhandle\u001b[0m \u001b[0;32mis\u001b[0m \u001b[0;32mNone\u001b[0m\u001b[0;34m:\u001b[0m\u001b[0;34m\u001b[0m\u001b[0m\n\u001b[1;32m   1014\u001b[0m       return self._do_call(_run_fn, self._session, feed_dict, fetch_list,\n\u001b[0;32m-> 1015\u001b[0;31m                            target_list, options, run_metadata)\n\u001b[0m\u001b[1;32m   1016\u001b[0m     \u001b[0;32melse\u001b[0m\u001b[0;34m:\u001b[0m\u001b[0;34m\u001b[0m\u001b[0m\n\u001b[1;32m   1017\u001b[0m       return self._do_call(_prun_fn, self._session, handle, feed_dict,\n",
      "\u001b[0;32m/home/ubuntu/anaconda3/lib/python3.6/site-packages/tensorflow/python/client/session.py\u001b[0m in \u001b[0;36m_do_call\u001b[0;34m(self, fn, *args)\u001b[0m\n\u001b[1;32m   1020\u001b[0m   \u001b[0;32mdef\u001b[0m \u001b[0m_do_call\u001b[0m\u001b[0;34m(\u001b[0m\u001b[0mself\u001b[0m\u001b[0;34m,\u001b[0m \u001b[0mfn\u001b[0m\u001b[0;34m,\u001b[0m \u001b[0;34m*\u001b[0m\u001b[0margs\u001b[0m\u001b[0;34m)\u001b[0m\u001b[0;34m:\u001b[0m\u001b[0;34m\u001b[0m\u001b[0m\n\u001b[1;32m   1021\u001b[0m     \u001b[0;32mtry\u001b[0m\u001b[0;34m:\u001b[0m\u001b[0;34m\u001b[0m\u001b[0m\n\u001b[0;32m-> 1022\u001b[0;31m       \u001b[0;32mreturn\u001b[0m \u001b[0mfn\u001b[0m\u001b[0;34m(\u001b[0m\u001b[0;34m*\u001b[0m\u001b[0margs\u001b[0m\u001b[0;34m)\u001b[0m\u001b[0;34m\u001b[0m\u001b[0m\n\u001b[0m\u001b[1;32m   1023\u001b[0m     \u001b[0;32mexcept\u001b[0m \u001b[0merrors\u001b[0m\u001b[0;34m.\u001b[0m\u001b[0mOpError\u001b[0m \u001b[0;32mas\u001b[0m \u001b[0me\u001b[0m\u001b[0;34m:\u001b[0m\u001b[0;34m\u001b[0m\u001b[0m\n\u001b[1;32m   1024\u001b[0m       \u001b[0mmessage\u001b[0m \u001b[0;34m=\u001b[0m \u001b[0mcompat\u001b[0m\u001b[0;34m.\u001b[0m\u001b[0mas_text\u001b[0m\u001b[0;34m(\u001b[0m\u001b[0me\u001b[0m\u001b[0;34m.\u001b[0m\u001b[0mmessage\u001b[0m\u001b[0;34m)\u001b[0m\u001b[0;34m\u001b[0m\u001b[0m\n",
      "\u001b[0;32m/home/ubuntu/anaconda3/lib/python3.6/site-packages/tensorflow/python/client/session.py\u001b[0m in \u001b[0;36m_run_fn\u001b[0;34m(session, feed_dict, fetch_list, target_list, options, run_metadata)\u001b[0m\n\u001b[1;32m   1002\u001b[0m         return tf_session.TF_Run(session, options,\n\u001b[1;32m   1003\u001b[0m                                  \u001b[0mfeed_dict\u001b[0m\u001b[0;34m,\u001b[0m \u001b[0mfetch_list\u001b[0m\u001b[0;34m,\u001b[0m \u001b[0mtarget_list\u001b[0m\u001b[0;34m,\u001b[0m\u001b[0;34m\u001b[0m\u001b[0m\n\u001b[0;32m-> 1004\u001b[0;31m                                  status, run_metadata)\n\u001b[0m\u001b[1;32m   1005\u001b[0m \u001b[0;34m\u001b[0m\u001b[0m\n\u001b[1;32m   1006\u001b[0m     \u001b[0;32mdef\u001b[0m \u001b[0m_prun_fn\u001b[0m\u001b[0;34m(\u001b[0m\u001b[0msession\u001b[0m\u001b[0;34m,\u001b[0m \u001b[0mhandle\u001b[0m\u001b[0;34m,\u001b[0m \u001b[0mfeed_dict\u001b[0m\u001b[0;34m,\u001b[0m \u001b[0mfetch_list\u001b[0m\u001b[0;34m)\u001b[0m\u001b[0;34m:\u001b[0m\u001b[0;34m\u001b[0m\u001b[0m\n",
      "\u001b[0;31mKeyboardInterrupt\u001b[0m: "
     ]
    }
   ],
   "source": [
    "vgg_preds=vgg.predict(imgs)"
   ]
  },
  {
   "cell_type": "markdown",
   "metadata": {},
   "source": [
    "### resnet"
   ]
  },
  {
   "cell_type": "code",
   "execution_count": 18,
   "metadata": {
    "collapsed": true,
    "scrolled": true
   },
   "outputs": [],
   "source": [
    "#test_imgs_processed=preprocess_input(test_imgs.astype('float32'))\n",
    "imgs_processed=preprocess_input(imgs.astype('float32'))"
   ]
  },
  {
   "cell_type": "code",
   "execution_count": 16,
   "metadata": {
    "collapsed": true
   },
   "outputs": [],
   "source": [
    "resnet=ResNet50()"
   ]
  },
  {
   "cell_type": "code",
   "execution_count": 18,
   "metadata": {
    "collapsed": true,
    "scrolled": false
   },
   "outputs": [],
   "source": [
    "res_preds=resnet.predict(imgs_processed)"
   ]
  },
  {
   "cell_type": "code",
   "execution_count": 15,
   "metadata": {},
   "outputs": [
    {
     "data": {
      "text/plain": [
       "2"
      ]
     },
     "execution_count": 15,
     "metadata": {},
     "output_type": "execute_result"
    }
   ],
   "source": [
    "sss = StratifiedShuffleSplit(n_splits=2, test_size=0.3, random_state=0)\n",
    "sss.get_n_splits(imgs,types)"
   ]
  },
  {
   "cell_type": "code",
   "execution_count": 19,
   "metadata": {},
   "outputs": [],
   "source": [
    "#startfied val\n",
    "for train_index, test_index in sss.split(imgs, types):\n",
    "   #trn, val = res_preds[train_index], res_preds[test_index]\n",
    "   y, y_val = types[train_index], types[test_index]\n",
    "   trn_imgs, val_imgs = imgs_processed[train_index], imgs_processed[test_index]"
   ]
  },
  {
   "cell_type": "code",
   "execution_count": 21,
   "metadata": {
    "collapsed": true
   },
   "outputs": [],
   "source": []
  },
  {
   "cell_type": "code",
   "execution_count": 22,
   "metadata": {
    "collapsed": true
   },
   "outputs": [],
   "source": [
    "#trn,val,y,y_val=train_test_split(res_preds,types)"
   ]
  },
  {
   "cell_type": "code",
   "execution_count": 23,
   "metadata": {},
   "outputs": [
    {
     "data": {
      "text/plain": [
       "((5337, 1000), (2288, 1000), (5337,), (2288,))"
      ]
     },
     "execution_count": 23,
     "metadata": {},
     "output_type": "execute_result"
    }
   ],
   "source": [
    "trn.shape,val.shape,y.shape,y_val.shape"
   ]
  },
  {
   "cell_type": "code",
   "execution_count": 24,
   "metadata": {},
   "outputs": [
    {
     "data": {
      "text/plain": [
       "7626"
      ]
     },
     "execution_count": 24,
     "metadata": {},
     "output_type": "execute_result"
    }
   ],
   "source": [
    "len(g)"
   ]
  },
  {
   "cell_type": "markdown",
   "metadata": {},
   "source": [
    "## new model"
   ]
  },
  {
   "cell_type": "code",
   "execution_count": null,
   "metadata": {
    "collapsed": true
   },
   "outputs": [],
   "source": [
    "from keras.models import Sequential\n",
    "from keras.layers import Input,Lambda,ZeroPadding2D,Convolution2D,MaxPooling2D,Flatten,Dense,Dropout,Conv2D,Activation\n",
    "from keras.optimizers import Adam\n",
    "from keras.callbacks import EarlyStopping, ModelCheckpoint\n",
    "from keras.utils.np_utils import to_categorical"
   ]
  },
  {
   "cell_type": "code",
   "execution_count": 29,
   "metadata": {},
   "outputs": [],
   "source": [
    "new_model = Sequential()\n",
    "new_model.add(Conv2D(32, 3, 3, input_shape=[224,224,3]))\n",
    "new_model.add(Activation('relu'))\n",
    "new_model.add(MaxPooling2D(pool_size=(2, 2)))\n",
    "\n",
    "new_model.add(Conv2D(32, 3, 3))\n",
    "new_model.add(Activation('relu'))\n",
    "new_model.add(MaxPooling2D(pool_size=(2, 2)))\n",
    "\n",
    "new_model.add(Conv2D(64, 3, 3))\n",
    "new_model.add(Activation('relu'))\n",
    "new_model.add(MaxPooling2D(pool_size=(2, 2)))\n",
    "\n",
    "new_model.add(Flatten())\n",
    "\n",
    "new_model.add(Dense(64))\n",
    "new_model.add(Activation('relu'))\n",
    "new_model.add(Dropout(0.5))\n",
    "\n",
    "new_model.add(Dense(64))\n",
    "new_model.add(Activation('relu'))\n",
    "new_model.add(Dropout(0.5))\n",
    "\n",
    "new_model.add(Dense(3))\n",
    "new_model.add(Activation('softmax'))"
   ]
  },
  {
   "cell_type": "code",
   "execution_count": 32,
   "metadata": {
    "scrolled": true
   },
   "outputs": [
    {
     "name": "stdout",
     "output_type": "stream",
     "text": [
      "____________________________________________________________________________________________________\n",
      "Layer (type)                     Output Shape          Param #     Connected to                     \n",
      "====================================================================================================\n",
      "convolution2d_5 (Convolution2D)  (None, 222, 222, 32)  896         convolution2d_input_3[0][0]      \n",
      "____________________________________________________________________________________________________\n",
      "activation_7 (Activation)        (None, 222, 222, 32)  0           convolution2d_5[0][0]            \n",
      "____________________________________________________________________________________________________\n",
      "maxpooling2d_4 (MaxPooling2D)    (None, 111, 111, 32)  0           activation_7[0][0]               \n",
      "____________________________________________________________________________________________________\n",
      "convolution2d_6 (Convolution2D)  (None, 109, 109, 32)  9248        maxpooling2d_4[0][0]             \n",
      "____________________________________________________________________________________________________\n",
      "activation_8 (Activation)        (None, 109, 109, 32)  0           convolution2d_6[0][0]            \n",
      "____________________________________________________________________________________________________\n",
      "maxpooling2d_5 (MaxPooling2D)    (None, 54, 54, 32)    0           activation_8[0][0]               \n",
      "____________________________________________________________________________________________________\n",
      "convolution2d_7 (Convolution2D)  (None, 52, 52, 64)    18496       maxpooling2d_5[0][0]             \n",
      "____________________________________________________________________________________________________\n",
      "activation_9 (Activation)        (None, 52, 52, 64)    0           convolution2d_7[0][0]            \n",
      "____________________________________________________________________________________________________\n",
      "maxpooling2d_6 (MaxPooling2D)    (None, 26, 26, 64)    0           activation_9[0][0]               \n",
      "____________________________________________________________________________________________________\n",
      "flatten_2 (Flatten)              (None, 43264)         0           maxpooling2d_6[0][0]             \n",
      "____________________________________________________________________________________________________\n",
      "dense_4 (Dense)                  (None, 64)            2768960     flatten_2[0][0]                  \n",
      "____________________________________________________________________________________________________\n",
      "activation_10 (Activation)       (None, 64)            0           dense_4[0][0]                    \n",
      "____________________________________________________________________________________________________\n",
      "dropout_3 (Dropout)              (None, 64)            0           activation_10[0][0]              \n",
      "____________________________________________________________________________________________________\n",
      "dense_5 (Dense)                  (None, 64)            4160        dropout_3[0][0]                  \n",
      "____________________________________________________________________________________________________\n",
      "activation_11 (Activation)       (None, 64)            0           dense_5[0][0]                    \n",
      "____________________________________________________________________________________________________\n",
      "dropout_4 (Dropout)              (None, 64)            0           activation_11[0][0]              \n",
      "____________________________________________________________________________________________________\n",
      "dense_6 (Dense)                  (None, 3)             195         dropout_4[0][0]                  \n",
      "____________________________________________________________________________________________________\n",
      "activation_12 (Activation)       (None, 3)             0           dense_6[0][0]                    \n",
      "====================================================================================================\n",
      "Total params: 2,801,955\n",
      "Trainable params: 2,801,955\n",
      "Non-trainable params: 0\n",
      "____________________________________________________________________________________________________\n"
     ]
    }
   ],
   "source": [
    "new_model.summary()"
   ]
  },
  {
   "cell_type": "code",
   "execution_count": 30,
   "metadata": {
    "scrolled": true
   },
   "outputs": [],
   "source": [
    "new_model.compile(optimizer=Adam(lr=0.001),loss='categorical_crossentropy', metrics=['accuracy'])"
   ]
  },
  {
   "cell_type": "code",
   "execution_count": 31,
   "metadata": {
    "scrolled": true
   },
   "outputs": [
    {
     "name": "stdout",
     "output_type": "stream",
     "text": [
      "Train on 5337 samples, validate on 2288 samples\n",
      "Epoch 1/200\n"
     ]
    },
    {
     "ename": "ResourceExhaustedError",
     "evalue": "OOM when allocating tensor with shape[32,222,222,32]\n\t [[Node: Conv2D_4 = Conv2D[T=DT_FLOAT, data_format=\"NHWC\", padding=\"VALID\", strides=[1, 1, 1, 1], use_cudnn_on_gpu=true, _device=\"/job:localhost/replica:0/task:0/gpu:0\"](_recv_convolution2d_input_3_0/_9, convolution2d_5_W/read)]]\n\t [[Node: Mean_3/_37 = _Recv[client_terminated=false, recv_device=\"/job:localhost/replica:0/task:0/cpu:0\", send_device=\"/job:localhost/replica:0/task:0/gpu:0\", send_device_incarnation=1, tensor_name=\"edge_969_Mean_3\", tensor_type=DT_FLOAT, _device=\"/job:localhost/replica:0/task:0/cpu:0\"]()]]\n\nCaused by op 'Conv2D_4', defined at:\n  File \"/home/ubuntu/anaconda3/lib/python3.6/runpy.py\", line 193, in _run_module_as_main\n    \"__main__\", mod_spec)\n  File \"/home/ubuntu/anaconda3/lib/python3.6/runpy.py\", line 85, in _run_code\n    exec(code, run_globals)\n  File \"/home/ubuntu/anaconda3/lib/python3.6/site-packages/ipykernel_launcher.py\", line 16, in <module>\n    app.launch_new_instance()\n  File \"/home/ubuntu/anaconda3/lib/python3.6/site-packages/traitlets/config/application.py\", line 658, in launch_instance\n    app.start()\n  File \"/home/ubuntu/anaconda3/lib/python3.6/site-packages/ipykernel/kernelapp.py\", line 477, in start\n    ioloop.IOLoop.instance().start()\n  File \"/home/ubuntu/anaconda3/lib/python3.6/site-packages/zmq/eventloop/ioloop.py\", line 177, in start\n    super(ZMQIOLoop, self).start()\n  File \"/home/ubuntu/anaconda3/lib/python3.6/site-packages/tornado/ioloop.py\", line 888, in start\n    handler_func(fd_obj, events)\n  File \"/home/ubuntu/anaconda3/lib/python3.6/site-packages/tornado/stack_context.py\", line 277, in null_wrapper\n    return fn(*args, **kwargs)\n  File \"/home/ubuntu/anaconda3/lib/python3.6/site-packages/zmq/eventloop/zmqstream.py\", line 440, in _handle_events\n    self._handle_recv()\n  File \"/home/ubuntu/anaconda3/lib/python3.6/site-packages/zmq/eventloop/zmqstream.py\", line 472, in _handle_recv\n    self._run_callback(callback, msg)\n  File \"/home/ubuntu/anaconda3/lib/python3.6/site-packages/zmq/eventloop/zmqstream.py\", line 414, in _run_callback\n    callback(*args, **kwargs)\n  File \"/home/ubuntu/anaconda3/lib/python3.6/site-packages/tornado/stack_context.py\", line 277, in null_wrapper\n    return fn(*args, **kwargs)\n  File \"/home/ubuntu/anaconda3/lib/python3.6/site-packages/ipykernel/kernelbase.py\", line 283, in dispatcher\n    return self.dispatch_shell(stream, msg)\n  File \"/home/ubuntu/anaconda3/lib/python3.6/site-packages/ipykernel/kernelbase.py\", line 235, in dispatch_shell\n    handler(stream, idents, msg)\n  File \"/home/ubuntu/anaconda3/lib/python3.6/site-packages/ipykernel/kernelbase.py\", line 399, in execute_request\n    user_expressions, allow_stdin)\n  File \"/home/ubuntu/anaconda3/lib/python3.6/site-packages/ipykernel/ipkernel.py\", line 196, in do_execute\n    res = shell.run_cell(code, store_history=store_history, silent=silent)\n  File \"/home/ubuntu/anaconda3/lib/python3.6/site-packages/ipykernel/zmqshell.py\", line 533, in run_cell\n    return super(ZMQInteractiveShell, self).run_cell(*args, **kwargs)\n  File \"/home/ubuntu/anaconda3/lib/python3.6/site-packages/IPython/core/interactiveshell.py\", line 2717, in run_cell\n    interactivity=interactivity, compiler=compiler, result=result)\n  File \"/home/ubuntu/anaconda3/lib/python3.6/site-packages/IPython/core/interactiveshell.py\", line 2821, in run_ast_nodes\n    if self.run_code(code, result):\n  File \"/home/ubuntu/anaconda3/lib/python3.6/site-packages/IPython/core/interactiveshell.py\", line 2881, in run_code\n    exec(code_obj, self.user_global_ns, self.user_ns)\n  File \"<ipython-input-29-5e9f3dbee4bd>\", line 2, in <module>\n    new_model.add(Conv2D(32, 3, 3, input_shape=[224,224,3]))\n  File \"/home/ubuntu/anaconda3/lib/python3.6/site-packages/keras/models.py\", line 299, in add\n    layer.create_input_layer(batch_input_shape, input_dtype)\n  File \"/home/ubuntu/anaconda3/lib/python3.6/site-packages/keras/engine/topology.py\", line 401, in create_input_layer\n    self(x)\n  File \"/home/ubuntu/anaconda3/lib/python3.6/site-packages/keras/engine/topology.py\", line 572, in __call__\n    self.add_inbound_node(inbound_layers, node_indices, tensor_indices)\n  File \"/home/ubuntu/anaconda3/lib/python3.6/site-packages/keras/engine/topology.py\", line 635, in add_inbound_node\n    Node.create_node(self, inbound_layers, node_indices, tensor_indices)\n  File \"/home/ubuntu/anaconda3/lib/python3.6/site-packages/keras/engine/topology.py\", line 166, in create_node\n    output_tensors = to_list(outbound_layer.call(input_tensors[0], mask=input_masks[0]))\n  File \"/home/ubuntu/anaconda3/lib/python3.6/site-packages/keras/layers/convolutional.py\", line 475, in call\n    filter_shape=self.W_shape)\n  File \"/home/ubuntu/anaconda3/lib/python3.6/site-packages/keras/backend/tensorflow_backend.py\", line 2691, in conv2d\n    x = tf.nn.conv2d(x, kernel, strides, padding=padding)\n  File \"/home/ubuntu/anaconda3/lib/python3.6/site-packages/tensorflow/python/ops/gen_nn_ops.py\", line 396, in conv2d\n    data_format=data_format, name=name)\n  File \"/home/ubuntu/anaconda3/lib/python3.6/site-packages/tensorflow/python/framework/op_def_library.py\", line 763, in apply_op\n    op_def=op_def)\n  File \"/home/ubuntu/anaconda3/lib/python3.6/site-packages/tensorflow/python/framework/ops.py\", line 2395, in create_op\n    original_op=self._default_original_op, op_def=op_def)\n  File \"/home/ubuntu/anaconda3/lib/python3.6/site-packages/tensorflow/python/framework/ops.py\", line 1264, in __init__\n    self._traceback = _extract_stack()\n\nResourceExhaustedError (see above for traceback): OOM when allocating tensor with shape[32,222,222,32]\n\t [[Node: Conv2D_4 = Conv2D[T=DT_FLOAT, data_format=\"NHWC\", padding=\"VALID\", strides=[1, 1, 1, 1], use_cudnn_on_gpu=true, _device=\"/job:localhost/replica:0/task:0/gpu:0\"](_recv_convolution2d_input_3_0/_9, convolution2d_5_W/read)]]\n\t [[Node: Mean_3/_37 = _Recv[client_terminated=false, recv_device=\"/job:localhost/replica:0/task:0/cpu:0\", send_device=\"/job:localhost/replica:0/task:0/gpu:0\", send_device_incarnation=1, tensor_name=\"edge_969_Mean_3\", tensor_type=DT_FLOAT, _device=\"/job:localhost/replica:0/task:0/cpu:0\"]()]]\n",
     "output_type": "error",
     "traceback": [
      "\u001b[0;31m---------------------------------------------------------------------------\u001b[0m",
      "\u001b[0;31mResourceExhaustedError\u001b[0m                    Traceback (most recent call last)",
      "\u001b[0;32m/home/ubuntu/anaconda3/lib/python3.6/site-packages/tensorflow/python/client/session.py\u001b[0m in \u001b[0;36m_do_call\u001b[0;34m(self, fn, *args)\u001b[0m\n\u001b[1;32m   1021\u001b[0m     \u001b[0;32mtry\u001b[0m\u001b[0;34m:\u001b[0m\u001b[0;34m\u001b[0m\u001b[0m\n\u001b[0;32m-> 1022\u001b[0;31m       \u001b[0;32mreturn\u001b[0m \u001b[0mfn\u001b[0m\u001b[0;34m(\u001b[0m\u001b[0;34m*\u001b[0m\u001b[0margs\u001b[0m\u001b[0;34m)\u001b[0m\u001b[0;34m\u001b[0m\u001b[0m\n\u001b[0m\u001b[1;32m   1023\u001b[0m     \u001b[0;32mexcept\u001b[0m \u001b[0merrors\u001b[0m\u001b[0;34m.\u001b[0m\u001b[0mOpError\u001b[0m \u001b[0;32mas\u001b[0m \u001b[0me\u001b[0m\u001b[0;34m:\u001b[0m\u001b[0;34m\u001b[0m\u001b[0m\n",
      "\u001b[0;32m/home/ubuntu/anaconda3/lib/python3.6/site-packages/tensorflow/python/client/session.py\u001b[0m in \u001b[0;36m_run_fn\u001b[0;34m(session, feed_dict, fetch_list, target_list, options, run_metadata)\u001b[0m\n\u001b[1;32m   1003\u001b[0m                                  \u001b[0mfeed_dict\u001b[0m\u001b[0;34m,\u001b[0m \u001b[0mfetch_list\u001b[0m\u001b[0;34m,\u001b[0m \u001b[0mtarget_list\u001b[0m\u001b[0;34m,\u001b[0m\u001b[0;34m\u001b[0m\u001b[0m\n\u001b[0;32m-> 1004\u001b[0;31m                                  status, run_metadata)\n\u001b[0m\u001b[1;32m   1005\u001b[0m \u001b[0;34m\u001b[0m\u001b[0m\n",
      "\u001b[0;32m/home/ubuntu/anaconda3/lib/python3.6/contextlib.py\u001b[0m in \u001b[0;36m__exit__\u001b[0;34m(self, type, value, traceback)\u001b[0m\n\u001b[1;32m     88\u001b[0m             \u001b[0;32mtry\u001b[0m\u001b[0;34m:\u001b[0m\u001b[0;34m\u001b[0m\u001b[0m\n\u001b[0;32m---> 89\u001b[0;31m                 \u001b[0mnext\u001b[0m\u001b[0;34m(\u001b[0m\u001b[0mself\u001b[0m\u001b[0;34m.\u001b[0m\u001b[0mgen\u001b[0m\u001b[0;34m)\u001b[0m\u001b[0;34m\u001b[0m\u001b[0m\n\u001b[0m\u001b[1;32m     90\u001b[0m             \u001b[0;32mexcept\u001b[0m \u001b[0mStopIteration\u001b[0m\u001b[0;34m:\u001b[0m\u001b[0;34m\u001b[0m\u001b[0m\n",
      "\u001b[0;32m/home/ubuntu/anaconda3/lib/python3.6/site-packages/tensorflow/python/framework/errors_impl.py\u001b[0m in \u001b[0;36mraise_exception_on_not_ok_status\u001b[0;34m()\u001b[0m\n\u001b[1;32m    468\u001b[0m           \u001b[0mcompat\u001b[0m\u001b[0;34m.\u001b[0m\u001b[0mas_text\u001b[0m\u001b[0;34m(\u001b[0m\u001b[0mpywrap_tensorflow\u001b[0m\u001b[0;34m.\u001b[0m\u001b[0mTF_Message\u001b[0m\u001b[0;34m(\u001b[0m\u001b[0mstatus\u001b[0m\u001b[0;34m)\u001b[0m\u001b[0;34m)\u001b[0m\u001b[0;34m,\u001b[0m\u001b[0;34m\u001b[0m\u001b[0m\n\u001b[0;32m--> 469\u001b[0;31m           pywrap_tensorflow.TF_GetCode(status))\n\u001b[0m\u001b[1;32m    470\u001b[0m   \u001b[0;32mfinally\u001b[0m\u001b[0;34m:\u001b[0m\u001b[0;34m\u001b[0m\u001b[0m\n",
      "\u001b[0;31mResourceExhaustedError\u001b[0m: OOM when allocating tensor with shape[32,222,222,32]\n\t [[Node: Conv2D_4 = Conv2D[T=DT_FLOAT, data_format=\"NHWC\", padding=\"VALID\", strides=[1, 1, 1, 1], use_cudnn_on_gpu=true, _device=\"/job:localhost/replica:0/task:0/gpu:0\"](_recv_convolution2d_input_3_0/_9, convolution2d_5_W/read)]]\n\t [[Node: Mean_3/_37 = _Recv[client_terminated=false, recv_device=\"/job:localhost/replica:0/task:0/cpu:0\", send_device=\"/job:localhost/replica:0/task:0/gpu:0\", send_device_incarnation=1, tensor_name=\"edge_969_Mean_3\", tensor_type=DT_FLOAT, _device=\"/job:localhost/replica:0/task:0/cpu:0\"]()]]",
      "\nDuring handling of the above exception, another exception occurred:\n",
      "\u001b[0;31mResourceExhaustedError\u001b[0m                    Traceback (most recent call last)",
      "\u001b[0;32m<ipython-input-31-8cdcd2bf8e08>\u001b[0m in \u001b[0;36m<module>\u001b[0;34m()\u001b[0m\n\u001b[1;32m      6\u001b[0m \u001b[0mmodel_checkpoint\u001b[0m \u001b[0;34m=\u001b[0m \u001b[0mModelCheckpoint\u001b[0m\u001b[0;34m(\u001b[0m\u001b[0mbst_model_path\u001b[0m\u001b[0;34m,\u001b[0m \u001b[0msave_best_only\u001b[0m\u001b[0;34m=\u001b[0m\u001b[0;32mTrue\u001b[0m\u001b[0;34m,\u001b[0m \u001b[0msave_weights_only\u001b[0m\u001b[0;34m=\u001b[0m\u001b[0;32mTrue\u001b[0m\u001b[0;34m)\u001b[0m\u001b[0;34m\u001b[0m\u001b[0m\n\u001b[1;32m      7\u001b[0m \u001b[0;34m\u001b[0m\u001b[0m\n\u001b[0;32m----> 8\u001b[0;31m \u001b[0mhist\u001b[0m \u001b[0;34m=\u001b[0m \u001b[0mnew_model\u001b[0m\u001b[0;34m.\u001b[0m\u001b[0mfit\u001b[0m\u001b[0;34m(\u001b[0m\u001b[0mtrn_imgs\u001b[0m\u001b[0;34m,\u001b[0m\u001b[0mto_categorical\u001b[0m\u001b[0;34m(\u001b[0m\u001b[0my\u001b[0m\u001b[0;34m-\u001b[0m\u001b[0;36m1\u001b[0m\u001b[0;34m)\u001b[0m\u001b[0;34m,\u001b[0m         \u001b[0mvalidation_data\u001b[0m\u001b[0;34m=\u001b[0m\u001b[0;34m(\u001b[0m\u001b[0mval_imgs\u001b[0m\u001b[0;34m,\u001b[0m\u001b[0mto_categorical\u001b[0m\u001b[0;34m(\u001b[0m\u001b[0my_val\u001b[0m\u001b[0;34m-\u001b[0m\u001b[0;36m1\u001b[0m\u001b[0;34m)\u001b[0m\u001b[0;34m)\u001b[0m\u001b[0;34m,\u001b[0m         \u001b[0mnb_epoch\u001b[0m\u001b[0;34m=\u001b[0m\u001b[0;36m200\u001b[0m\u001b[0;34m,\u001b[0m \u001b[0mshuffle\u001b[0m\u001b[0;34m=\u001b[0m\u001b[0;32mTrue\u001b[0m\u001b[0;34m,\u001b[0m         \u001b[0mcallbacks\u001b[0m\u001b[0;34m=\u001b[0m\u001b[0;34m[\u001b[0m\u001b[0mearly_stopping\u001b[0m\u001b[0;34m,\u001b[0m \u001b[0mmodel_checkpoint\u001b[0m\u001b[0;34m]\u001b[0m\u001b[0;34m)\u001b[0m\u001b[0;34m\u001b[0m\u001b[0m\n\u001b[0m",
      "\u001b[0;32m/home/ubuntu/anaconda3/lib/python3.6/site-packages/keras/models.py\u001b[0m in \u001b[0;36mfit\u001b[0;34m(self, x, y, batch_size, nb_epoch, verbose, callbacks, validation_split, validation_data, shuffle, class_weight, sample_weight, initial_epoch, **kwargs)\u001b[0m\n\u001b[1;32m    670\u001b[0m                               \u001b[0mclass_weight\u001b[0m\u001b[0;34m=\u001b[0m\u001b[0mclass_weight\u001b[0m\u001b[0;34m,\u001b[0m\u001b[0;34m\u001b[0m\u001b[0m\n\u001b[1;32m    671\u001b[0m                               \u001b[0msample_weight\u001b[0m\u001b[0;34m=\u001b[0m\u001b[0msample_weight\u001b[0m\u001b[0;34m,\u001b[0m\u001b[0;34m\u001b[0m\u001b[0m\n\u001b[0;32m--> 672\u001b[0;31m                               initial_epoch=initial_epoch)\n\u001b[0m\u001b[1;32m    673\u001b[0m \u001b[0;34m\u001b[0m\u001b[0m\n\u001b[1;32m    674\u001b[0m     def evaluate(self, x, y, batch_size=32, verbose=1,\n",
      "\u001b[0;32m/home/ubuntu/anaconda3/lib/python3.6/site-packages/keras/engine/training.py\u001b[0m in \u001b[0;36mfit\u001b[0;34m(self, x, y, batch_size, nb_epoch, verbose, callbacks, validation_split, validation_data, shuffle, class_weight, sample_weight, initial_epoch)\u001b[0m\n\u001b[1;32m   1194\u001b[0m                               \u001b[0mval_f\u001b[0m\u001b[0;34m=\u001b[0m\u001b[0mval_f\u001b[0m\u001b[0;34m,\u001b[0m \u001b[0mval_ins\u001b[0m\u001b[0;34m=\u001b[0m\u001b[0mval_ins\u001b[0m\u001b[0;34m,\u001b[0m \u001b[0mshuffle\u001b[0m\u001b[0;34m=\u001b[0m\u001b[0mshuffle\u001b[0m\u001b[0;34m,\u001b[0m\u001b[0;34m\u001b[0m\u001b[0m\n\u001b[1;32m   1195\u001b[0m                               \u001b[0mcallback_metrics\u001b[0m\u001b[0;34m=\u001b[0m\u001b[0mcallback_metrics\u001b[0m\u001b[0;34m,\u001b[0m\u001b[0;34m\u001b[0m\u001b[0m\n\u001b[0;32m-> 1196\u001b[0;31m                               initial_epoch=initial_epoch)\n\u001b[0m\u001b[1;32m   1197\u001b[0m \u001b[0;34m\u001b[0m\u001b[0m\n\u001b[1;32m   1198\u001b[0m     \u001b[0;32mdef\u001b[0m \u001b[0mevaluate\u001b[0m\u001b[0;34m(\u001b[0m\u001b[0mself\u001b[0m\u001b[0;34m,\u001b[0m \u001b[0mx\u001b[0m\u001b[0;34m,\u001b[0m \u001b[0my\u001b[0m\u001b[0;34m,\u001b[0m \u001b[0mbatch_size\u001b[0m\u001b[0;34m=\u001b[0m\u001b[0;36m32\u001b[0m\u001b[0;34m,\u001b[0m \u001b[0mverbose\u001b[0m\u001b[0;34m=\u001b[0m\u001b[0;36m1\u001b[0m\u001b[0;34m,\u001b[0m \u001b[0msample_weight\u001b[0m\u001b[0;34m=\u001b[0m\u001b[0;32mNone\u001b[0m\u001b[0;34m)\u001b[0m\u001b[0;34m:\u001b[0m\u001b[0;34m\u001b[0m\u001b[0m\n",
      "\u001b[0;32m/home/ubuntu/anaconda3/lib/python3.6/site-packages/keras/engine/training.py\u001b[0m in \u001b[0;36m_fit_loop\u001b[0;34m(self, f, ins, out_labels, batch_size, nb_epoch, verbose, callbacks, val_f, val_ins, shuffle, callback_metrics, initial_epoch)\u001b[0m\n\u001b[1;32m    889\u001b[0m                 \u001b[0mbatch_logs\u001b[0m\u001b[0;34m[\u001b[0m\u001b[0;34m'size'\u001b[0m\u001b[0;34m]\u001b[0m \u001b[0;34m=\u001b[0m \u001b[0mlen\u001b[0m\u001b[0;34m(\u001b[0m\u001b[0mbatch_ids\u001b[0m\u001b[0;34m)\u001b[0m\u001b[0;34m\u001b[0m\u001b[0m\n\u001b[1;32m    890\u001b[0m                 \u001b[0mcallbacks\u001b[0m\u001b[0;34m.\u001b[0m\u001b[0mon_batch_begin\u001b[0m\u001b[0;34m(\u001b[0m\u001b[0mbatch_index\u001b[0m\u001b[0;34m,\u001b[0m \u001b[0mbatch_logs\u001b[0m\u001b[0;34m)\u001b[0m\u001b[0;34m\u001b[0m\u001b[0m\n\u001b[0;32m--> 891\u001b[0;31m                 \u001b[0mouts\u001b[0m \u001b[0;34m=\u001b[0m \u001b[0mf\u001b[0m\u001b[0;34m(\u001b[0m\u001b[0mins_batch\u001b[0m\u001b[0;34m)\u001b[0m\u001b[0;34m\u001b[0m\u001b[0m\n\u001b[0m\u001b[1;32m    892\u001b[0m                 \u001b[0;32mif\u001b[0m \u001b[0;32mnot\u001b[0m \u001b[0misinstance\u001b[0m\u001b[0;34m(\u001b[0m\u001b[0mouts\u001b[0m\u001b[0;34m,\u001b[0m \u001b[0mlist\u001b[0m\u001b[0;34m)\u001b[0m\u001b[0;34m:\u001b[0m\u001b[0;34m\u001b[0m\u001b[0m\n\u001b[1;32m    893\u001b[0m                     \u001b[0mouts\u001b[0m \u001b[0;34m=\u001b[0m \u001b[0;34m[\u001b[0m\u001b[0mouts\u001b[0m\u001b[0;34m]\u001b[0m\u001b[0;34m\u001b[0m\u001b[0m\n",
      "\u001b[0;32m/home/ubuntu/anaconda3/lib/python3.6/site-packages/keras/backend/tensorflow_backend.py\u001b[0m in \u001b[0;36m__call__\u001b[0;34m(self, inputs)\u001b[0m\n\u001b[1;32m   1941\u001b[0m         \u001b[0msession\u001b[0m \u001b[0;34m=\u001b[0m \u001b[0mget_session\u001b[0m\u001b[0;34m(\u001b[0m\u001b[0;34m)\u001b[0m\u001b[0;34m\u001b[0m\u001b[0m\n\u001b[1;32m   1942\u001b[0m         updated = session.run(self.outputs + [self.updates_op],\n\u001b[0;32m-> 1943\u001b[0;31m                               feed_dict=feed_dict)\n\u001b[0m\u001b[1;32m   1944\u001b[0m         \u001b[0;32mreturn\u001b[0m \u001b[0mupdated\u001b[0m\u001b[0;34m[\u001b[0m\u001b[0;34m:\u001b[0m\u001b[0mlen\u001b[0m\u001b[0;34m(\u001b[0m\u001b[0mself\u001b[0m\u001b[0;34m.\u001b[0m\u001b[0moutputs\u001b[0m\u001b[0;34m)\u001b[0m\u001b[0;34m]\u001b[0m\u001b[0;34m\u001b[0m\u001b[0m\n\u001b[1;32m   1945\u001b[0m \u001b[0;34m\u001b[0m\u001b[0m\n",
      "\u001b[0;32m/home/ubuntu/anaconda3/lib/python3.6/site-packages/tensorflow/python/client/session.py\u001b[0m in \u001b[0;36mrun\u001b[0;34m(self, fetches, feed_dict, options, run_metadata)\u001b[0m\n\u001b[1;32m    765\u001b[0m     \u001b[0;32mtry\u001b[0m\u001b[0;34m:\u001b[0m\u001b[0;34m\u001b[0m\u001b[0m\n\u001b[1;32m    766\u001b[0m       result = self._run(None, fetches, feed_dict, options_ptr,\n\u001b[0;32m--> 767\u001b[0;31m                          run_metadata_ptr)\n\u001b[0m\u001b[1;32m    768\u001b[0m       \u001b[0;32mif\u001b[0m \u001b[0mrun_metadata\u001b[0m\u001b[0;34m:\u001b[0m\u001b[0;34m\u001b[0m\u001b[0m\n\u001b[1;32m    769\u001b[0m         \u001b[0mproto_data\u001b[0m \u001b[0;34m=\u001b[0m \u001b[0mtf_session\u001b[0m\u001b[0;34m.\u001b[0m\u001b[0mTF_GetBuffer\u001b[0m\u001b[0;34m(\u001b[0m\u001b[0mrun_metadata_ptr\u001b[0m\u001b[0;34m)\u001b[0m\u001b[0;34m\u001b[0m\u001b[0m\n",
      "\u001b[0;32m/home/ubuntu/anaconda3/lib/python3.6/site-packages/tensorflow/python/client/session.py\u001b[0m in \u001b[0;36m_run\u001b[0;34m(self, handle, fetches, feed_dict, options, run_metadata)\u001b[0m\n\u001b[1;32m    963\u001b[0m     \u001b[0;32mif\u001b[0m \u001b[0mfinal_fetches\u001b[0m \u001b[0;32mor\u001b[0m \u001b[0mfinal_targets\u001b[0m\u001b[0;34m:\u001b[0m\u001b[0;34m\u001b[0m\u001b[0m\n\u001b[1;32m    964\u001b[0m       results = self._do_run(handle, final_targets, final_fetches,\n\u001b[0;32m--> 965\u001b[0;31m                              feed_dict_string, options, run_metadata)\n\u001b[0m\u001b[1;32m    966\u001b[0m     \u001b[0;32melse\u001b[0m\u001b[0;34m:\u001b[0m\u001b[0;34m\u001b[0m\u001b[0m\n\u001b[1;32m    967\u001b[0m       \u001b[0mresults\u001b[0m \u001b[0;34m=\u001b[0m \u001b[0;34m[\u001b[0m\u001b[0;34m]\u001b[0m\u001b[0;34m\u001b[0m\u001b[0m\n",
      "\u001b[0;32m/home/ubuntu/anaconda3/lib/python3.6/site-packages/tensorflow/python/client/session.py\u001b[0m in \u001b[0;36m_do_run\u001b[0;34m(self, handle, target_list, fetch_list, feed_dict, options, run_metadata)\u001b[0m\n\u001b[1;32m   1013\u001b[0m     \u001b[0;32mif\u001b[0m \u001b[0mhandle\u001b[0m \u001b[0;32mis\u001b[0m \u001b[0;32mNone\u001b[0m\u001b[0;34m:\u001b[0m\u001b[0;34m\u001b[0m\u001b[0m\n\u001b[1;32m   1014\u001b[0m       return self._do_call(_run_fn, self._session, feed_dict, fetch_list,\n\u001b[0;32m-> 1015\u001b[0;31m                            target_list, options, run_metadata)\n\u001b[0m\u001b[1;32m   1016\u001b[0m     \u001b[0;32melse\u001b[0m\u001b[0;34m:\u001b[0m\u001b[0;34m\u001b[0m\u001b[0m\n\u001b[1;32m   1017\u001b[0m       return self._do_call(_prun_fn, self._session, handle, feed_dict,\n",
      "\u001b[0;32m/home/ubuntu/anaconda3/lib/python3.6/site-packages/tensorflow/python/client/session.py\u001b[0m in \u001b[0;36m_do_call\u001b[0;34m(self, fn, *args)\u001b[0m\n\u001b[1;32m   1033\u001b[0m         \u001b[0;32mexcept\u001b[0m \u001b[0mKeyError\u001b[0m\u001b[0;34m:\u001b[0m\u001b[0;34m\u001b[0m\u001b[0m\n\u001b[1;32m   1034\u001b[0m           \u001b[0;32mpass\u001b[0m\u001b[0;34m\u001b[0m\u001b[0m\n\u001b[0;32m-> 1035\u001b[0;31m       \u001b[0;32mraise\u001b[0m \u001b[0mtype\u001b[0m\u001b[0;34m(\u001b[0m\u001b[0me\u001b[0m\u001b[0;34m)\u001b[0m\u001b[0;34m(\u001b[0m\u001b[0mnode_def\u001b[0m\u001b[0;34m,\u001b[0m \u001b[0mop\u001b[0m\u001b[0;34m,\u001b[0m \u001b[0mmessage\u001b[0m\u001b[0;34m)\u001b[0m\u001b[0;34m\u001b[0m\u001b[0m\n\u001b[0m\u001b[1;32m   1036\u001b[0m \u001b[0;34m\u001b[0m\u001b[0m\n\u001b[1;32m   1037\u001b[0m   \u001b[0;32mdef\u001b[0m \u001b[0m_extend_graph\u001b[0m\u001b[0;34m(\u001b[0m\u001b[0mself\u001b[0m\u001b[0;34m)\u001b[0m\u001b[0;34m:\u001b[0m\u001b[0;34m\u001b[0m\u001b[0m\n",
      "\u001b[0;31mResourceExhaustedError\u001b[0m: OOM when allocating tensor with shape[32,222,222,32]\n\t [[Node: Conv2D_4 = Conv2D[T=DT_FLOAT, data_format=\"NHWC\", padding=\"VALID\", strides=[1, 1, 1, 1], use_cudnn_on_gpu=true, _device=\"/job:localhost/replica:0/task:0/gpu:0\"](_recv_convolution2d_input_3_0/_9, convolution2d_5_W/read)]]\n\t [[Node: Mean_3/_37 = _Recv[client_terminated=false, recv_device=\"/job:localhost/replica:0/task:0/cpu:0\", send_device=\"/job:localhost/replica:0/task:0/gpu:0\", send_device_incarnation=1, tensor_name=\"edge_969_Mean_3\", tensor_type=DT_FLOAT, _device=\"/job:localhost/replica:0/task:0/cpu:0\"]()]]\n\nCaused by op 'Conv2D_4', defined at:\n  File \"/home/ubuntu/anaconda3/lib/python3.6/runpy.py\", line 193, in _run_module_as_main\n    \"__main__\", mod_spec)\n  File \"/home/ubuntu/anaconda3/lib/python3.6/runpy.py\", line 85, in _run_code\n    exec(code, run_globals)\n  File \"/home/ubuntu/anaconda3/lib/python3.6/site-packages/ipykernel_launcher.py\", line 16, in <module>\n    app.launch_new_instance()\n  File \"/home/ubuntu/anaconda3/lib/python3.6/site-packages/traitlets/config/application.py\", line 658, in launch_instance\n    app.start()\n  File \"/home/ubuntu/anaconda3/lib/python3.6/site-packages/ipykernel/kernelapp.py\", line 477, in start\n    ioloop.IOLoop.instance().start()\n  File \"/home/ubuntu/anaconda3/lib/python3.6/site-packages/zmq/eventloop/ioloop.py\", line 177, in start\n    super(ZMQIOLoop, self).start()\n  File \"/home/ubuntu/anaconda3/lib/python3.6/site-packages/tornado/ioloop.py\", line 888, in start\n    handler_func(fd_obj, events)\n  File \"/home/ubuntu/anaconda3/lib/python3.6/site-packages/tornado/stack_context.py\", line 277, in null_wrapper\n    return fn(*args, **kwargs)\n  File \"/home/ubuntu/anaconda3/lib/python3.6/site-packages/zmq/eventloop/zmqstream.py\", line 440, in _handle_events\n    self._handle_recv()\n  File \"/home/ubuntu/anaconda3/lib/python3.6/site-packages/zmq/eventloop/zmqstream.py\", line 472, in _handle_recv\n    self._run_callback(callback, msg)\n  File \"/home/ubuntu/anaconda3/lib/python3.6/site-packages/zmq/eventloop/zmqstream.py\", line 414, in _run_callback\n    callback(*args, **kwargs)\n  File \"/home/ubuntu/anaconda3/lib/python3.6/site-packages/tornado/stack_context.py\", line 277, in null_wrapper\n    return fn(*args, **kwargs)\n  File \"/home/ubuntu/anaconda3/lib/python3.6/site-packages/ipykernel/kernelbase.py\", line 283, in dispatcher\n    return self.dispatch_shell(stream, msg)\n  File \"/home/ubuntu/anaconda3/lib/python3.6/site-packages/ipykernel/kernelbase.py\", line 235, in dispatch_shell\n    handler(stream, idents, msg)\n  File \"/home/ubuntu/anaconda3/lib/python3.6/site-packages/ipykernel/kernelbase.py\", line 399, in execute_request\n    user_expressions, allow_stdin)\n  File \"/home/ubuntu/anaconda3/lib/python3.6/site-packages/ipykernel/ipkernel.py\", line 196, in do_execute\n    res = shell.run_cell(code, store_history=store_history, silent=silent)\n  File \"/home/ubuntu/anaconda3/lib/python3.6/site-packages/ipykernel/zmqshell.py\", line 533, in run_cell\n    return super(ZMQInteractiveShell, self).run_cell(*args, **kwargs)\n  File \"/home/ubuntu/anaconda3/lib/python3.6/site-packages/IPython/core/interactiveshell.py\", line 2717, in run_cell\n    interactivity=interactivity, compiler=compiler, result=result)\n  File \"/home/ubuntu/anaconda3/lib/python3.6/site-packages/IPython/core/interactiveshell.py\", line 2821, in run_ast_nodes\n    if self.run_code(code, result):\n  File \"/home/ubuntu/anaconda3/lib/python3.6/site-packages/IPython/core/interactiveshell.py\", line 2881, in run_code\n    exec(code_obj, self.user_global_ns, self.user_ns)\n  File \"<ipython-input-29-5e9f3dbee4bd>\", line 2, in <module>\n    new_model.add(Conv2D(32, 3, 3, input_shape=[224,224,3]))\n  File \"/home/ubuntu/anaconda3/lib/python3.6/site-packages/keras/models.py\", line 299, in add\n    layer.create_input_layer(batch_input_shape, input_dtype)\n  File \"/home/ubuntu/anaconda3/lib/python3.6/site-packages/keras/engine/topology.py\", line 401, in create_input_layer\n    self(x)\n  File \"/home/ubuntu/anaconda3/lib/python3.6/site-packages/keras/engine/topology.py\", line 572, in __call__\n    self.add_inbound_node(inbound_layers, node_indices, tensor_indices)\n  File \"/home/ubuntu/anaconda3/lib/python3.6/site-packages/keras/engine/topology.py\", line 635, in add_inbound_node\n    Node.create_node(self, inbound_layers, node_indices, tensor_indices)\n  File \"/home/ubuntu/anaconda3/lib/python3.6/site-packages/keras/engine/topology.py\", line 166, in create_node\n    output_tensors = to_list(outbound_layer.call(input_tensors[0], mask=input_masks[0]))\n  File \"/home/ubuntu/anaconda3/lib/python3.6/site-packages/keras/layers/convolutional.py\", line 475, in call\n    filter_shape=self.W_shape)\n  File \"/home/ubuntu/anaconda3/lib/python3.6/site-packages/keras/backend/tensorflow_backend.py\", line 2691, in conv2d\n    x = tf.nn.conv2d(x, kernel, strides, padding=padding)\n  File \"/home/ubuntu/anaconda3/lib/python3.6/site-packages/tensorflow/python/ops/gen_nn_ops.py\", line 396, in conv2d\n    data_format=data_format, name=name)\n  File \"/home/ubuntu/anaconda3/lib/python3.6/site-packages/tensorflow/python/framework/op_def_library.py\", line 763, in apply_op\n    op_def=op_def)\n  File \"/home/ubuntu/anaconda3/lib/python3.6/site-packages/tensorflow/python/framework/ops.py\", line 2395, in create_op\n    original_op=self._default_original_op, op_def=op_def)\n  File \"/home/ubuntu/anaconda3/lib/python3.6/site-packages/tensorflow/python/framework/ops.py\", line 1264, in __init__\n    self._traceback = _extract_stack()\n\nResourceExhaustedError (see above for traceback): OOM when allocating tensor with shape[32,222,222,32]\n\t [[Node: Conv2D_4 = Conv2D[T=DT_FLOAT, data_format=\"NHWC\", padding=\"VALID\", strides=[1, 1, 1, 1], use_cudnn_on_gpu=true, _device=\"/job:localhost/replica:0/task:0/gpu:0\"](_recv_convolution2d_input_3_0/_9, convolution2d_5_W/read)]]\n\t [[Node: Mean_3/_37 = _Recv[client_terminated=false, recv_device=\"/job:localhost/replica:0/task:0/cpu:0\", send_device=\"/job:localhost/replica:0/task:0/gpu:0\", send_device_incarnation=1, tensor_name=\"edge_969_Mean_3\", tensor_type=DT_FLOAT, _device=\"/job:localhost/replica:0/task:0/cpu:0\"]()]]\n"
     ]
    }
   ],
   "source": [
    "early_stopping =EarlyStopping(monitor='val_loss', patience=3)\n",
    "results_path='/mnt/kaggle_crevical/results/'\n",
    "STAMP='small_model'\n",
    "bst_model_path = results_path+STAMP + '.h5'\n",
    "\n",
    "model_checkpoint = ModelCheckpoint(bst_model_path, save_best_only=True, save_weights_only=True)\n",
    "\n",
    "hist = new_model.fit(trn_imgs,to_categorical(y-1), \\\n",
    "        validation_data=(val_imgs,to_categorical(y_val-1)), \\\n",
    "        nb_epoch=200, shuffle=True, \\\n",
    "        callbacks=[early_stopping, model_checkpoint])"
   ]
  },
  {
   "cell_type": "markdown",
   "metadata": {
    "heading_collapsed": true
   },
   "source": [
    "## finetune VGG"
   ]
  },
  {
   "cell_type": "code",
   "execution_count": 11,
   "metadata": {
    "collapsed": true,
    "hidden": true
   },
   "outputs": [],
   "source": [
    "from keras.layers import Dense,BatchNormalization,Flatten,Dropout,MaxPooling2D\n",
    "from keras.layers.convolutional import Convolution2D \n",
    "from keras.models import Model,Sequential\n",
    "from keras.optimizers import Adam"
   ]
  },
  {
   "cell_type": "code",
   "execution_count": 8,
   "metadata": {
    "collapsed": true,
    "hidden": true
   },
   "outputs": [],
   "source": [
    "def split_at(model, layer_type):\n",
    "    layers = model.layers\n",
    "    layer_idx = [index for index,layer in enumerate(layers) if type(layer) is layer_type][-1]\n",
    "    return layers[:layer_idx+1], layers[layer_idx+1:]"
   ]
  },
  {
   "cell_type": "code",
   "execution_count": 9,
   "metadata": {
    "collapsed": true,
    "hidden": true
   },
   "outputs": [],
   "source": [
    "conv_layers,fc_layers = split_at(vgg, Convolution2D)"
   ]
  },
  {
   "cell_type": "code",
   "execution_count": 12,
   "metadata": {
    "collapsed": true,
    "hidden": true
   },
   "outputs": [],
   "source": [
    "conv_model = Sequential(conv_layers)"
   ]
  },
  {
   "cell_type": "code",
   "execution_count": 519,
   "metadata": {
    "collapsed": true,
    "hidden": true
   },
   "outputs": [],
   "source": [
    "conv_trn=conv_model.predict(trn)\n",
    "conv_val=conv_model.predict(val)"
   ]
  },
  {
   "cell_type": "code",
   "execution_count": 524,
   "metadata": {
    "collapsed": true,
    "hidden": true
   },
   "outputs": [],
   "source": [
    "save_array('train/shrunk_files/conv_trn',conv_trn)\n",
    "save_array('train/shrunk_files/conv_val',conv_val)\n",
    "save_pickle('train/shrunk_files/y.p',y)\n",
    "save_pickle('train/shrunk_files/y_val.p',y_val)"
   ]
  },
  {
   "cell_type": "code",
   "execution_count": 15,
   "metadata": {
    "hidden": true
   },
   "outputs": [
    {
     "name": "stdout",
     "output_type": "stream",
     "text": [
      "/mnt/kaggle_crevical\n"
     ]
    }
   ],
   "source": [
    "cd .."
   ]
  },
  {
   "cell_type": "code",
   "execution_count": 19,
   "metadata": {
    "collapsed": true,
    "hidden": true
   },
   "outputs": [],
   "source": [
    "conv_trn=load_array('train/shrunk_files/conv_trn')\n",
    "conv_val=load_array('train/shrunk_files/conv_val')\n",
    "y=load_pickle('train/shrunk_files/y.p')\n",
    "y_val=load_pickle('train/shrunk_files/y_val.p')"
   ]
  },
  {
   "cell_type": "code",
   "execution_count": 27,
   "metadata": {
    "collapsed": true,
    "hidden": true
   },
   "outputs": [],
   "source": [
    "# bn layers\n",
    "p=0.7\n",
    "def get_bn_layers(p):\n",
    "    return [\n",
    "        MaxPooling2D(input_shape=conv_layers[-1].output_shape[1:]),\n",
    "        BatchNormalization(axis=1),\n",
    "        Dropout(p/4),\n",
    "        Flatten(),\n",
    "        Dense(512, activation='relu'),\n",
    "        BatchNormalization(),\n",
    "        Dropout(p),\n",
    "        Dense(512, activation='relu'),\n",
    "        BatchNormalization(),\n",
    "        Dropout(p/2),\n",
    "        Dense(3, activation='softmax')\n",
    "    ]"
   ]
  },
  {
   "cell_type": "code",
   "execution_count": 28,
   "metadata": {
    "collapsed": true,
    "hidden": true,
    "scrolled": true
   },
   "outputs": [],
   "source": [
    "model1 =Sequential(get_bn_layers(p))"
   ]
  },
  {
   "cell_type": "code",
   "execution_count": 29,
   "metadata": {
    "collapsed": true,
    "hidden": true
   },
   "outputs": [],
   "source": [
    "model1.compile(Adam(lr=0.001), loss='categorical_crossentropy', metrics=['accuracy'])"
   ]
  },
  {
   "cell_type": "code",
   "execution_count": null,
   "metadata": {
    "collapsed": true,
    "hidden": true
   },
   "outputs": [],
   "source": [
    "y"
   ]
  },
  {
   "cell_type": "code",
   "execution_count": 31,
   "metadata": {
    "hidden": true,
    "scrolled": true
   },
   "outputs": [
    {
     "name": "stdout",
     "output_type": "stream",
     "text": [
      "Train on 5337 samples, validate on 2288 samples\n",
      "Epoch 1/10\n",
      "5337/5337 [==============================] - 34s - loss: 1.3764 - acc: 0.4570 - val_loss: 1.0933 - val_acc: 0.5389\n",
      "Epoch 2/10\n",
      "5337/5337 [==============================] - 34s - loss: 1.0085 - acc: 0.5451 - val_loss: 0.8607 - val_acc: 0.6023\n",
      "Epoch 3/10\n",
      "5337/5337 [==============================] - 34s - loss: 0.8056 - acc: 0.6386 - val_loss: 0.8368 - val_acc: 0.6320\n",
      "Epoch 4/10\n",
      "5337/5337 [==============================] - 34s - loss: 0.6566 - acc: 0.7146 - val_loss: 0.8895 - val_acc: 0.6351\n",
      "Epoch 5/10\n",
      "5337/5337 [==============================] - 34s - loss: 0.5698 - acc: 0.7590 - val_loss: 0.8526 - val_acc: 0.6552\n",
      "Epoch 6/10\n",
      "5312/5337 [============================>.] - ETA: 0s - loss: 0.5244 - acc: 0.7803"
     ]
    },
    {
     "ename": "KeyboardInterrupt",
     "evalue": "",
     "output_type": "error",
     "traceback": [
      "\u001b[0;31m---------------------------------------------------------------------------\u001b[0m",
      "\u001b[0;31mKeyboardInterrupt\u001b[0m                         Traceback (most recent call last)",
      "\u001b[0;32m<ipython-input-31-1fb254633ac8>\u001b[0m in \u001b[0;36m<module>\u001b[0;34m()\u001b[0m\n\u001b[0;32m----> 1\u001b[0;31m \u001b[0mmodel1\u001b[0m\u001b[0;34m.\u001b[0m\u001b[0mfit\u001b[0m\u001b[0;34m(\u001b[0m\u001b[0mconv_trn\u001b[0m\u001b[0;34m,\u001b[0m \u001b[0mto_categorical\u001b[0m\u001b[0;34m(\u001b[0m\u001b[0my\u001b[0m\u001b[0;34m)\u001b[0m\u001b[0;34m[\u001b[0m\u001b[0;34m:\u001b[0m\u001b[0;34m,\u001b[0m\u001b[0;36m1\u001b[0m\u001b[0;34m:\u001b[0m\u001b[0;34m]\u001b[0m\u001b[0;34m,\u001b[0m \u001b[0mbatch_size\u001b[0m\u001b[0;34m=\u001b[0m\u001b[0;36m32\u001b[0m            \u001b[0;34m,\u001b[0m\u001b[0mvalidation_data\u001b[0m\u001b[0;34m=\u001b[0m\u001b[0;34m(\u001b[0m\u001b[0mconv_val\u001b[0m\u001b[0;34m,\u001b[0m\u001b[0mto_categorical\u001b[0m\u001b[0;34m(\u001b[0m\u001b[0my_val\u001b[0m\u001b[0;34m)\u001b[0m\u001b[0;34m[\u001b[0m\u001b[0;34m:\u001b[0m\u001b[0;34m,\u001b[0m\u001b[0;36m1\u001b[0m\u001b[0;34m:\u001b[0m\u001b[0;34m]\u001b[0m\u001b[0;34m)\u001b[0m\u001b[0;34m)\u001b[0m\u001b[0;34m\u001b[0m\u001b[0m\n\u001b[0m",
      "\u001b[0;32m/home/ubuntu/anaconda3/lib/python3.6/site-packages/keras/models.py\u001b[0m in \u001b[0;36mfit\u001b[0;34m(self, x, y, batch_size, nb_epoch, verbose, callbacks, validation_split, validation_data, shuffle, class_weight, sample_weight, initial_epoch, **kwargs)\u001b[0m\n\u001b[1;32m    670\u001b[0m                               \u001b[0mclass_weight\u001b[0m\u001b[0;34m=\u001b[0m\u001b[0mclass_weight\u001b[0m\u001b[0;34m,\u001b[0m\u001b[0;34m\u001b[0m\u001b[0m\n\u001b[1;32m    671\u001b[0m                               \u001b[0msample_weight\u001b[0m\u001b[0;34m=\u001b[0m\u001b[0msample_weight\u001b[0m\u001b[0;34m,\u001b[0m\u001b[0;34m\u001b[0m\u001b[0m\n\u001b[0;32m--> 672\u001b[0;31m                               initial_epoch=initial_epoch)\n\u001b[0m\u001b[1;32m    673\u001b[0m \u001b[0;34m\u001b[0m\u001b[0m\n\u001b[1;32m    674\u001b[0m     def evaluate(self, x, y, batch_size=32, verbose=1,\n",
      "\u001b[0;32m/home/ubuntu/anaconda3/lib/python3.6/site-packages/keras/engine/training.py\u001b[0m in \u001b[0;36mfit\u001b[0;34m(self, x, y, batch_size, nb_epoch, verbose, callbacks, validation_split, validation_data, shuffle, class_weight, sample_weight, initial_epoch)\u001b[0m\n\u001b[1;32m   1194\u001b[0m                               \u001b[0mval_f\u001b[0m\u001b[0;34m=\u001b[0m\u001b[0mval_f\u001b[0m\u001b[0;34m,\u001b[0m \u001b[0mval_ins\u001b[0m\u001b[0;34m=\u001b[0m\u001b[0mval_ins\u001b[0m\u001b[0;34m,\u001b[0m \u001b[0mshuffle\u001b[0m\u001b[0;34m=\u001b[0m\u001b[0mshuffle\u001b[0m\u001b[0;34m,\u001b[0m\u001b[0;34m\u001b[0m\u001b[0m\n\u001b[1;32m   1195\u001b[0m                               \u001b[0mcallback_metrics\u001b[0m\u001b[0;34m=\u001b[0m\u001b[0mcallback_metrics\u001b[0m\u001b[0;34m,\u001b[0m\u001b[0;34m\u001b[0m\u001b[0m\n\u001b[0;32m-> 1196\u001b[0;31m                               initial_epoch=initial_epoch)\n\u001b[0m\u001b[1;32m   1197\u001b[0m \u001b[0;34m\u001b[0m\u001b[0m\n\u001b[1;32m   1198\u001b[0m     \u001b[0;32mdef\u001b[0m \u001b[0mevaluate\u001b[0m\u001b[0;34m(\u001b[0m\u001b[0mself\u001b[0m\u001b[0;34m,\u001b[0m \u001b[0mx\u001b[0m\u001b[0;34m,\u001b[0m \u001b[0my\u001b[0m\u001b[0;34m,\u001b[0m \u001b[0mbatch_size\u001b[0m\u001b[0;34m=\u001b[0m\u001b[0;36m32\u001b[0m\u001b[0;34m,\u001b[0m \u001b[0mverbose\u001b[0m\u001b[0;34m=\u001b[0m\u001b[0;36m1\u001b[0m\u001b[0;34m,\u001b[0m \u001b[0msample_weight\u001b[0m\u001b[0;34m=\u001b[0m\u001b[0;32mNone\u001b[0m\u001b[0;34m)\u001b[0m\u001b[0;34m:\u001b[0m\u001b[0;34m\u001b[0m\u001b[0m\n",
      "\u001b[0;32m/home/ubuntu/anaconda3/lib/python3.6/site-packages/keras/engine/training.py\u001b[0m in \u001b[0;36m_fit_loop\u001b[0;34m(self, f, ins, out_labels, batch_size, nb_epoch, verbose, callbacks, val_f, val_ins, shuffle, callback_metrics, initial_epoch)\u001b[0m\n\u001b[1;32m    903\u001b[0m                         val_outs = self._test_loop(val_f, val_ins,\n\u001b[1;32m    904\u001b[0m                                                    \u001b[0mbatch_size\u001b[0m\u001b[0;34m=\u001b[0m\u001b[0mbatch_size\u001b[0m\u001b[0;34m,\u001b[0m\u001b[0;34m\u001b[0m\u001b[0m\n\u001b[0;32m--> 905\u001b[0;31m                                                    verbose=0)\n\u001b[0m\u001b[1;32m    906\u001b[0m                         \u001b[0;32mif\u001b[0m \u001b[0;32mnot\u001b[0m \u001b[0misinstance\u001b[0m\u001b[0;34m(\u001b[0m\u001b[0mval_outs\u001b[0m\u001b[0;34m,\u001b[0m \u001b[0mlist\u001b[0m\u001b[0;34m)\u001b[0m\u001b[0;34m:\u001b[0m\u001b[0;34m\u001b[0m\u001b[0m\n\u001b[1;32m    907\u001b[0m                             \u001b[0mval_outs\u001b[0m \u001b[0;34m=\u001b[0m \u001b[0;34m[\u001b[0m\u001b[0mval_outs\u001b[0m\u001b[0;34m]\u001b[0m\u001b[0;34m\u001b[0m\u001b[0m\n",
      "\u001b[0;32m/home/ubuntu/anaconda3/lib/python3.6/site-packages/keras/engine/training.py\u001b[0m in \u001b[0;36m_test_loop\u001b[0;34m(self, f, ins, batch_size, verbose)\u001b[0m\n\u001b[1;32m    988\u001b[0m                 \u001b[0mins_batch\u001b[0m \u001b[0;34m=\u001b[0m \u001b[0mslice_X\u001b[0m\u001b[0;34m(\u001b[0m\u001b[0mins\u001b[0m\u001b[0;34m,\u001b[0m \u001b[0mbatch_ids\u001b[0m\u001b[0;34m)\u001b[0m\u001b[0;34m\u001b[0m\u001b[0m\n\u001b[1;32m    989\u001b[0m \u001b[0;34m\u001b[0m\u001b[0m\n\u001b[0;32m--> 990\u001b[0;31m             \u001b[0mbatch_outs\u001b[0m \u001b[0;34m=\u001b[0m \u001b[0mf\u001b[0m\u001b[0;34m(\u001b[0m\u001b[0mins_batch\u001b[0m\u001b[0;34m)\u001b[0m\u001b[0;34m\u001b[0m\u001b[0m\n\u001b[0m\u001b[1;32m    991\u001b[0m             \u001b[0;32mif\u001b[0m \u001b[0misinstance\u001b[0m\u001b[0;34m(\u001b[0m\u001b[0mbatch_outs\u001b[0m\u001b[0;34m,\u001b[0m \u001b[0mlist\u001b[0m\u001b[0;34m)\u001b[0m\u001b[0;34m:\u001b[0m\u001b[0;34m\u001b[0m\u001b[0m\n\u001b[1;32m    992\u001b[0m                 \u001b[0;32mif\u001b[0m \u001b[0mbatch_index\u001b[0m \u001b[0;34m==\u001b[0m \u001b[0;36m0\u001b[0m\u001b[0;34m:\u001b[0m\u001b[0;34m\u001b[0m\u001b[0m\n",
      "\u001b[0;32m/home/ubuntu/anaconda3/lib/python3.6/site-packages/keras/backend/tensorflow_backend.py\u001b[0m in \u001b[0;36m__call__\u001b[0;34m(self, inputs)\u001b[0m\n\u001b[1;32m   1941\u001b[0m         \u001b[0msession\u001b[0m \u001b[0;34m=\u001b[0m \u001b[0mget_session\u001b[0m\u001b[0;34m(\u001b[0m\u001b[0;34m)\u001b[0m\u001b[0;34m\u001b[0m\u001b[0m\n\u001b[1;32m   1942\u001b[0m         updated = session.run(self.outputs + [self.updates_op],\n\u001b[0;32m-> 1943\u001b[0;31m                               feed_dict=feed_dict)\n\u001b[0m\u001b[1;32m   1944\u001b[0m         \u001b[0;32mreturn\u001b[0m \u001b[0mupdated\u001b[0m\u001b[0;34m[\u001b[0m\u001b[0;34m:\u001b[0m\u001b[0mlen\u001b[0m\u001b[0;34m(\u001b[0m\u001b[0mself\u001b[0m\u001b[0;34m.\u001b[0m\u001b[0moutputs\u001b[0m\u001b[0;34m)\u001b[0m\u001b[0;34m]\u001b[0m\u001b[0;34m\u001b[0m\u001b[0m\n\u001b[1;32m   1945\u001b[0m \u001b[0;34m\u001b[0m\u001b[0m\n",
      "\u001b[0;32m/home/ubuntu/anaconda3/lib/python3.6/site-packages/tensorflow/python/client/session.py\u001b[0m in \u001b[0;36mrun\u001b[0;34m(self, fetches, feed_dict, options, run_metadata)\u001b[0m\n\u001b[1;32m    765\u001b[0m     \u001b[0;32mtry\u001b[0m\u001b[0;34m:\u001b[0m\u001b[0;34m\u001b[0m\u001b[0m\n\u001b[1;32m    766\u001b[0m       result = self._run(None, fetches, feed_dict, options_ptr,\n\u001b[0;32m--> 767\u001b[0;31m                          run_metadata_ptr)\n\u001b[0m\u001b[1;32m    768\u001b[0m       \u001b[0;32mif\u001b[0m \u001b[0mrun_metadata\u001b[0m\u001b[0;34m:\u001b[0m\u001b[0;34m\u001b[0m\u001b[0m\n\u001b[1;32m    769\u001b[0m         \u001b[0mproto_data\u001b[0m \u001b[0;34m=\u001b[0m \u001b[0mtf_session\u001b[0m\u001b[0;34m.\u001b[0m\u001b[0mTF_GetBuffer\u001b[0m\u001b[0;34m(\u001b[0m\u001b[0mrun_metadata_ptr\u001b[0m\u001b[0;34m)\u001b[0m\u001b[0;34m\u001b[0m\u001b[0m\n",
      "\u001b[0;32m/home/ubuntu/anaconda3/lib/python3.6/site-packages/tensorflow/python/client/session.py\u001b[0m in \u001b[0;36m_run\u001b[0;34m(self, handle, fetches, feed_dict, options, run_metadata)\u001b[0m\n\u001b[1;32m    963\u001b[0m     \u001b[0;32mif\u001b[0m \u001b[0mfinal_fetches\u001b[0m \u001b[0;32mor\u001b[0m \u001b[0mfinal_targets\u001b[0m\u001b[0;34m:\u001b[0m\u001b[0;34m\u001b[0m\u001b[0m\n\u001b[1;32m    964\u001b[0m       results = self._do_run(handle, final_targets, final_fetches,\n\u001b[0;32m--> 965\u001b[0;31m                              feed_dict_string, options, run_metadata)\n\u001b[0m\u001b[1;32m    966\u001b[0m     \u001b[0;32melse\u001b[0m\u001b[0;34m:\u001b[0m\u001b[0;34m\u001b[0m\u001b[0m\n\u001b[1;32m    967\u001b[0m       \u001b[0mresults\u001b[0m \u001b[0;34m=\u001b[0m \u001b[0;34m[\u001b[0m\u001b[0;34m]\u001b[0m\u001b[0;34m\u001b[0m\u001b[0m\n",
      "\u001b[0;32m/home/ubuntu/anaconda3/lib/python3.6/site-packages/tensorflow/python/client/session.py\u001b[0m in \u001b[0;36m_do_run\u001b[0;34m(self, handle, target_list, fetch_list, feed_dict, options, run_metadata)\u001b[0m\n\u001b[1;32m   1013\u001b[0m     \u001b[0;32mif\u001b[0m \u001b[0mhandle\u001b[0m \u001b[0;32mis\u001b[0m \u001b[0;32mNone\u001b[0m\u001b[0;34m:\u001b[0m\u001b[0;34m\u001b[0m\u001b[0m\n\u001b[1;32m   1014\u001b[0m       return self._do_call(_run_fn, self._session, feed_dict, fetch_list,\n\u001b[0;32m-> 1015\u001b[0;31m                            target_list, options, run_metadata)\n\u001b[0m\u001b[1;32m   1016\u001b[0m     \u001b[0;32melse\u001b[0m\u001b[0;34m:\u001b[0m\u001b[0;34m\u001b[0m\u001b[0m\n\u001b[1;32m   1017\u001b[0m       return self._do_call(_prun_fn, self._session, handle, feed_dict,\n",
      "\u001b[0;32m/home/ubuntu/anaconda3/lib/python3.6/site-packages/tensorflow/python/client/session.py\u001b[0m in \u001b[0;36m_do_call\u001b[0;34m(self, fn, *args)\u001b[0m\n\u001b[1;32m   1020\u001b[0m   \u001b[0;32mdef\u001b[0m \u001b[0m_do_call\u001b[0m\u001b[0;34m(\u001b[0m\u001b[0mself\u001b[0m\u001b[0;34m,\u001b[0m \u001b[0mfn\u001b[0m\u001b[0;34m,\u001b[0m \u001b[0;34m*\u001b[0m\u001b[0margs\u001b[0m\u001b[0;34m)\u001b[0m\u001b[0;34m:\u001b[0m\u001b[0;34m\u001b[0m\u001b[0m\n\u001b[1;32m   1021\u001b[0m     \u001b[0;32mtry\u001b[0m\u001b[0;34m:\u001b[0m\u001b[0;34m\u001b[0m\u001b[0m\n\u001b[0;32m-> 1022\u001b[0;31m       \u001b[0;32mreturn\u001b[0m \u001b[0mfn\u001b[0m\u001b[0;34m(\u001b[0m\u001b[0;34m*\u001b[0m\u001b[0margs\u001b[0m\u001b[0;34m)\u001b[0m\u001b[0;34m\u001b[0m\u001b[0m\n\u001b[0m\u001b[1;32m   1023\u001b[0m     \u001b[0;32mexcept\u001b[0m \u001b[0merrors\u001b[0m\u001b[0;34m.\u001b[0m\u001b[0mOpError\u001b[0m \u001b[0;32mas\u001b[0m \u001b[0me\u001b[0m\u001b[0;34m:\u001b[0m\u001b[0;34m\u001b[0m\u001b[0m\n\u001b[1;32m   1024\u001b[0m       \u001b[0mmessage\u001b[0m \u001b[0;34m=\u001b[0m \u001b[0mcompat\u001b[0m\u001b[0;34m.\u001b[0m\u001b[0mas_text\u001b[0m\u001b[0;34m(\u001b[0m\u001b[0me\u001b[0m\u001b[0;34m.\u001b[0m\u001b[0mmessage\u001b[0m\u001b[0;34m)\u001b[0m\u001b[0;34m\u001b[0m\u001b[0m\n",
      "\u001b[0;32m/home/ubuntu/anaconda3/lib/python3.6/site-packages/tensorflow/python/client/session.py\u001b[0m in \u001b[0;36m_run_fn\u001b[0;34m(session, feed_dict, fetch_list, target_list, options, run_metadata)\u001b[0m\n\u001b[1;32m   1002\u001b[0m         return tf_session.TF_Run(session, options,\n\u001b[1;32m   1003\u001b[0m                                  \u001b[0mfeed_dict\u001b[0m\u001b[0;34m,\u001b[0m \u001b[0mfetch_list\u001b[0m\u001b[0;34m,\u001b[0m \u001b[0mtarget_list\u001b[0m\u001b[0;34m,\u001b[0m\u001b[0;34m\u001b[0m\u001b[0m\n\u001b[0;32m-> 1004\u001b[0;31m                                  status, run_metadata)\n\u001b[0m\u001b[1;32m   1005\u001b[0m \u001b[0;34m\u001b[0m\u001b[0m\n\u001b[1;32m   1006\u001b[0m     \u001b[0;32mdef\u001b[0m \u001b[0m_prun_fn\u001b[0m\u001b[0;34m(\u001b[0m\u001b[0msession\u001b[0m\u001b[0;34m,\u001b[0m \u001b[0mhandle\u001b[0m\u001b[0;34m,\u001b[0m \u001b[0mfeed_dict\u001b[0m\u001b[0;34m,\u001b[0m \u001b[0mfetch_list\u001b[0m\u001b[0;34m)\u001b[0m\u001b[0;34m:\u001b[0m\u001b[0;34m\u001b[0m\u001b[0m\n",
      "\u001b[0;31mKeyboardInterrupt\u001b[0m: "
     ]
    }
   ],
   "source": [
    "model1.fit(conv_trn, to_categorical(y)[:,1:], batch_size=32 \\\n",
    "           ,validation_data=(conv_val,to_categorical(y_val)[:,1:]))"
   ]
  },
  {
   "cell_type": "markdown",
   "metadata": {
    "heading_collapsed": true,
    "hidden": true
   },
   "source": [
    "#### some plots stuff"
   ]
  },
  {
   "cell_type": "code",
   "execution_count": 397,
   "metadata": {
    "collapsed": true,
    "hidden": true
   },
   "outputs": [],
   "source": [
    "# lets see what vgg says, top 5:\n",
    "#top_preds=np.argsort(preds)[:,:5]\n",
    "top_20_1=np.array(Counter(np.argsort(preds[np.array(type_1_idx),:])[:,:5].flatten()).most_common()[:20])\n",
    "top_20_2=np.array(Counter(np.argsort(preds[np.array(type_2_idx),:])[:,:5].flatten()).most_common()[:20])\n",
    "top_20_3=np.array(Counter(np.argsort(preds[np.array(type_3_idx),:])[:,:5].flatten()).most_common()[:20])"
   ]
  },
  {
   "cell_type": "code",
   "execution_count": 398,
   "metadata": {
    "collapsed": true,
    "hidden": true
   },
   "outputs": [],
   "source": [
    "df_1=pd.DataFrame(top_20_1,columns=[0,1]).set_index(0)\n",
    "df_2=pd.DataFrame(top_20_2,columns=[0,2]).set_index(0)\n",
    "df_3=pd.DataFrame(top_20_3,columns=[0,3]).set_index(0)"
   ]
  },
  {
   "cell_type": "code",
   "execution_count": 176,
   "metadata": {
    "collapsed": true,
    "hidden": true
   },
   "outputs": [],
   "source": [
    "combined=df_1.join(df_2,how='outer').join(df_3,how='outer')"
   ]
  },
  {
   "cell_type": "code",
   "execution_count": 177,
   "metadata": {
    "collapsed": true,
    "hidden": true
   },
   "outputs": [],
   "source": [
    "sums=combined/combined.sum()"
   ]
  },
  {
   "cell_type": "code",
   "execution_count": 178,
   "metadata": {
    "hidden": true
   },
   "outputs": [
    {
     "data": {
      "text/plain": [
       "<matplotlib.axes._subplots.AxesSubplot at 0x7f9374c34358>"
      ]
     },
     "execution_count": 178,
     "metadata": {},
     "output_type": "execute_result"
    },
    {
     "data": {
      "image/png": "[encoded data removed]",
      "text/plain": [
       "<matplotlib.figure.Figure at 0x7f93750907b8>"
      ]
     },
     "metadata": {},
     "output_type": "display_data"
    }
   ],
   "source": [
    "sums.plot.bar(figsize=[20,10])"
   ]
  },
  {
   "cell_type": "markdown",
   "metadata": {},
   "source": [
    "## xgboost"
   ]
  },
  {
   "cell_type": "code",
   "execution_count": 22,
   "metadata": {
    "scrolled": true
   },
   "outputs": [
    {
     "name": "stdout",
     "output_type": "stream",
     "text": [
      "[0]\tvalidation_0-mlogloss:1.09589\n",
      "Will train until validation_0-mlogloss hasn't improved in 50 rounds.\n",
      "[1]\tvalidation_0-mlogloss:1.09286\n",
      "[2]\tvalidation_0-mlogloss:1.09024\n",
      "[3]\tvalidation_0-mlogloss:1.08763\n",
      "[4]\tvalidation_0-mlogloss:1.08521\n",
      "[5]\tvalidation_0-mlogloss:1.08277\n",
      "[6]\tvalidation_0-mlogloss:1.0802\n",
      "[7]\tvalidation_0-mlogloss:1.07757\n",
      "[8]\tvalidation_0-mlogloss:1.07492\n",
      "[9]\tvalidation_0-mlogloss:1.07248\n",
      "[10]\tvalidation_0-mlogloss:1.07028\n",
      "[11]\tvalidation_0-mlogloss:1.06784\n",
      "[12]\tvalidation_0-mlogloss:1.0653\n",
      "[13]\tvalidation_0-mlogloss:1.06297\n",
      "[14]\tvalidation_0-mlogloss:1.06057\n",
      "[15]\tvalidation_0-mlogloss:1.05818\n",
      "[16]\tvalidation_0-mlogloss:1.05589\n",
      "[17]\tvalidation_0-mlogloss:1.05365\n",
      "[18]\tvalidation_0-mlogloss:1.05131\n",
      "[19]\tvalidation_0-mlogloss:1.04919\n",
      "[20]\tvalidation_0-mlogloss:1.04696\n",
      "[21]\tvalidation_0-mlogloss:1.04486\n",
      "[22]\tvalidation_0-mlogloss:1.0427\n",
      "[23]\tvalidation_0-mlogloss:1.04048\n",
      "[24]\tvalidation_0-mlogloss:1.03839\n",
      "[25]\tvalidation_0-mlogloss:1.0363\n",
      "[26]\tvalidation_0-mlogloss:1.03412\n",
      "[27]\tvalidation_0-mlogloss:1.03212\n",
      "[28]\tvalidation_0-mlogloss:1.03014\n",
      "[29]\tvalidation_0-mlogloss:1.0282\n",
      "[30]\tvalidation_0-mlogloss:1.02621\n",
      "[31]\tvalidation_0-mlogloss:1.02429\n",
      "[32]\tvalidation_0-mlogloss:1.02236\n",
      "[33]\tvalidation_0-mlogloss:1.0205\n",
      "[34]\tvalidation_0-mlogloss:1.01871\n",
      "[35]\tvalidation_0-mlogloss:1.01696\n",
      "[36]\tvalidation_0-mlogloss:1.01517\n",
      "[37]\tvalidation_0-mlogloss:1.01333\n",
      "[38]\tvalidation_0-mlogloss:1.01143\n",
      "[39]\tvalidation_0-mlogloss:1.00958\n",
      "[40]\tvalidation_0-mlogloss:1.00791\n",
      "[41]\tvalidation_0-mlogloss:1.00619\n",
      "[42]\tvalidation_0-mlogloss:1.00445\n",
      "[43]\tvalidation_0-mlogloss:1.00264\n",
      "[44]\tvalidation_0-mlogloss:1.00107\n",
      "[45]\tvalidation_0-mlogloss:0.999224\n",
      "[46]\tvalidation_0-mlogloss:0.997506\n",
      "[47]\tvalidation_0-mlogloss:0.995837\n",
      "[48]\tvalidation_0-mlogloss:0.994093\n",
      "[49]\tvalidation_0-mlogloss:0.992554\n",
      "[50]\tvalidation_0-mlogloss:0.991039\n",
      "[51]\tvalidation_0-mlogloss:0.989416\n",
      "[52]\tvalidation_0-mlogloss:0.987767\n",
      "[53]\tvalidation_0-mlogloss:0.986237\n",
      "[54]\tvalidation_0-mlogloss:0.984794\n",
      "[55]\tvalidation_0-mlogloss:0.983359\n",
      "[56]\tvalidation_0-mlogloss:0.981838\n",
      "[57]\tvalidation_0-mlogloss:0.980326\n",
      "[58]\tvalidation_0-mlogloss:0.978754\n",
      "[59]\tvalidation_0-mlogloss:0.977334\n",
      "[60]\tvalidation_0-mlogloss:0.976008\n",
      "[61]\tvalidation_0-mlogloss:0.974538\n",
      "[62]\tvalidation_0-mlogloss:0.973135\n",
      "[63]\tvalidation_0-mlogloss:0.97176\n",
      "[64]\tvalidation_0-mlogloss:0.970419\n",
      "[65]\tvalidation_0-mlogloss:0.969065\n",
      "[66]\tvalidation_0-mlogloss:0.967732\n",
      "[67]\tvalidation_0-mlogloss:0.966336\n",
      "[68]\tvalidation_0-mlogloss:0.965097\n",
      "[69]\tvalidation_0-mlogloss:0.963854\n",
      "[70]\tvalidation_0-mlogloss:0.962609\n",
      "[71]\tvalidation_0-mlogloss:0.961318\n",
      "[72]\tvalidation_0-mlogloss:0.959881\n",
      "[73]\tvalidation_0-mlogloss:0.95863\n",
      "[74]\tvalidation_0-mlogloss:0.957376\n",
      "[75]\tvalidation_0-mlogloss:0.955975\n",
      "[76]\tvalidation_0-mlogloss:0.954659\n",
      "[77]\tvalidation_0-mlogloss:0.953499\n",
      "[78]\tvalidation_0-mlogloss:0.952412\n",
      "[79]\tvalidation_0-mlogloss:0.951125\n",
      "[80]\tvalidation_0-mlogloss:0.94997\n",
      "[81]\tvalidation_0-mlogloss:0.948828\n",
      "[82]\tvalidation_0-mlogloss:0.947647\n",
      "[83]\tvalidation_0-mlogloss:0.946513\n",
      "[84]\tvalidation_0-mlogloss:0.945408\n",
      "[85]\tvalidation_0-mlogloss:0.944323\n",
      "[86]\tvalidation_0-mlogloss:0.943047\n",
      "[87]\tvalidation_0-mlogloss:0.941968\n",
      "[88]\tvalidation_0-mlogloss:0.940833\n",
      "[89]\tvalidation_0-mlogloss:0.939838\n",
      "[90]\tvalidation_0-mlogloss:0.938694\n",
      "[91]\tvalidation_0-mlogloss:0.937446\n",
      "[92]\tvalidation_0-mlogloss:0.936383\n",
      "[93]\tvalidation_0-mlogloss:0.935365\n",
      "[94]\tvalidation_0-mlogloss:0.934195\n",
      "[95]\tvalidation_0-mlogloss:0.933149\n",
      "[96]\tvalidation_0-mlogloss:0.931998\n",
      "[97]\tvalidation_0-mlogloss:0.931014\n",
      "[98]\tvalidation_0-mlogloss:0.930009\n",
      "[99]\tvalidation_0-mlogloss:0.928856\n",
      "[100]\tvalidation_0-mlogloss:0.92784\n",
      "[101]\tvalidation_0-mlogloss:0.926938\n",
      "[102]\tvalidation_0-mlogloss:0.925911\n",
      "[103]\tvalidation_0-mlogloss:0.924983\n",
      "[104]\tvalidation_0-mlogloss:0.923944\n",
      "[105]\tvalidation_0-mlogloss:0.923009\n",
      "[106]\tvalidation_0-mlogloss:0.922111\n",
      "[107]\tvalidation_0-mlogloss:0.921203\n",
      "[108]\tvalidation_0-mlogloss:0.920329\n",
      "[109]\tvalidation_0-mlogloss:0.919415\n",
      "[110]\tvalidation_0-mlogloss:0.918442\n",
      "[111]\tvalidation_0-mlogloss:0.917421\n",
      "[112]\tvalidation_0-mlogloss:0.916573\n",
      "[113]\tvalidation_0-mlogloss:0.915614\n",
      "[114]\tvalidation_0-mlogloss:0.914612\n",
      "[115]\tvalidation_0-mlogloss:0.913734\n",
      "[116]\tvalidation_0-mlogloss:0.912914\n",
      "[117]\tvalidation_0-mlogloss:0.911929\n",
      "[118]\tvalidation_0-mlogloss:0.911197\n",
      "[119]\tvalidation_0-mlogloss:0.910392\n",
      "[120]\tvalidation_0-mlogloss:0.909532\n",
      "[121]\tvalidation_0-mlogloss:0.908675\n",
      "[122]\tvalidation_0-mlogloss:0.907716\n",
      "[123]\tvalidation_0-mlogloss:0.906799\n",
      "[124]\tvalidation_0-mlogloss:0.905981\n",
      "[125]\tvalidation_0-mlogloss:0.905223\n",
      "[126]\tvalidation_0-mlogloss:0.904459\n",
      "[127]\tvalidation_0-mlogloss:0.903669\n",
      "[128]\tvalidation_0-mlogloss:0.902876\n",
      "[129]\tvalidation_0-mlogloss:0.902081\n",
      "[130]\tvalidation_0-mlogloss:0.90124\n",
      "[131]\tvalidation_0-mlogloss:0.900417\n",
      "[132]\tvalidation_0-mlogloss:0.899695\n",
      "[133]\tvalidation_0-mlogloss:0.899097\n",
      "[134]\tvalidation_0-mlogloss:0.898338\n",
      "[135]\tvalidation_0-mlogloss:0.897572\n",
      "[136]\tvalidation_0-mlogloss:0.896768\n",
      "[137]\tvalidation_0-mlogloss:0.89605\n",
      "[138]\tvalidation_0-mlogloss:0.895358\n",
      "[139]\tvalidation_0-mlogloss:0.894647\n",
      "[140]\tvalidation_0-mlogloss:0.893969\n",
      "[141]\tvalidation_0-mlogloss:0.893263\n",
      "[142]\tvalidation_0-mlogloss:0.892624\n",
      "[143]\tvalidation_0-mlogloss:0.891889\n",
      "[144]\tvalidation_0-mlogloss:0.891269\n",
      "[145]\tvalidation_0-mlogloss:0.890499\n",
      "[146]\tvalidation_0-mlogloss:0.889807\n",
      "[147]\tvalidation_0-mlogloss:0.889087\n",
      "[148]\tvalidation_0-mlogloss:0.888402\n",
      "[149]\tvalidation_0-mlogloss:0.887747\n",
      "[150]\tvalidation_0-mlogloss:0.887121\n",
      "[151]\tvalidation_0-mlogloss:0.886413\n",
      "[152]\tvalidation_0-mlogloss:0.885755\n",
      "[153]\tvalidation_0-mlogloss:0.885154\n",
      "[154]\tvalidation_0-mlogloss:0.884519\n",
      "[155]\tvalidation_0-mlogloss:0.883956\n",
      "[156]\tvalidation_0-mlogloss:0.883281\n",
      "[157]\tvalidation_0-mlogloss:0.882693\n",
      "[158]\tvalidation_0-mlogloss:0.882147\n",
      "[159]\tvalidation_0-mlogloss:0.88154\n",
      "[160]\tvalidation_0-mlogloss:0.880894\n",
      "[161]\tvalidation_0-mlogloss:0.880189\n",
      "[162]\tvalidation_0-mlogloss:0.87958\n",
      "[163]\tvalidation_0-mlogloss:0.879042\n",
      "[164]\tvalidation_0-mlogloss:0.878427\n",
      "[165]\tvalidation_0-mlogloss:0.877822\n",
      "[166]\tvalidation_0-mlogloss:0.877273\n",
      "[167]\tvalidation_0-mlogloss:0.876753\n",
      "[168]\tvalidation_0-mlogloss:0.876217\n",
      "[169]\tvalidation_0-mlogloss:0.875577\n",
      "[170]\tvalidation_0-mlogloss:0.874905\n",
      "[171]\tvalidation_0-mlogloss:0.874332\n",
      "[172]\tvalidation_0-mlogloss:0.873766\n",
      "[173]\tvalidation_0-mlogloss:0.873096\n",
      "[174]\tvalidation_0-mlogloss:0.872515\n",
      "[175]\tvalidation_0-mlogloss:0.872043\n",
      "[176]\tvalidation_0-mlogloss:0.871601\n",
      "[177]\tvalidation_0-mlogloss:0.87106\n",
      "[178]\tvalidation_0-mlogloss:0.870483\n",
      "[179]\tvalidation_0-mlogloss:0.869939\n",
      "[180]\tvalidation_0-mlogloss:0.869472\n",
      "[181]\tvalidation_0-mlogloss:0.868912\n",
      "[182]\tvalidation_0-mlogloss:0.868318\n",
      "[183]\tvalidation_0-mlogloss:0.867834\n",
      "[184]\tvalidation_0-mlogloss:0.867252\n",
      "[185]\tvalidation_0-mlogloss:0.866802\n",
      "[186]\tvalidation_0-mlogloss:0.866219\n",
      "[187]\tvalidation_0-mlogloss:0.865629\n",
      "[188]\tvalidation_0-mlogloss:0.865078\n",
      "[189]\tvalidation_0-mlogloss:0.864469\n",
      "[190]\tvalidation_0-mlogloss:0.863941\n",
      "[191]\tvalidation_0-mlogloss:0.863365\n",
      "[192]\tvalidation_0-mlogloss:0.862942\n",
      "[193]\tvalidation_0-mlogloss:0.862426\n",
      "[194]\tvalidation_0-mlogloss:0.86193\n",
      "[195]\tvalidation_0-mlogloss:0.861566\n",
      "[196]\tvalidation_0-mlogloss:0.861145\n",
      "[197]\tvalidation_0-mlogloss:0.86071\n",
      "[198]\tvalidation_0-mlogloss:0.860224\n",
      "[199]\tvalidation_0-mlogloss:0.859747\n",
      "[200]\tvalidation_0-mlogloss:0.859322\n",
      "[201]\tvalidation_0-mlogloss:0.858811\n",
      "[202]\tvalidation_0-mlogloss:0.858381\n",
      "[203]\tvalidation_0-mlogloss:0.857935\n",
      "[204]\tvalidation_0-mlogloss:0.857441\n",
      "[205]\tvalidation_0-mlogloss:0.857052\n",
      "[206]\tvalidation_0-mlogloss:0.856601\n",
      "[207]\tvalidation_0-mlogloss:0.856166\n",
      "[208]\tvalidation_0-mlogloss:0.855697\n",
      "[209]\tvalidation_0-mlogloss:0.855287\n",
      "[210]\tvalidation_0-mlogloss:0.854903\n",
      "[211]\tvalidation_0-mlogloss:0.854561\n",
      "[212]\tvalidation_0-mlogloss:0.854155\n",
      "[213]\tvalidation_0-mlogloss:0.853737\n",
      "[214]\tvalidation_0-mlogloss:0.853362\n",
      "[215]\tvalidation_0-mlogloss:0.853041\n",
      "[216]\tvalidation_0-mlogloss:0.852645\n",
      "[217]\tvalidation_0-mlogloss:0.852219\n",
      "[218]\tvalidation_0-mlogloss:0.851787\n",
      "[219]\tvalidation_0-mlogloss:0.851266\n",
      "[220]\tvalidation_0-mlogloss:0.850863\n",
      "[221]\tvalidation_0-mlogloss:0.850481\n",
      "[222]\tvalidation_0-mlogloss:0.850125\n",
      "[223]\tvalidation_0-mlogloss:0.849716\n",
      "[224]\tvalidation_0-mlogloss:0.849434\n"
     ]
    },
    {
     "name": "stdout",
     "output_type": "stream",
     "text": [
      "[225]\tvalidation_0-mlogloss:0.84901\n",
      "[226]\tvalidation_0-mlogloss:0.848607\n",
      "[227]\tvalidation_0-mlogloss:0.848255\n",
      "[228]\tvalidation_0-mlogloss:0.847901\n",
      "[229]\tvalidation_0-mlogloss:0.847504\n",
      "[230]\tvalidation_0-mlogloss:0.847144\n",
      "[231]\tvalidation_0-mlogloss:0.846838\n",
      "[232]\tvalidation_0-mlogloss:0.846404\n",
      "[233]\tvalidation_0-mlogloss:0.846013\n",
      "[234]\tvalidation_0-mlogloss:0.845607\n",
      "[235]\tvalidation_0-mlogloss:0.84527\n",
      "[236]\tvalidation_0-mlogloss:0.844996\n",
      "[237]\tvalidation_0-mlogloss:0.844601\n",
      "[238]\tvalidation_0-mlogloss:0.844222\n",
      "[239]\tvalidation_0-mlogloss:0.843829\n",
      "[240]\tvalidation_0-mlogloss:0.84342\n",
      "[241]\tvalidation_0-mlogloss:0.843162\n",
      "[242]\tvalidation_0-mlogloss:0.842788\n",
      "[243]\tvalidation_0-mlogloss:0.842468\n",
      "[244]\tvalidation_0-mlogloss:0.84214\n",
      "[245]\tvalidation_0-mlogloss:0.84171\n",
      "[246]\tvalidation_0-mlogloss:0.841392\n",
      "[247]\tvalidation_0-mlogloss:0.840999\n",
      "[248]\tvalidation_0-mlogloss:0.84066\n",
      "[249]\tvalidation_0-mlogloss:0.840382\n",
      "[250]\tvalidation_0-mlogloss:0.840091\n",
      "[251]\tvalidation_0-mlogloss:0.839758\n",
      "[252]\tvalidation_0-mlogloss:0.839421\n",
      "[253]\tvalidation_0-mlogloss:0.839076\n",
      "[254]\tvalidation_0-mlogloss:0.838852\n",
      "[255]\tvalidation_0-mlogloss:0.838467\n",
      "[256]\tvalidation_0-mlogloss:0.838143\n",
      "[257]\tvalidation_0-mlogloss:0.837921\n",
      "[258]\tvalidation_0-mlogloss:0.837543\n",
      "[259]\tvalidation_0-mlogloss:0.837166\n",
      "[260]\tvalidation_0-mlogloss:0.836772\n",
      "[261]\tvalidation_0-mlogloss:0.836498\n",
      "[262]\tvalidation_0-mlogloss:0.836258\n",
      "[263]\tvalidation_0-mlogloss:0.835866\n",
      "[264]\tvalidation_0-mlogloss:0.8356\n",
      "[265]\tvalidation_0-mlogloss:0.835336\n",
      "[266]\tvalidation_0-mlogloss:0.835058\n",
      "[267]\tvalidation_0-mlogloss:0.834764\n",
      "[268]\tvalidation_0-mlogloss:0.834546\n",
      "[269]\tvalidation_0-mlogloss:0.834193\n",
      "[270]\tvalidation_0-mlogloss:0.833903\n",
      "[271]\tvalidation_0-mlogloss:0.833625\n",
      "[272]\tvalidation_0-mlogloss:0.833353\n",
      "[273]\tvalidation_0-mlogloss:0.833185\n",
      "[274]\tvalidation_0-mlogloss:0.832836\n",
      "[275]\tvalidation_0-mlogloss:0.832539\n",
      "[276]\tvalidation_0-mlogloss:0.832144\n",
      "[277]\tvalidation_0-mlogloss:0.831855\n",
      "[278]\tvalidation_0-mlogloss:0.83156\n",
      "[279]\tvalidation_0-mlogloss:0.831283\n",
      "[280]\tvalidation_0-mlogloss:0.830916\n",
      "[281]\tvalidation_0-mlogloss:0.830488\n",
      "[282]\tvalidation_0-mlogloss:0.83018\n",
      "[283]\tvalidation_0-mlogloss:0.82998\n",
      "[284]\tvalidation_0-mlogloss:0.829704\n",
      "[285]\tvalidation_0-mlogloss:0.829536\n",
      "[286]\tvalidation_0-mlogloss:0.829203\n",
      "[287]\tvalidation_0-mlogloss:0.828837\n",
      "[288]\tvalidation_0-mlogloss:0.828578\n",
      "[289]\tvalidation_0-mlogloss:0.828236\n",
      "[290]\tvalidation_0-mlogloss:0.82803\n",
      "[291]\tvalidation_0-mlogloss:0.827629\n",
      "[292]\tvalidation_0-mlogloss:0.827322\n",
      "[293]\tvalidation_0-mlogloss:0.827077\n",
      "[294]\tvalidation_0-mlogloss:0.826739\n",
      "[295]\tvalidation_0-mlogloss:0.82644\n",
      "[296]\tvalidation_0-mlogloss:0.826161\n",
      "[297]\tvalidation_0-mlogloss:0.825888\n",
      "[298]\tvalidation_0-mlogloss:0.825649\n",
      "[299]\tvalidation_0-mlogloss:0.825451\n",
      "[300]\tvalidation_0-mlogloss:0.825219\n",
      "[301]\tvalidation_0-mlogloss:0.824911\n",
      "[302]\tvalidation_0-mlogloss:0.824597\n",
      "[303]\tvalidation_0-mlogloss:0.824351\n",
      "[304]\tvalidation_0-mlogloss:0.824123\n",
      "[305]\tvalidation_0-mlogloss:0.823897\n",
      "[306]\tvalidation_0-mlogloss:0.823593\n",
      "[307]\tvalidation_0-mlogloss:0.82347\n",
      "[308]\tvalidation_0-mlogloss:0.823273\n",
      "[309]\tvalidation_0-mlogloss:0.8231\n",
      "[310]\tvalidation_0-mlogloss:0.822812\n",
      "[311]\tvalidation_0-mlogloss:0.822659\n",
      "[312]\tvalidation_0-mlogloss:0.822412\n",
      "[313]\tvalidation_0-mlogloss:0.822228\n",
      "[314]\tvalidation_0-mlogloss:0.821997\n",
      "[315]\tvalidation_0-mlogloss:0.821757\n",
      "[316]\tvalidation_0-mlogloss:0.821592\n",
      "[317]\tvalidation_0-mlogloss:0.821384\n",
      "[318]\tvalidation_0-mlogloss:0.821108\n",
      "[319]\tvalidation_0-mlogloss:0.820896\n",
      "[320]\tvalidation_0-mlogloss:0.820565\n",
      "[321]\tvalidation_0-mlogloss:0.820305\n",
      "[322]\tvalidation_0-mlogloss:0.820056\n",
      "[323]\tvalidation_0-mlogloss:0.819859\n",
      "[324]\tvalidation_0-mlogloss:0.819664\n",
      "[325]\tvalidation_0-mlogloss:0.819453\n",
      "[326]\tvalidation_0-mlogloss:0.819299\n",
      "[327]\tvalidation_0-mlogloss:0.819124\n",
      "[328]\tvalidation_0-mlogloss:0.818891\n",
      "[329]\tvalidation_0-mlogloss:0.818732\n",
      "[330]\tvalidation_0-mlogloss:0.818486\n",
      "[331]\tvalidation_0-mlogloss:0.818283\n",
      "[332]\tvalidation_0-mlogloss:0.817978\n",
      "[333]\tvalidation_0-mlogloss:0.817765\n",
      "[334]\tvalidation_0-mlogloss:0.817543\n",
      "[335]\tvalidation_0-mlogloss:0.817334\n",
      "[336]\tvalidation_0-mlogloss:0.817093\n",
      "[337]\tvalidation_0-mlogloss:0.816899\n",
      "[338]\tvalidation_0-mlogloss:0.81673\n",
      "[339]\tvalidation_0-mlogloss:0.816574\n",
      "[340]\tvalidation_0-mlogloss:0.816395\n",
      "[341]\tvalidation_0-mlogloss:0.816133\n",
      "[342]\tvalidation_0-mlogloss:0.815924\n",
      "[343]\tvalidation_0-mlogloss:0.815683\n",
      "[344]\tvalidation_0-mlogloss:0.815516\n",
      "[345]\tvalidation_0-mlogloss:0.815297\n",
      "[346]\tvalidation_0-mlogloss:0.815074\n",
      "[347]\tvalidation_0-mlogloss:0.814803\n",
      "[348]\tvalidation_0-mlogloss:0.814654\n",
      "[349]\tvalidation_0-mlogloss:0.814551\n",
      "[350]\tvalidation_0-mlogloss:0.814337\n",
      "[351]\tvalidation_0-mlogloss:0.814086\n",
      "[352]\tvalidation_0-mlogloss:0.813855\n",
      "[353]\tvalidation_0-mlogloss:0.81361\n",
      "[354]\tvalidation_0-mlogloss:0.813463\n",
      "[355]\tvalidation_0-mlogloss:0.813276\n",
      "[356]\tvalidation_0-mlogloss:0.813163\n",
      "[357]\tvalidation_0-mlogloss:0.812936\n",
      "[358]\tvalidation_0-mlogloss:0.812633\n",
      "[359]\tvalidation_0-mlogloss:0.812493\n",
      "[360]\tvalidation_0-mlogloss:0.81227\n",
      "[361]\tvalidation_0-mlogloss:0.812043\n",
      "[362]\tvalidation_0-mlogloss:0.81177\n",
      "[363]\tvalidation_0-mlogloss:0.81157\n",
      "[364]\tvalidation_0-mlogloss:0.81135\n",
      "[365]\tvalidation_0-mlogloss:0.811073\n",
      "[366]\tvalidation_0-mlogloss:0.81091\n",
      "[367]\tvalidation_0-mlogloss:0.810718\n",
      "[368]\tvalidation_0-mlogloss:0.810546\n",
      "[369]\tvalidation_0-mlogloss:0.810439\n",
      "[370]\tvalidation_0-mlogloss:0.810217\n",
      "[371]\tvalidation_0-mlogloss:0.809953\n",
      "[372]\tvalidation_0-mlogloss:0.809708\n",
      "[373]\tvalidation_0-mlogloss:0.80966\n",
      "[374]\tvalidation_0-mlogloss:0.809477\n",
      "[375]\tvalidation_0-mlogloss:0.809322\n",
      "[376]\tvalidation_0-mlogloss:0.809111\n",
      "[377]\tvalidation_0-mlogloss:0.809064\n",
      "[378]\tvalidation_0-mlogloss:0.808842\n",
      "[379]\tvalidation_0-mlogloss:0.808628\n",
      "[380]\tvalidation_0-mlogloss:0.808452\n",
      "[381]\tvalidation_0-mlogloss:0.808389\n",
      "[382]\tvalidation_0-mlogloss:0.808243\n",
      "[383]\tvalidation_0-mlogloss:0.808108\n",
      "[384]\tvalidation_0-mlogloss:0.807953\n",
      "[385]\tvalidation_0-mlogloss:0.807794\n",
      "[386]\tvalidation_0-mlogloss:0.807642\n",
      "[387]\tvalidation_0-mlogloss:0.807569\n",
      "[388]\tvalidation_0-mlogloss:0.807423\n",
      "[389]\tvalidation_0-mlogloss:0.807187\n",
      "[390]\tvalidation_0-mlogloss:0.80701\n",
      "[391]\tvalidation_0-mlogloss:0.806861\n",
      "[392]\tvalidation_0-mlogloss:0.806661\n",
      "[393]\tvalidation_0-mlogloss:0.806495\n",
      "[394]\tvalidation_0-mlogloss:0.806353\n",
      "[395]\tvalidation_0-mlogloss:0.806182\n",
      "[396]\tvalidation_0-mlogloss:0.805952\n",
      "[397]\tvalidation_0-mlogloss:0.805812\n",
      "[398]\tvalidation_0-mlogloss:0.805698\n",
      "[399]\tvalidation_0-mlogloss:0.805493\n",
      "[400]\tvalidation_0-mlogloss:0.805327\n",
      "[401]\tvalidation_0-mlogloss:0.805149\n",
      "[402]\tvalidation_0-mlogloss:0.804983\n",
      "[403]\tvalidation_0-mlogloss:0.804811\n",
      "[404]\tvalidation_0-mlogloss:0.804678\n",
      "[405]\tvalidation_0-mlogloss:0.804507\n",
      "[406]\tvalidation_0-mlogloss:0.804374\n",
      "[407]\tvalidation_0-mlogloss:0.804213\n",
      "[408]\tvalidation_0-mlogloss:0.80401\n",
      "[409]\tvalidation_0-mlogloss:0.803844\n",
      "[410]\tvalidation_0-mlogloss:0.803729\n",
      "[411]\tvalidation_0-mlogloss:0.803607\n",
      "[412]\tvalidation_0-mlogloss:0.803468\n",
      "[413]\tvalidation_0-mlogloss:0.803277\n",
      "[414]\tvalidation_0-mlogloss:0.803103\n",
      "[415]\tvalidation_0-mlogloss:0.802861\n",
      "[416]\tvalidation_0-mlogloss:0.802661\n",
      "[417]\tvalidation_0-mlogloss:0.802567\n",
      "[418]\tvalidation_0-mlogloss:0.802418\n",
      "[419]\tvalidation_0-mlogloss:0.802273\n",
      "[420]\tvalidation_0-mlogloss:0.802122\n",
      "[421]\tvalidation_0-mlogloss:0.80195\n",
      "[422]\tvalidation_0-mlogloss:0.801897\n",
      "[423]\tvalidation_0-mlogloss:0.801722\n",
      "[424]\tvalidation_0-mlogloss:0.801551\n",
      "[425]\tvalidation_0-mlogloss:0.801298\n",
      "[426]\tvalidation_0-mlogloss:0.801096\n",
      "[427]\tvalidation_0-mlogloss:0.801003\n",
      "[428]\tvalidation_0-mlogloss:0.800871\n",
      "[429]\tvalidation_0-mlogloss:0.800778\n",
      "[430]\tvalidation_0-mlogloss:0.800583\n",
      "[431]\tvalidation_0-mlogloss:0.800573\n",
      "[432]\tvalidation_0-mlogloss:0.800452\n",
      "[433]\tvalidation_0-mlogloss:0.800253\n",
      "[434]\tvalidation_0-mlogloss:0.80009\n",
      "[435]\tvalidation_0-mlogloss:0.799958\n",
      "[436]\tvalidation_0-mlogloss:0.799842\n",
      "[437]\tvalidation_0-mlogloss:0.799688\n",
      "[438]\tvalidation_0-mlogloss:0.799655\n",
      "[439]\tvalidation_0-mlogloss:0.799565\n",
      "[440]\tvalidation_0-mlogloss:0.799436\n",
      "[441]\tvalidation_0-mlogloss:0.799314\n",
      "[442]\tvalidation_0-mlogloss:0.799232\n",
      "[443]\tvalidation_0-mlogloss:0.799114\n",
      "[444]\tvalidation_0-mlogloss:0.798948\n",
      "[445]\tvalidation_0-mlogloss:0.798824\n",
      "[446]\tvalidation_0-mlogloss:0.798743\n",
      "[447]\tvalidation_0-mlogloss:0.798629\n"
     ]
    },
    {
     "name": "stdout",
     "output_type": "stream",
     "text": [
      "[448]\tvalidation_0-mlogloss:0.798489\n",
      "[449]\tvalidation_0-mlogloss:0.798389\n",
      "[450]\tvalidation_0-mlogloss:0.798347\n",
      "[451]\tvalidation_0-mlogloss:0.7983\n",
      "[452]\tvalidation_0-mlogloss:0.798242\n",
      "[453]\tvalidation_0-mlogloss:0.798159\n",
      "[454]\tvalidation_0-mlogloss:0.798024\n",
      "[455]\tvalidation_0-mlogloss:0.797929\n",
      "[456]\tvalidation_0-mlogloss:0.797778\n",
      "[457]\tvalidation_0-mlogloss:0.797694\n",
      "[458]\tvalidation_0-mlogloss:0.797553\n",
      "[459]\tvalidation_0-mlogloss:0.797404\n",
      "[460]\tvalidation_0-mlogloss:0.797278\n",
      "[461]\tvalidation_0-mlogloss:0.797101\n",
      "[462]\tvalidation_0-mlogloss:0.796974\n",
      "[463]\tvalidation_0-mlogloss:0.79678\n",
      "[464]\tvalidation_0-mlogloss:0.796632\n",
      "[465]\tvalidation_0-mlogloss:0.796462\n",
      "[466]\tvalidation_0-mlogloss:0.796298\n",
      "[467]\tvalidation_0-mlogloss:0.796207\n",
      "[468]\tvalidation_0-mlogloss:0.796023\n",
      "[469]\tvalidation_0-mlogloss:0.795954\n",
      "[470]\tvalidation_0-mlogloss:0.79582\n",
      "[471]\tvalidation_0-mlogloss:0.795669\n",
      "[472]\tvalidation_0-mlogloss:0.795552\n",
      "[473]\tvalidation_0-mlogloss:0.795509\n",
      "[474]\tvalidation_0-mlogloss:0.795385\n",
      "[475]\tvalidation_0-mlogloss:0.795259\n",
      "[476]\tvalidation_0-mlogloss:0.795156\n",
      "[477]\tvalidation_0-mlogloss:0.795054\n",
      "[478]\tvalidation_0-mlogloss:0.794923\n",
      "[479]\tvalidation_0-mlogloss:0.794848\n",
      "[480]\tvalidation_0-mlogloss:0.794748\n",
      "[481]\tvalidation_0-mlogloss:0.794566\n",
      "[482]\tvalidation_0-mlogloss:0.794427\n",
      "[483]\tvalidation_0-mlogloss:0.794343\n",
      "[484]\tvalidation_0-mlogloss:0.794247\n",
      "[485]\tvalidation_0-mlogloss:0.794153\n",
      "[486]\tvalidation_0-mlogloss:0.79404\n",
      "[487]\tvalidation_0-mlogloss:0.793997\n",
      "[488]\tvalidation_0-mlogloss:0.793902\n",
      "[489]\tvalidation_0-mlogloss:0.793687\n",
      "[490]\tvalidation_0-mlogloss:0.793665\n",
      "[491]\tvalidation_0-mlogloss:0.793483\n",
      "[492]\tvalidation_0-mlogloss:0.793451\n",
      "[493]\tvalidation_0-mlogloss:0.793344\n",
      "[494]\tvalidation_0-mlogloss:0.793229\n",
      "[495]\tvalidation_0-mlogloss:0.793046\n",
      "[496]\tvalidation_0-mlogloss:0.792921\n",
      "[497]\tvalidation_0-mlogloss:0.792788\n",
      "[498]\tvalidation_0-mlogloss:0.792707\n",
      "[499]\tvalidation_0-mlogloss:0.792506\n",
      "[500]\tvalidation_0-mlogloss:0.792323\n",
      "[501]\tvalidation_0-mlogloss:0.792155\n",
      "[502]\tvalidation_0-mlogloss:0.792086\n",
      "[503]\tvalidation_0-mlogloss:0.791928\n",
      "[504]\tvalidation_0-mlogloss:0.791843\n",
      "[505]\tvalidation_0-mlogloss:0.791745\n",
      "[506]\tvalidation_0-mlogloss:0.791644\n",
      "[507]\tvalidation_0-mlogloss:0.791442\n",
      "[508]\tvalidation_0-mlogloss:0.791283\n",
      "[509]\tvalidation_0-mlogloss:0.791254\n",
      "[510]\tvalidation_0-mlogloss:0.791196\n",
      "[511]\tvalidation_0-mlogloss:0.791119\n",
      "[512]\tvalidation_0-mlogloss:0.791001\n",
      "[513]\tvalidation_0-mlogloss:0.790994\n",
      "[514]\tvalidation_0-mlogloss:0.790884\n",
      "[515]\tvalidation_0-mlogloss:0.790754\n",
      "[516]\tvalidation_0-mlogloss:0.790634\n",
      "[517]\tvalidation_0-mlogloss:0.790584\n",
      "[518]\tvalidation_0-mlogloss:0.790462\n",
      "[519]\tvalidation_0-mlogloss:0.790318\n",
      "[520]\tvalidation_0-mlogloss:0.790272\n",
      "[521]\tvalidation_0-mlogloss:0.79011\n",
      "[522]\tvalidation_0-mlogloss:0.790086\n",
      "[523]\tvalidation_0-mlogloss:0.790051\n",
      "[524]\tvalidation_0-mlogloss:0.789919\n",
      "[525]\tvalidation_0-mlogloss:0.789907\n",
      "[526]\tvalidation_0-mlogloss:0.789834\n",
      "[527]\tvalidation_0-mlogloss:0.789752\n",
      "[528]\tvalidation_0-mlogloss:0.789621\n",
      "[529]\tvalidation_0-mlogloss:0.789468\n",
      "[530]\tvalidation_0-mlogloss:0.789347\n",
      "[531]\tvalidation_0-mlogloss:0.789278\n",
      "[532]\tvalidation_0-mlogloss:0.789181\n",
      "[533]\tvalidation_0-mlogloss:0.789098\n",
      "[534]\tvalidation_0-mlogloss:0.788955\n",
      "[535]\tvalidation_0-mlogloss:0.788919\n",
      "[536]\tvalidation_0-mlogloss:0.788772\n",
      "[537]\tvalidation_0-mlogloss:0.788727\n",
      "[538]\tvalidation_0-mlogloss:0.788587\n",
      "[539]\tvalidation_0-mlogloss:0.788499\n",
      "[540]\tvalidation_0-mlogloss:0.788345\n",
      "[541]\tvalidation_0-mlogloss:0.788294\n",
      "[542]\tvalidation_0-mlogloss:0.788184\n",
      "[543]\tvalidation_0-mlogloss:0.788127\n",
      "[544]\tvalidation_0-mlogloss:0.788017\n",
      "[545]\tvalidation_0-mlogloss:0.787918\n",
      "[546]\tvalidation_0-mlogloss:0.787823\n",
      "[547]\tvalidation_0-mlogloss:0.787675\n",
      "[548]\tvalidation_0-mlogloss:0.787624\n",
      "[549]\tvalidation_0-mlogloss:0.787482\n",
      "[550]\tvalidation_0-mlogloss:0.787464\n",
      "[551]\tvalidation_0-mlogloss:0.78735\n",
      "[552]\tvalidation_0-mlogloss:0.787252\n",
      "[553]\tvalidation_0-mlogloss:0.787142\n",
      "[554]\tvalidation_0-mlogloss:0.787105\n",
      "[555]\tvalidation_0-mlogloss:0.787041\n",
      "[556]\tvalidation_0-mlogloss:0.786977\n",
      "[557]\tvalidation_0-mlogloss:0.786908\n",
      "[558]\tvalidation_0-mlogloss:0.786851\n",
      "[559]\tvalidation_0-mlogloss:0.786808\n",
      "[560]\tvalidation_0-mlogloss:0.786734\n",
      "[561]\tvalidation_0-mlogloss:0.786677\n",
      "[562]\tvalidation_0-mlogloss:0.786576\n",
      "[563]\tvalidation_0-mlogloss:0.786413\n",
      "[564]\tvalidation_0-mlogloss:0.786293\n",
      "[565]\tvalidation_0-mlogloss:0.786205\n",
      "[566]\tvalidation_0-mlogloss:0.78611\n",
      "[567]\tvalidation_0-mlogloss:0.786003\n",
      "[568]\tvalidation_0-mlogloss:0.785906\n",
      "[569]\tvalidation_0-mlogloss:0.785836\n",
      "[570]\tvalidation_0-mlogloss:0.785661\n",
      "[571]\tvalidation_0-mlogloss:0.785603\n",
      "[572]\tvalidation_0-mlogloss:0.785513\n",
      "[573]\tvalidation_0-mlogloss:0.78548\n",
      "[574]\tvalidation_0-mlogloss:0.785396\n",
      "[575]\tvalidation_0-mlogloss:0.785275\n",
      "[576]\tvalidation_0-mlogloss:0.785224\n",
      "[577]\tvalidation_0-mlogloss:0.785057\n",
      "[578]\tvalidation_0-mlogloss:0.785004\n",
      "[579]\tvalidation_0-mlogloss:0.784933\n",
      "[580]\tvalidation_0-mlogloss:0.784736\n",
      "[581]\tvalidation_0-mlogloss:0.784725\n",
      "[582]\tvalidation_0-mlogloss:0.784632\n",
      "[583]\tvalidation_0-mlogloss:0.784464\n",
      "[584]\tvalidation_0-mlogloss:0.784335\n",
      "[585]\tvalidation_0-mlogloss:0.784204\n",
      "[586]\tvalidation_0-mlogloss:0.784113\n",
      "[587]\tvalidation_0-mlogloss:0.784034\n",
      "[588]\tvalidation_0-mlogloss:0.783894\n",
      "[589]\tvalidation_0-mlogloss:0.78384\n",
      "[590]\tvalidation_0-mlogloss:0.783763\n",
      "[591]\tvalidation_0-mlogloss:0.783653\n",
      "[592]\tvalidation_0-mlogloss:0.783553\n",
      "[593]\tvalidation_0-mlogloss:0.78347\n",
      "[594]\tvalidation_0-mlogloss:0.783391\n",
      "[595]\tvalidation_0-mlogloss:0.783297\n",
      "[596]\tvalidation_0-mlogloss:0.783184\n",
      "[597]\tvalidation_0-mlogloss:0.783118\n",
      "[598]\tvalidation_0-mlogloss:0.782992\n",
      "[599]\tvalidation_0-mlogloss:0.782937\n",
      "[600]\tvalidation_0-mlogloss:0.782885\n",
      "[601]\tvalidation_0-mlogloss:0.782778\n",
      "[602]\tvalidation_0-mlogloss:0.782731\n",
      "[603]\tvalidation_0-mlogloss:0.782636\n",
      "[604]\tvalidation_0-mlogloss:0.782573\n",
      "[605]\tvalidation_0-mlogloss:0.78249\n",
      "[606]\tvalidation_0-mlogloss:0.782362\n",
      "[607]\tvalidation_0-mlogloss:0.782293\n",
      "[608]\tvalidation_0-mlogloss:0.782199\n",
      "[609]\tvalidation_0-mlogloss:0.782072\n",
      "[610]\tvalidation_0-mlogloss:0.781963\n",
      "[611]\tvalidation_0-mlogloss:0.781903\n",
      "[612]\tvalidation_0-mlogloss:0.781825\n",
      "[613]\tvalidation_0-mlogloss:0.781829\n",
      "[614]\tvalidation_0-mlogloss:0.781777\n",
      "[615]\tvalidation_0-mlogloss:0.781687\n",
      "[616]\tvalidation_0-mlogloss:0.781654\n",
      "[617]\tvalidation_0-mlogloss:0.781571\n",
      "[618]\tvalidation_0-mlogloss:0.781505\n",
      "[619]\tvalidation_0-mlogloss:0.78137\n",
      "[620]\tvalidation_0-mlogloss:0.781323\n",
      "[621]\tvalidation_0-mlogloss:0.781263\n",
      "[622]\tvalidation_0-mlogloss:0.781203\n",
      "[623]\tvalidation_0-mlogloss:0.781083\n",
      "[624]\tvalidation_0-mlogloss:0.780899\n",
      "[625]\tvalidation_0-mlogloss:0.780842\n",
      "[626]\tvalidation_0-mlogloss:0.78072\n",
      "[627]\tvalidation_0-mlogloss:0.780576\n",
      "[628]\tvalidation_0-mlogloss:0.780498\n",
      "[629]\tvalidation_0-mlogloss:0.780385\n",
      "[630]\tvalidation_0-mlogloss:0.780305\n",
      "[631]\tvalidation_0-mlogloss:0.780273\n",
      "[632]\tvalidation_0-mlogloss:0.780181\n",
      "[633]\tvalidation_0-mlogloss:0.780091\n",
      "[634]\tvalidation_0-mlogloss:0.780022\n",
      "[635]\tvalidation_0-mlogloss:0.779957\n",
      "[636]\tvalidation_0-mlogloss:0.779871\n",
      "[637]\tvalidation_0-mlogloss:0.779772\n",
      "[638]\tvalidation_0-mlogloss:0.779675\n",
      "[639]\tvalidation_0-mlogloss:0.779584\n",
      "[640]\tvalidation_0-mlogloss:0.779537\n",
      "[641]\tvalidation_0-mlogloss:0.779435\n",
      "[642]\tvalidation_0-mlogloss:0.779373\n",
      "[643]\tvalidation_0-mlogloss:0.779287\n",
      "[644]\tvalidation_0-mlogloss:0.779202\n",
      "[645]\tvalidation_0-mlogloss:0.779087\n",
      "[646]\tvalidation_0-mlogloss:0.779002\n",
      "[647]\tvalidation_0-mlogloss:0.778927\n",
      "[648]\tvalidation_0-mlogloss:0.778865\n",
      "[649]\tvalidation_0-mlogloss:0.778874\n",
      "[650]\tvalidation_0-mlogloss:0.778778\n",
      "[651]\tvalidation_0-mlogloss:0.778703\n",
      "[652]\tvalidation_0-mlogloss:0.778703\n",
      "[653]\tvalidation_0-mlogloss:0.778619\n",
      "[654]\tvalidation_0-mlogloss:0.778581\n",
      "[655]\tvalidation_0-mlogloss:0.778508\n",
      "[656]\tvalidation_0-mlogloss:0.778419\n",
      "[657]\tvalidation_0-mlogloss:0.77832\n",
      "[658]\tvalidation_0-mlogloss:0.778264\n",
      "[659]\tvalidation_0-mlogloss:0.778153\n",
      "[660]\tvalidation_0-mlogloss:0.778058\n",
      "[661]\tvalidation_0-mlogloss:0.777998\n",
      "[662]\tvalidation_0-mlogloss:0.778\n",
      "[663]\tvalidation_0-mlogloss:0.777969\n",
      "[664]\tvalidation_0-mlogloss:0.777881\n",
      "[665]\tvalidation_0-mlogloss:0.777764\n",
      "[666]\tvalidation_0-mlogloss:0.777709\n",
      "[667]\tvalidation_0-mlogloss:0.777683\n",
      "[668]\tvalidation_0-mlogloss:0.777613\n",
      "[669]\tvalidation_0-mlogloss:0.777538\n"
     ]
    },
    {
     "name": "stdout",
     "output_type": "stream",
     "text": [
      "[670]\tvalidation_0-mlogloss:0.777495\n",
      "[671]\tvalidation_0-mlogloss:0.777449\n",
      "[672]\tvalidation_0-mlogloss:0.77743\n",
      "[673]\tvalidation_0-mlogloss:0.777351\n",
      "[674]\tvalidation_0-mlogloss:0.777254\n",
      "[675]\tvalidation_0-mlogloss:0.777218\n",
      "[676]\tvalidation_0-mlogloss:0.777177\n",
      "[677]\tvalidation_0-mlogloss:0.777126\n",
      "[678]\tvalidation_0-mlogloss:0.777038\n",
      "[679]\tvalidation_0-mlogloss:0.77699\n",
      "[680]\tvalidation_0-mlogloss:0.776873\n",
      "[681]\tvalidation_0-mlogloss:0.776836\n",
      "[682]\tvalidation_0-mlogloss:0.776765\n",
      "[683]\tvalidation_0-mlogloss:0.77671\n",
      "[684]\tvalidation_0-mlogloss:0.776658\n",
      "[685]\tvalidation_0-mlogloss:0.77663\n",
      "[686]\tvalidation_0-mlogloss:0.776572\n",
      "[687]\tvalidation_0-mlogloss:0.776519\n",
      "[688]\tvalidation_0-mlogloss:0.776472\n",
      "[689]\tvalidation_0-mlogloss:0.776436\n",
      "[690]\tvalidation_0-mlogloss:0.776391\n",
      "[691]\tvalidation_0-mlogloss:0.776315\n",
      "[692]\tvalidation_0-mlogloss:0.776265\n",
      "[693]\tvalidation_0-mlogloss:0.776262\n",
      "[694]\tvalidation_0-mlogloss:0.776212\n",
      "[695]\tvalidation_0-mlogloss:0.77614\n",
      "[696]\tvalidation_0-mlogloss:0.776142\n",
      "[697]\tvalidation_0-mlogloss:0.77609\n",
      "[698]\tvalidation_0-mlogloss:0.775968\n",
      "[699]\tvalidation_0-mlogloss:0.775852\n",
      "[700]\tvalidation_0-mlogloss:0.775825\n",
      "[701]\tvalidation_0-mlogloss:0.775807\n",
      "[702]\tvalidation_0-mlogloss:0.775789\n",
      "[703]\tvalidation_0-mlogloss:0.775762\n",
      "[704]\tvalidation_0-mlogloss:0.775723\n",
      "[705]\tvalidation_0-mlogloss:0.775701\n",
      "[706]\tvalidation_0-mlogloss:0.775592\n",
      "[707]\tvalidation_0-mlogloss:0.775599\n",
      "[708]\tvalidation_0-mlogloss:0.775523\n",
      "[709]\tvalidation_0-mlogloss:0.775472\n",
      "[710]\tvalidation_0-mlogloss:0.77542\n",
      "[711]\tvalidation_0-mlogloss:0.775376\n",
      "[712]\tvalidation_0-mlogloss:0.775323\n",
      "[713]\tvalidation_0-mlogloss:0.775227\n",
      "[714]\tvalidation_0-mlogloss:0.775168\n",
      "[715]\tvalidation_0-mlogloss:0.775136\n",
      "[716]\tvalidation_0-mlogloss:0.775105\n",
      "[717]\tvalidation_0-mlogloss:0.775025\n",
      "[718]\tvalidation_0-mlogloss:0.775007\n",
      "[719]\tvalidation_0-mlogloss:0.774914\n",
      "[720]\tvalidation_0-mlogloss:0.774858\n",
      "[721]\tvalidation_0-mlogloss:0.774756\n",
      "[722]\tvalidation_0-mlogloss:0.774714\n",
      "[723]\tvalidation_0-mlogloss:0.774701\n",
      "[724]\tvalidation_0-mlogloss:0.774686\n",
      "[725]\tvalidation_0-mlogloss:0.774694\n",
      "[726]\tvalidation_0-mlogloss:0.774577\n",
      "[727]\tvalidation_0-mlogloss:0.774452\n",
      "[728]\tvalidation_0-mlogloss:0.774389\n",
      "[729]\tvalidation_0-mlogloss:0.774288\n",
      "[730]\tvalidation_0-mlogloss:0.77422\n",
      "[731]\tvalidation_0-mlogloss:0.774206\n",
      "[732]\tvalidation_0-mlogloss:0.774162\n",
      "[733]\tvalidation_0-mlogloss:0.77413\n",
      "[734]\tvalidation_0-mlogloss:0.774083\n",
      "[735]\tvalidation_0-mlogloss:0.774044\n",
      "[736]\tvalidation_0-mlogloss:0.77403\n",
      "[737]\tvalidation_0-mlogloss:0.773963\n",
      "[738]\tvalidation_0-mlogloss:0.773942\n",
      "[739]\tvalidation_0-mlogloss:0.773887\n",
      "[740]\tvalidation_0-mlogloss:0.773808\n",
      "[741]\tvalidation_0-mlogloss:0.773788\n",
      "[742]\tvalidation_0-mlogloss:0.773742\n",
      "[743]\tvalidation_0-mlogloss:0.773683\n",
      "[744]\tvalidation_0-mlogloss:0.773686\n",
      "[745]\tvalidation_0-mlogloss:0.773556\n",
      "[746]\tvalidation_0-mlogloss:0.773527\n",
      "[747]\tvalidation_0-mlogloss:0.77346\n",
      "[748]\tvalidation_0-mlogloss:0.773465\n",
      "[749]\tvalidation_0-mlogloss:0.773399\n",
      "[750]\tvalidation_0-mlogloss:0.773367\n",
      "[751]\tvalidation_0-mlogloss:0.773265\n",
      "[752]\tvalidation_0-mlogloss:0.773199\n",
      "[753]\tvalidation_0-mlogloss:0.773145\n",
      "[754]\tvalidation_0-mlogloss:0.773064\n",
      "[755]\tvalidation_0-mlogloss:0.773065\n",
      "[756]\tvalidation_0-mlogloss:0.772991\n",
      "[757]\tvalidation_0-mlogloss:0.772913\n",
      "[758]\tvalidation_0-mlogloss:0.77288\n",
      "[759]\tvalidation_0-mlogloss:0.772856\n",
      "[760]\tvalidation_0-mlogloss:0.772804\n",
      "[761]\tvalidation_0-mlogloss:0.772785\n",
      "[762]\tvalidation_0-mlogloss:0.772707\n",
      "[763]\tvalidation_0-mlogloss:0.772621\n",
      "[764]\tvalidation_0-mlogloss:0.772575\n",
      "[765]\tvalidation_0-mlogloss:0.772537\n",
      "[766]\tvalidation_0-mlogloss:0.77249\n",
      "[767]\tvalidation_0-mlogloss:0.772452\n",
      "[768]\tvalidation_0-mlogloss:0.772414\n",
      "[769]\tvalidation_0-mlogloss:0.772326\n",
      "[770]\tvalidation_0-mlogloss:0.77227\n",
      "[771]\tvalidation_0-mlogloss:0.772241\n",
      "[772]\tvalidation_0-mlogloss:0.772171\n",
      "[773]\tvalidation_0-mlogloss:0.772137\n",
      "[774]\tvalidation_0-mlogloss:0.772111\n",
      "[775]\tvalidation_0-mlogloss:0.772112\n",
      "[776]\tvalidation_0-mlogloss:0.772076\n",
      "[777]\tvalidation_0-mlogloss:0.771971\n",
      "[778]\tvalidation_0-mlogloss:0.771966\n",
      "[779]\tvalidation_0-mlogloss:0.771904\n",
      "[780]\tvalidation_0-mlogloss:0.771811\n",
      "[781]\tvalidation_0-mlogloss:0.771782\n",
      "[782]\tvalidation_0-mlogloss:0.771762\n",
      "[783]\tvalidation_0-mlogloss:0.771687\n",
      "[784]\tvalidation_0-mlogloss:0.771617\n",
      "[785]\tvalidation_0-mlogloss:0.771551\n",
      "[786]\tvalidation_0-mlogloss:0.771432\n",
      "[787]\tvalidation_0-mlogloss:0.771402\n",
      "[788]\tvalidation_0-mlogloss:0.771413\n",
      "[789]\tvalidation_0-mlogloss:0.771359\n",
      "[790]\tvalidation_0-mlogloss:0.771273\n",
      "[791]\tvalidation_0-mlogloss:0.77128\n",
      "[792]\tvalidation_0-mlogloss:0.771193\n",
      "[793]\tvalidation_0-mlogloss:0.771188\n",
      "[794]\tvalidation_0-mlogloss:0.771121\n",
      "[795]\tvalidation_0-mlogloss:0.771084\n",
      "[796]\tvalidation_0-mlogloss:0.771076\n",
      "[797]\tvalidation_0-mlogloss:0.770976\n",
      "[798]\tvalidation_0-mlogloss:0.770902\n",
      "[799]\tvalidation_0-mlogloss:0.770887\n",
      "[800]\tvalidation_0-mlogloss:0.770813\n",
      "[801]\tvalidation_0-mlogloss:0.770704\n",
      "[802]\tvalidation_0-mlogloss:0.770702\n",
      "[803]\tvalidation_0-mlogloss:0.770667\n",
      "[804]\tvalidation_0-mlogloss:0.770585\n",
      "[805]\tvalidation_0-mlogloss:0.770549\n",
      "[806]\tvalidation_0-mlogloss:0.770508\n",
      "[807]\tvalidation_0-mlogloss:0.770501\n",
      "[808]\tvalidation_0-mlogloss:0.77047\n",
      "[809]\tvalidation_0-mlogloss:0.77041\n",
      "[810]\tvalidation_0-mlogloss:0.770363\n",
      "[811]\tvalidation_0-mlogloss:0.770313\n",
      "[812]\tvalidation_0-mlogloss:0.770271\n",
      "[813]\tvalidation_0-mlogloss:0.770168\n",
      "[814]\tvalidation_0-mlogloss:0.770147\n",
      "[815]\tvalidation_0-mlogloss:0.770137\n",
      "[816]\tvalidation_0-mlogloss:0.770049\n",
      "[817]\tvalidation_0-mlogloss:0.770025\n",
      "[818]\tvalidation_0-mlogloss:0.769976\n",
      "[819]\tvalidation_0-mlogloss:0.769951\n",
      "[820]\tvalidation_0-mlogloss:0.769863\n",
      "[821]\tvalidation_0-mlogloss:0.769822\n",
      "[822]\tvalidation_0-mlogloss:0.769754\n",
      "[823]\tvalidation_0-mlogloss:0.7697\n",
      "[824]\tvalidation_0-mlogloss:0.769659\n",
      "[825]\tvalidation_0-mlogloss:0.76954\n",
      "[826]\tvalidation_0-mlogloss:0.769548\n",
      "[827]\tvalidation_0-mlogloss:0.769468\n",
      "[828]\tvalidation_0-mlogloss:0.76944\n",
      "[829]\tvalidation_0-mlogloss:0.769404\n",
      "[830]\tvalidation_0-mlogloss:0.769354\n",
      "[831]\tvalidation_0-mlogloss:0.769241\n",
      "[832]\tvalidation_0-mlogloss:0.769218\n",
      "[833]\tvalidation_0-mlogloss:0.769168\n",
      "[834]\tvalidation_0-mlogloss:0.769134\n",
      "[835]\tvalidation_0-mlogloss:0.769143\n",
      "[836]\tvalidation_0-mlogloss:0.769125\n",
      "[837]\tvalidation_0-mlogloss:0.769082\n",
      "[838]\tvalidation_0-mlogloss:0.769089\n",
      "[839]\tvalidation_0-mlogloss:0.769085\n",
      "[840]\tvalidation_0-mlogloss:0.769044\n",
      "[841]\tvalidation_0-mlogloss:0.769\n",
      "[842]\tvalidation_0-mlogloss:0.768934\n",
      "[843]\tvalidation_0-mlogloss:0.768965\n",
      "[844]\tvalidation_0-mlogloss:0.768918\n",
      "[845]\tvalidation_0-mlogloss:0.76885\n",
      "[846]\tvalidation_0-mlogloss:0.768731\n",
      "[847]\tvalidation_0-mlogloss:0.7687\n",
      "[848]\tvalidation_0-mlogloss:0.768666\n",
      "[849]\tvalidation_0-mlogloss:0.768614\n",
      "[850]\tvalidation_0-mlogloss:0.768565\n",
      "[851]\tvalidation_0-mlogloss:0.768518\n",
      "[852]\tvalidation_0-mlogloss:0.768404\n",
      "[853]\tvalidation_0-mlogloss:0.768365\n",
      "[854]\tvalidation_0-mlogloss:0.768259\n",
      "[855]\tvalidation_0-mlogloss:0.768207\n",
      "[856]\tvalidation_0-mlogloss:0.768154\n",
      "[857]\tvalidation_0-mlogloss:0.768065\n",
      "[858]\tvalidation_0-mlogloss:0.768045\n",
      "[859]\tvalidation_0-mlogloss:0.768081\n",
      "[860]\tvalidation_0-mlogloss:0.768066\n",
      "[861]\tvalidation_0-mlogloss:0.767971\n",
      "[862]\tvalidation_0-mlogloss:0.767951\n",
      "[863]\tvalidation_0-mlogloss:0.767922\n",
      "[864]\tvalidation_0-mlogloss:0.76787\n",
      "[865]\tvalidation_0-mlogloss:0.767836\n",
      "[866]\tvalidation_0-mlogloss:0.767834\n",
      "[867]\tvalidation_0-mlogloss:0.767785\n",
      "[868]\tvalidation_0-mlogloss:0.767735\n",
      "[869]\tvalidation_0-mlogloss:0.767692\n",
      "[870]\tvalidation_0-mlogloss:0.767678\n",
      "[871]\tvalidation_0-mlogloss:0.767614\n",
      "[872]\tvalidation_0-mlogloss:0.767499\n",
      "[873]\tvalidation_0-mlogloss:0.76742\n",
      "[874]\tvalidation_0-mlogloss:0.767346\n",
      "[875]\tvalidation_0-mlogloss:0.767357\n",
      "[876]\tvalidation_0-mlogloss:0.767364\n",
      "[877]\tvalidation_0-mlogloss:0.767371\n",
      "[878]\tvalidation_0-mlogloss:0.767324\n",
      "[879]\tvalidation_0-mlogloss:0.767379\n",
      "[880]\tvalidation_0-mlogloss:0.767384\n",
      "[881]\tvalidation_0-mlogloss:0.767366\n",
      "[882]\tvalidation_0-mlogloss:0.767256\n",
      "[883]\tvalidation_0-mlogloss:0.767181\n",
      "[884]\tvalidation_0-mlogloss:0.767086\n",
      "[885]\tvalidation_0-mlogloss:0.767029\n",
      "[886]\tvalidation_0-mlogloss:0.767004\n",
      "[887]\tvalidation_0-mlogloss:0.766919\n",
      "[888]\tvalidation_0-mlogloss:0.766827\n",
      "[889]\tvalidation_0-mlogloss:0.766752\n",
      "[890]\tvalidation_0-mlogloss:0.766686\n",
      "[891]\tvalidation_0-mlogloss:0.766674\n",
      "[892]\tvalidation_0-mlogloss:0.766699\n"
     ]
    },
    {
     "name": "stdout",
     "output_type": "stream",
     "text": [
      "[893]\tvalidation_0-mlogloss:0.766636\n",
      "[894]\tvalidation_0-mlogloss:0.766594\n",
      "[895]\tvalidation_0-mlogloss:0.766616\n",
      "[896]\tvalidation_0-mlogloss:0.766573\n",
      "[897]\tvalidation_0-mlogloss:0.76652\n",
      "[898]\tvalidation_0-mlogloss:0.766491\n",
      "[899]\tvalidation_0-mlogloss:0.7665\n",
      "[900]\tvalidation_0-mlogloss:0.766491\n",
      "[901]\tvalidation_0-mlogloss:0.766467\n",
      "[902]\tvalidation_0-mlogloss:0.766397\n",
      "[903]\tvalidation_0-mlogloss:0.766422\n",
      "[904]\tvalidation_0-mlogloss:0.766397\n",
      "[905]\tvalidation_0-mlogloss:0.766368\n",
      "[906]\tvalidation_0-mlogloss:0.76634\n",
      "[907]\tvalidation_0-mlogloss:0.766335\n",
      "[908]\tvalidation_0-mlogloss:0.766287\n",
      "[909]\tvalidation_0-mlogloss:0.766262\n",
      "[910]\tvalidation_0-mlogloss:0.766175\n",
      "[911]\tvalidation_0-mlogloss:0.76615\n",
      "[912]\tvalidation_0-mlogloss:0.766055\n",
      "[913]\tvalidation_0-mlogloss:0.765985\n",
      "[914]\tvalidation_0-mlogloss:0.765861\n",
      "[915]\tvalidation_0-mlogloss:0.765855\n",
      "[916]\tvalidation_0-mlogloss:0.765802\n",
      "[917]\tvalidation_0-mlogloss:0.765731\n",
      "[918]\tvalidation_0-mlogloss:0.765694\n",
      "[919]\tvalidation_0-mlogloss:0.765635\n",
      "[920]\tvalidation_0-mlogloss:0.765626\n",
      "[921]\tvalidation_0-mlogloss:0.765682\n",
      "[922]\tvalidation_0-mlogloss:0.76571\n",
      "[923]\tvalidation_0-mlogloss:0.765655\n",
      "[924]\tvalidation_0-mlogloss:0.765577\n",
      "[925]\tvalidation_0-mlogloss:0.765538\n",
      "[926]\tvalidation_0-mlogloss:0.765536\n",
      "[927]\tvalidation_0-mlogloss:0.765524\n",
      "[928]\tvalidation_0-mlogloss:0.765486\n",
      "[929]\tvalidation_0-mlogloss:0.765466\n",
      "[930]\tvalidation_0-mlogloss:0.765487\n",
      "[931]\tvalidation_0-mlogloss:0.765473\n",
      "[932]\tvalidation_0-mlogloss:0.765413\n",
      "[933]\tvalidation_0-mlogloss:0.765383\n",
      "[934]\tvalidation_0-mlogloss:0.765364\n",
      "[935]\tvalidation_0-mlogloss:0.765365\n",
      "[936]\tvalidation_0-mlogloss:0.765322\n",
      "[937]\tvalidation_0-mlogloss:0.76531\n",
      "[938]\tvalidation_0-mlogloss:0.765309\n",
      "[939]\tvalidation_0-mlogloss:0.76524\n",
      "[940]\tvalidation_0-mlogloss:0.765194\n",
      "[941]\tvalidation_0-mlogloss:0.765142\n",
      "[942]\tvalidation_0-mlogloss:0.765138\n",
      "[943]\tvalidation_0-mlogloss:0.7651\n",
      "[944]\tvalidation_0-mlogloss:0.765082\n",
      "[945]\tvalidation_0-mlogloss:0.765067\n",
      "[946]\tvalidation_0-mlogloss:0.765002\n",
      "[947]\tvalidation_0-mlogloss:0.76498\n",
      "[948]\tvalidation_0-mlogloss:0.764964\n",
      "[949]\tvalidation_0-mlogloss:0.764979\n",
      "[950]\tvalidation_0-mlogloss:0.764973\n",
      "[951]\tvalidation_0-mlogloss:0.76499\n",
      "[952]\tvalidation_0-mlogloss:0.764958\n",
      "[953]\tvalidation_0-mlogloss:0.764874\n",
      "[954]\tvalidation_0-mlogloss:0.764867\n",
      "[955]\tvalidation_0-mlogloss:0.764839\n",
      "[956]\tvalidation_0-mlogloss:0.76476\n",
      "[957]\tvalidation_0-mlogloss:0.764749\n",
      "[958]\tvalidation_0-mlogloss:0.764719\n",
      "[959]\tvalidation_0-mlogloss:0.764697\n",
      "[960]\tvalidation_0-mlogloss:0.764674\n",
      "[961]\tvalidation_0-mlogloss:0.764648\n",
      "[962]\tvalidation_0-mlogloss:0.764636\n",
      "[963]\tvalidation_0-mlogloss:0.764622\n",
      "[964]\tvalidation_0-mlogloss:0.764587\n",
      "[965]\tvalidation_0-mlogloss:0.764534\n",
      "[966]\tvalidation_0-mlogloss:0.764531\n",
      "[967]\tvalidation_0-mlogloss:0.764481\n",
      "[968]\tvalidation_0-mlogloss:0.764424\n",
      "[969]\tvalidation_0-mlogloss:0.764397\n",
      "[970]\tvalidation_0-mlogloss:0.764372\n",
      "[971]\tvalidation_0-mlogloss:0.764312\n",
      "[972]\tvalidation_0-mlogloss:0.764264\n",
      "[973]\tvalidation_0-mlogloss:0.764194\n",
      "[974]\tvalidation_0-mlogloss:0.764187\n",
      "[975]\tvalidation_0-mlogloss:0.76414\n",
      "[976]\tvalidation_0-mlogloss:0.764136\n",
      "[977]\tvalidation_0-mlogloss:0.764139\n",
      "[978]\tvalidation_0-mlogloss:0.764078\n",
      "[979]\tvalidation_0-mlogloss:0.764043\n",
      "[980]\tvalidation_0-mlogloss:0.76403\n",
      "[981]\tvalidation_0-mlogloss:0.764003\n",
      "[982]\tvalidation_0-mlogloss:0.763965\n",
      "[983]\tvalidation_0-mlogloss:0.763951\n",
      "[984]\tvalidation_0-mlogloss:0.763902\n",
      "[985]\tvalidation_0-mlogloss:0.763876\n",
      "[986]\tvalidation_0-mlogloss:0.763873\n",
      "[987]\tvalidation_0-mlogloss:0.763894\n",
      "[988]\tvalidation_0-mlogloss:0.763878\n",
      "[989]\tvalidation_0-mlogloss:0.763869\n",
      "[990]\tvalidation_0-mlogloss:0.763858\n",
      "[991]\tvalidation_0-mlogloss:0.763827\n",
      "[992]\tvalidation_0-mlogloss:0.763754\n",
      "[993]\tvalidation_0-mlogloss:0.763697\n",
      "[994]\tvalidation_0-mlogloss:0.763595\n",
      "[995]\tvalidation_0-mlogloss:0.763601\n",
      "[996]\tvalidation_0-mlogloss:0.763553\n",
      "[997]\tvalidation_0-mlogloss:0.763569\n",
      "[998]\tvalidation_0-mlogloss:0.763544\n",
      "[999]\tvalidation_0-mlogloss:0.763498\n",
      "[1000]\tvalidation_0-mlogloss:0.763459\n",
      "[1001]\tvalidation_0-mlogloss:0.763422\n",
      "[1002]\tvalidation_0-mlogloss:0.763373\n",
      "[1003]\tvalidation_0-mlogloss:0.76331\n",
      "[1004]\tvalidation_0-mlogloss:0.763251\n",
      "[1005]\tvalidation_0-mlogloss:0.763241\n",
      "[1006]\tvalidation_0-mlogloss:0.763165\n",
      "[1007]\tvalidation_0-mlogloss:0.763076\n",
      "[1008]\tvalidation_0-mlogloss:0.763043\n",
      "[1009]\tvalidation_0-mlogloss:0.762968\n",
      "[1010]\tvalidation_0-mlogloss:0.762988\n",
      "[1011]\tvalidation_0-mlogloss:0.762888\n",
      "[1012]\tvalidation_0-mlogloss:0.762883\n",
      "[1013]\tvalidation_0-mlogloss:0.762875\n",
      "[1014]\tvalidation_0-mlogloss:0.762864\n",
      "[1015]\tvalidation_0-mlogloss:0.762809\n",
      "[1016]\tvalidation_0-mlogloss:0.762779\n",
      "[1017]\tvalidation_0-mlogloss:0.762765\n",
      "[1018]\tvalidation_0-mlogloss:0.762764\n",
      "[1019]\tvalidation_0-mlogloss:0.762697\n",
      "[1020]\tvalidation_0-mlogloss:0.762708\n",
      "[1021]\tvalidation_0-mlogloss:0.762675\n",
      "[1022]\tvalidation_0-mlogloss:0.762702\n",
      "[1023]\tvalidation_0-mlogloss:0.762667\n",
      "[1024]\tvalidation_0-mlogloss:0.76266\n",
      "[1025]\tvalidation_0-mlogloss:0.762605\n",
      "[1026]\tvalidation_0-mlogloss:0.762572\n",
      "[1027]\tvalidation_0-mlogloss:0.762528\n",
      "[1028]\tvalidation_0-mlogloss:0.762512\n",
      "[1029]\tvalidation_0-mlogloss:0.762497\n",
      "[1030]\tvalidation_0-mlogloss:0.762509\n",
      "[1031]\tvalidation_0-mlogloss:0.762511\n",
      "[1032]\tvalidation_0-mlogloss:0.762492\n",
      "[1033]\tvalidation_0-mlogloss:0.762458\n",
      "[1034]\tvalidation_0-mlogloss:0.762475\n",
      "[1035]\tvalidation_0-mlogloss:0.762412\n",
      "[1036]\tvalidation_0-mlogloss:0.762392\n",
      "[1037]\tvalidation_0-mlogloss:0.762399\n",
      "[1038]\tvalidation_0-mlogloss:0.762344\n",
      "[1039]\tvalidation_0-mlogloss:0.762348\n",
      "[1040]\tvalidation_0-mlogloss:0.762284\n",
      "[1041]\tvalidation_0-mlogloss:0.762247\n",
      "[1042]\tvalidation_0-mlogloss:0.762173\n",
      "[1043]\tvalidation_0-mlogloss:0.762161\n",
      "[1044]\tvalidation_0-mlogloss:0.762121\n",
      "[1045]\tvalidation_0-mlogloss:0.762101\n",
      "[1046]\tvalidation_0-mlogloss:0.762112\n",
      "[1047]\tvalidation_0-mlogloss:0.762083\n",
      "[1048]\tvalidation_0-mlogloss:0.762102\n",
      "[1049]\tvalidation_0-mlogloss:0.762099\n",
      "[1050]\tvalidation_0-mlogloss:0.762057\n",
      "[1051]\tvalidation_0-mlogloss:0.761993\n",
      "[1052]\tvalidation_0-mlogloss:0.761902\n",
      "[1053]\tvalidation_0-mlogloss:0.76186\n",
      "[1054]\tvalidation_0-mlogloss:0.761873\n",
      "[1055]\tvalidation_0-mlogloss:0.76184\n",
      "[1056]\tvalidation_0-mlogloss:0.761789\n",
      "[1057]\tvalidation_0-mlogloss:0.761752\n",
      "[1058]\tvalidation_0-mlogloss:0.761756\n",
      "[1059]\tvalidation_0-mlogloss:0.76176\n",
      "[1060]\tvalidation_0-mlogloss:0.76174\n",
      "[1061]\tvalidation_0-mlogloss:0.761742\n",
      "[1062]\tvalidation_0-mlogloss:0.761698\n",
      "[1063]\tvalidation_0-mlogloss:0.761629\n",
      "[1064]\tvalidation_0-mlogloss:0.761621\n",
      "[1065]\tvalidation_0-mlogloss:0.761587\n",
      "[1066]\tvalidation_0-mlogloss:0.761554\n",
      "[1067]\tvalidation_0-mlogloss:0.761547\n",
      "[1068]\tvalidation_0-mlogloss:0.761454\n",
      "[1069]\tvalidation_0-mlogloss:0.761414\n",
      "[1070]\tvalidation_0-mlogloss:0.761416\n",
      "[1071]\tvalidation_0-mlogloss:0.761387\n",
      "[1072]\tvalidation_0-mlogloss:0.761373\n",
      "[1073]\tvalidation_0-mlogloss:0.761352\n",
      "[1074]\tvalidation_0-mlogloss:0.761319\n",
      "[1075]\tvalidation_0-mlogloss:0.761249\n",
      "[1076]\tvalidation_0-mlogloss:0.761265\n",
      "[1077]\tvalidation_0-mlogloss:0.761238\n",
      "[1078]\tvalidation_0-mlogloss:0.761173\n",
      "[1079]\tvalidation_0-mlogloss:0.761122\n",
      "[1080]\tvalidation_0-mlogloss:0.761093\n",
      "[1081]\tvalidation_0-mlogloss:0.761055\n",
      "[1082]\tvalidation_0-mlogloss:0.761015\n",
      "[1083]\tvalidation_0-mlogloss:0.760934\n",
      "[1084]\tvalidation_0-mlogloss:0.760884\n",
      "[1085]\tvalidation_0-mlogloss:0.760813\n",
      "[1086]\tvalidation_0-mlogloss:0.760818\n",
      "[1087]\tvalidation_0-mlogloss:0.760756\n",
      "[1088]\tvalidation_0-mlogloss:0.760745\n",
      "[1089]\tvalidation_0-mlogloss:0.760712\n",
      "[1090]\tvalidation_0-mlogloss:0.760694\n",
      "[1091]\tvalidation_0-mlogloss:0.760682\n",
      "[1092]\tvalidation_0-mlogloss:0.760669\n",
      "[1093]\tvalidation_0-mlogloss:0.760688\n",
      "[1094]\tvalidation_0-mlogloss:0.760688\n",
      "[1095]\tvalidation_0-mlogloss:0.760646\n",
      "[1096]\tvalidation_0-mlogloss:0.760609\n",
      "[1097]\tvalidation_0-mlogloss:0.760637\n",
      "[1098]\tvalidation_0-mlogloss:0.76061\n",
      "[1099]\tvalidation_0-mlogloss:0.76058\n",
      "[1100]\tvalidation_0-mlogloss:0.760554\n",
      "[1101]\tvalidation_0-mlogloss:0.760522\n",
      "[1102]\tvalidation_0-mlogloss:0.760492\n",
      "[1103]\tvalidation_0-mlogloss:0.760506\n",
      "[1104]\tvalidation_0-mlogloss:0.760485\n",
      "[1105]\tvalidation_0-mlogloss:0.760474\n",
      "[1106]\tvalidation_0-mlogloss:0.760478\n",
      "[1107]\tvalidation_0-mlogloss:0.760456\n",
      "[1108]\tvalidation_0-mlogloss:0.760409\n",
      "[1109]\tvalidation_0-mlogloss:0.760423\n",
      "[1110]\tvalidation_0-mlogloss:0.760452\n",
      "[1111]\tvalidation_0-mlogloss:0.7605\n",
      "[1112]\tvalidation_0-mlogloss:0.760508\n"
     ]
    },
    {
     "name": "stdout",
     "output_type": "stream",
     "text": [
      "[1113]\tvalidation_0-mlogloss:0.760486\n",
      "[1114]\tvalidation_0-mlogloss:0.760468\n",
      "[1115]\tvalidation_0-mlogloss:0.76042\n",
      "[1116]\tvalidation_0-mlogloss:0.760415\n",
      "[1117]\tvalidation_0-mlogloss:0.760359\n",
      "[1118]\tvalidation_0-mlogloss:0.760352\n",
      "[1119]\tvalidation_0-mlogloss:0.760343\n",
      "[1120]\tvalidation_0-mlogloss:0.760356\n",
      "[1121]\tvalidation_0-mlogloss:0.760392\n",
      "[1122]\tvalidation_0-mlogloss:0.76039\n",
      "[1123]\tvalidation_0-mlogloss:0.760415\n",
      "[1124]\tvalidation_0-mlogloss:0.76041\n",
      "[1125]\tvalidation_0-mlogloss:0.760398\n",
      "[1126]\tvalidation_0-mlogloss:0.760355\n",
      "[1127]\tvalidation_0-mlogloss:0.760327\n",
      "[1128]\tvalidation_0-mlogloss:0.760298\n",
      "[1129]\tvalidation_0-mlogloss:0.760252\n",
      "[1130]\tvalidation_0-mlogloss:0.760186\n",
      "[1131]\tvalidation_0-mlogloss:0.760108\n",
      "[1132]\tvalidation_0-mlogloss:0.760117\n",
      "[1133]\tvalidation_0-mlogloss:0.760113\n",
      "[1134]\tvalidation_0-mlogloss:0.760068\n",
      "[1135]\tvalidation_0-mlogloss:0.760059\n",
      "[1136]\tvalidation_0-mlogloss:0.76004\n",
      "[1137]\tvalidation_0-mlogloss:0.760021\n",
      "[1138]\tvalidation_0-mlogloss:0.759982\n",
      "[1139]\tvalidation_0-mlogloss:0.759971\n",
      "[1140]\tvalidation_0-mlogloss:0.759946\n",
      "[1141]\tvalidation_0-mlogloss:0.759936\n",
      "[1142]\tvalidation_0-mlogloss:0.759931\n",
      "[1143]\tvalidation_0-mlogloss:0.759891\n",
      "[1144]\tvalidation_0-mlogloss:0.759874\n",
      "[1145]\tvalidation_0-mlogloss:0.759862\n",
      "[1146]\tvalidation_0-mlogloss:0.759848\n",
      "[1147]\tvalidation_0-mlogloss:0.759812\n",
      "[1148]\tvalidation_0-mlogloss:0.759764\n",
      "[1149]\tvalidation_0-mlogloss:0.759717\n",
      "[1150]\tvalidation_0-mlogloss:0.759671\n",
      "[1151]\tvalidation_0-mlogloss:0.759607\n",
      "[1152]\tvalidation_0-mlogloss:0.759556\n",
      "[1153]\tvalidation_0-mlogloss:0.759563\n",
      "[1154]\tvalidation_0-mlogloss:0.759498\n",
      "[1155]\tvalidation_0-mlogloss:0.759471\n",
      "[1156]\tvalidation_0-mlogloss:0.759438\n",
      "[1157]\tvalidation_0-mlogloss:0.759384\n",
      "[1158]\tvalidation_0-mlogloss:0.759341\n",
      "[1159]\tvalidation_0-mlogloss:0.759295\n",
      "[1160]\tvalidation_0-mlogloss:0.759314\n",
      "[1161]\tvalidation_0-mlogloss:0.759259\n",
      "[1162]\tvalidation_0-mlogloss:0.759202\n",
      "[1163]\tvalidation_0-mlogloss:0.75916\n",
      "[1164]\tvalidation_0-mlogloss:0.75911\n",
      "[1165]\tvalidation_0-mlogloss:0.759097\n",
      "[1166]\tvalidation_0-mlogloss:0.759098\n",
      "[1167]\tvalidation_0-mlogloss:0.759091\n",
      "[1168]\tvalidation_0-mlogloss:0.759076\n",
      "[1169]\tvalidation_0-mlogloss:0.75905\n",
      "[1170]\tvalidation_0-mlogloss:0.759037\n",
      "[1171]\tvalidation_0-mlogloss:0.759022\n",
      "[1172]\tvalidation_0-mlogloss:0.759026\n",
      "[1173]\tvalidation_0-mlogloss:0.759024\n",
      "[1174]\tvalidation_0-mlogloss:0.759009\n",
      "[1175]\tvalidation_0-mlogloss:0.758976\n",
      "[1176]\tvalidation_0-mlogloss:0.758954\n",
      "[1177]\tvalidation_0-mlogloss:0.758923\n",
      "[1178]\tvalidation_0-mlogloss:0.758918\n",
      "[1179]\tvalidation_0-mlogloss:0.758891\n",
      "[1180]\tvalidation_0-mlogloss:0.758865\n",
      "[1181]\tvalidation_0-mlogloss:0.758851\n",
      "[1182]\tvalidation_0-mlogloss:0.758818\n",
      "[1183]\tvalidation_0-mlogloss:0.758815\n",
      "[1184]\tvalidation_0-mlogloss:0.758733\n",
      "[1185]\tvalidation_0-mlogloss:0.758755\n",
      "[1186]\tvalidation_0-mlogloss:0.758722\n",
      "[1187]\tvalidation_0-mlogloss:0.75869\n",
      "[1188]\tvalidation_0-mlogloss:0.758663\n",
      "[1189]\tvalidation_0-mlogloss:0.758627\n",
      "[1190]\tvalidation_0-mlogloss:0.758596\n",
      "[1191]\tvalidation_0-mlogloss:0.758577\n",
      "[1192]\tvalidation_0-mlogloss:0.758557\n",
      "[1193]\tvalidation_0-mlogloss:0.758564\n",
      "[1194]\tvalidation_0-mlogloss:0.758556\n",
      "[1195]\tvalidation_0-mlogloss:0.758468\n",
      "[1196]\tvalidation_0-mlogloss:0.758433\n",
      "[1197]\tvalidation_0-mlogloss:0.758449\n",
      "[1198]\tvalidation_0-mlogloss:0.758424\n",
      "[1199]\tvalidation_0-mlogloss:0.758425\n",
      "[1200]\tvalidation_0-mlogloss:0.758399\n",
      "[1201]\tvalidation_0-mlogloss:0.758362\n",
      "[1202]\tvalidation_0-mlogloss:0.758347\n",
      "[1203]\tvalidation_0-mlogloss:0.758333\n",
      "[1204]\tvalidation_0-mlogloss:0.758305\n",
      "[1205]\tvalidation_0-mlogloss:0.758283\n",
      "[1206]\tvalidation_0-mlogloss:0.758183\n",
      "[1207]\tvalidation_0-mlogloss:0.75813\n",
      "[1208]\tvalidation_0-mlogloss:0.758082\n",
      "[1209]\tvalidation_0-mlogloss:0.758058\n",
      "[1210]\tvalidation_0-mlogloss:0.75802\n",
      "[1211]\tvalidation_0-mlogloss:0.758\n",
      "[1212]\tvalidation_0-mlogloss:0.75794\n",
      "[1213]\tvalidation_0-mlogloss:0.757937\n",
      "[1214]\tvalidation_0-mlogloss:0.757933\n",
      "[1215]\tvalidation_0-mlogloss:0.757902\n",
      "[1216]\tvalidation_0-mlogloss:0.7579\n",
      "[1217]\tvalidation_0-mlogloss:0.757866\n",
      "[1218]\tvalidation_0-mlogloss:0.75783\n",
      "[1219]\tvalidation_0-mlogloss:0.75787\n",
      "[1220]\tvalidation_0-mlogloss:0.75789\n",
      "[1221]\tvalidation_0-mlogloss:0.757862\n",
      "[1222]\tvalidation_0-mlogloss:0.757826\n",
      "[1223]\tvalidation_0-mlogloss:0.757809\n",
      "[1224]\tvalidation_0-mlogloss:0.757806\n",
      "[1225]\tvalidation_0-mlogloss:0.757758\n",
      "[1226]\tvalidation_0-mlogloss:0.757676\n",
      "[1227]\tvalidation_0-mlogloss:0.757698\n",
      "[1228]\tvalidation_0-mlogloss:0.757674\n",
      "[1229]\tvalidation_0-mlogloss:0.75763\n",
      "[1230]\tvalidation_0-mlogloss:0.757608\n",
      "[1231]\tvalidation_0-mlogloss:0.757621\n",
      "[1232]\tvalidation_0-mlogloss:0.757671\n",
      "[1233]\tvalidation_0-mlogloss:0.757625\n",
      "[1234]\tvalidation_0-mlogloss:0.75759\n",
      "[1235]\tvalidation_0-mlogloss:0.75753\n",
      "[1236]\tvalidation_0-mlogloss:0.7575\n",
      "[1237]\tvalidation_0-mlogloss:0.757481\n",
      "[1238]\tvalidation_0-mlogloss:0.757466\n",
      "[1239]\tvalidation_0-mlogloss:0.757465\n",
      "[1240]\tvalidation_0-mlogloss:0.757447\n",
      "[1241]\tvalidation_0-mlogloss:0.757432\n",
      "[1242]\tvalidation_0-mlogloss:0.757443\n",
      "[1243]\tvalidation_0-mlogloss:0.757345\n",
      "[1244]\tvalidation_0-mlogloss:0.757315\n",
      "[1245]\tvalidation_0-mlogloss:0.757325\n",
      "[1246]\tvalidation_0-mlogloss:0.757317\n",
      "[1247]\tvalidation_0-mlogloss:0.757332\n",
      "[1248]\tvalidation_0-mlogloss:0.757329\n",
      "[1249]\tvalidation_0-mlogloss:0.757329\n",
      "[1250]\tvalidation_0-mlogloss:0.757313\n",
      "[1251]\tvalidation_0-mlogloss:0.757266\n",
      "[1252]\tvalidation_0-mlogloss:0.757241\n",
      "[1253]\tvalidation_0-mlogloss:0.757214\n",
      "[1254]\tvalidation_0-mlogloss:0.757211\n",
      "[1255]\tvalidation_0-mlogloss:0.757228\n",
      "[1256]\tvalidation_0-mlogloss:0.757204\n",
      "[1257]\tvalidation_0-mlogloss:0.757195\n",
      "[1258]\tvalidation_0-mlogloss:0.757173\n",
      "[1259]\tvalidation_0-mlogloss:0.757187\n",
      "[1260]\tvalidation_0-mlogloss:0.757199\n",
      "[1261]\tvalidation_0-mlogloss:0.757149\n",
      "[1262]\tvalidation_0-mlogloss:0.757159\n",
      "[1263]\tvalidation_0-mlogloss:0.757134\n",
      "[1264]\tvalidation_0-mlogloss:0.757104\n",
      "[1265]\tvalidation_0-mlogloss:0.757129\n",
      "[1266]\tvalidation_0-mlogloss:0.757093\n",
      "[1267]\tvalidation_0-mlogloss:0.75713\n",
      "[1268]\tvalidation_0-mlogloss:0.757089\n",
      "[1269]\tvalidation_0-mlogloss:0.757089\n",
      "[1270]\tvalidation_0-mlogloss:0.757078\n",
      "[1271]\tvalidation_0-mlogloss:0.757072\n",
      "[1272]\tvalidation_0-mlogloss:0.757049\n",
      "[1273]\tvalidation_0-mlogloss:0.756961\n",
      "[1274]\tvalidation_0-mlogloss:0.756995\n",
      "[1275]\tvalidation_0-mlogloss:0.757037\n",
      "[1276]\tvalidation_0-mlogloss:0.757003\n",
      "[1277]\tvalidation_0-mlogloss:0.757003\n",
      "[1278]\tvalidation_0-mlogloss:0.75702\n",
      "[1279]\tvalidation_0-mlogloss:0.757022\n",
      "[1280]\tvalidation_0-mlogloss:0.75697\n",
      "[1281]\tvalidation_0-mlogloss:0.756974\n",
      "[1282]\tvalidation_0-mlogloss:0.756982\n",
      "[1283]\tvalidation_0-mlogloss:0.756977\n",
      "[1284]\tvalidation_0-mlogloss:0.756964\n",
      "[1285]\tvalidation_0-mlogloss:0.756919\n",
      "[1286]\tvalidation_0-mlogloss:0.756855\n",
      "[1287]\tvalidation_0-mlogloss:0.756853\n",
      "[1288]\tvalidation_0-mlogloss:0.756843\n",
      "[1289]\tvalidation_0-mlogloss:0.756813\n",
      "[1290]\tvalidation_0-mlogloss:0.756773\n",
      "[1291]\tvalidation_0-mlogloss:0.756746\n",
      "[1292]\tvalidation_0-mlogloss:0.756733\n",
      "[1293]\tvalidation_0-mlogloss:0.756689\n",
      "[1294]\tvalidation_0-mlogloss:0.756678\n",
      "[1295]\tvalidation_0-mlogloss:0.756676\n",
      "[1296]\tvalidation_0-mlogloss:0.75669\n",
      "[1297]\tvalidation_0-mlogloss:0.756698\n",
      "[1298]\tvalidation_0-mlogloss:0.756712\n",
      "[1299]\tvalidation_0-mlogloss:0.756654\n",
      "[1300]\tvalidation_0-mlogloss:0.756638\n",
      "[1301]\tvalidation_0-mlogloss:0.756633\n",
      "[1302]\tvalidation_0-mlogloss:0.756617\n",
      "[1303]\tvalidation_0-mlogloss:0.756584\n",
      "[1304]\tvalidation_0-mlogloss:0.756552\n",
      "[1305]\tvalidation_0-mlogloss:0.756526\n",
      "[1306]\tvalidation_0-mlogloss:0.756533\n",
      "[1307]\tvalidation_0-mlogloss:0.756455\n",
      "[1308]\tvalidation_0-mlogloss:0.756442\n",
      "[1309]\tvalidation_0-mlogloss:0.756424\n",
      "[1310]\tvalidation_0-mlogloss:0.756381\n",
      "[1311]\tvalidation_0-mlogloss:0.756412\n",
      "[1312]\tvalidation_0-mlogloss:0.756419\n",
      "[1313]\tvalidation_0-mlogloss:0.756406\n",
      "[1314]\tvalidation_0-mlogloss:0.756388\n",
      "[1315]\tvalidation_0-mlogloss:0.756395\n",
      "[1316]\tvalidation_0-mlogloss:0.756384\n",
      "[1317]\tvalidation_0-mlogloss:0.756323\n",
      "[1318]\tvalidation_0-mlogloss:0.756314\n",
      "[1319]\tvalidation_0-mlogloss:0.7563\n",
      "[1320]\tvalidation_0-mlogloss:0.756333\n",
      "[1321]\tvalidation_0-mlogloss:0.756368\n",
      "[1322]\tvalidation_0-mlogloss:0.756369\n",
      "[1323]\tvalidation_0-mlogloss:0.756325\n",
      "[1324]\tvalidation_0-mlogloss:0.756346\n",
      "[1325]\tvalidation_0-mlogloss:0.756345\n",
      "[1326]\tvalidation_0-mlogloss:0.756336\n",
      "[1327]\tvalidation_0-mlogloss:0.756322\n",
      "[1328]\tvalidation_0-mlogloss:0.756357\n",
      "[1329]\tvalidation_0-mlogloss:0.756332\n"
     ]
    },
    {
     "name": "stdout",
     "output_type": "stream",
     "text": [
      "[1330]\tvalidation_0-mlogloss:0.756306\n",
      "[1331]\tvalidation_0-mlogloss:0.756266\n",
      "[1332]\tvalidation_0-mlogloss:0.756252\n",
      "[1333]\tvalidation_0-mlogloss:0.756249\n",
      "[1334]\tvalidation_0-mlogloss:0.756239\n",
      "[1335]\tvalidation_0-mlogloss:0.756228\n",
      "[1336]\tvalidation_0-mlogloss:0.756208\n",
      "[1337]\tvalidation_0-mlogloss:0.75617\n",
      "[1338]\tvalidation_0-mlogloss:0.756161\n",
      "[1339]\tvalidation_0-mlogloss:0.756186\n",
      "[1340]\tvalidation_0-mlogloss:0.756171\n",
      "[1341]\tvalidation_0-mlogloss:0.756149\n",
      "[1342]\tvalidation_0-mlogloss:0.756115\n",
      "[1343]\tvalidation_0-mlogloss:0.756109\n",
      "[1344]\tvalidation_0-mlogloss:0.756126\n",
      "[1345]\tvalidation_0-mlogloss:0.756047\n",
      "[1346]\tvalidation_0-mlogloss:0.756025\n",
      "[1347]\tvalidation_0-mlogloss:0.756012\n",
      "[1348]\tvalidation_0-mlogloss:0.756\n",
      "[1349]\tvalidation_0-mlogloss:0.755955\n",
      "[1350]\tvalidation_0-mlogloss:0.755944\n",
      "[1351]\tvalidation_0-mlogloss:0.755943\n",
      "[1352]\tvalidation_0-mlogloss:0.755895\n",
      "[1353]\tvalidation_0-mlogloss:0.755856\n",
      "[1354]\tvalidation_0-mlogloss:0.755856\n",
      "[1355]\tvalidation_0-mlogloss:0.75587\n",
      "[1356]\tvalidation_0-mlogloss:0.755858\n",
      "[1357]\tvalidation_0-mlogloss:0.755814\n",
      "[1358]\tvalidation_0-mlogloss:0.755829\n",
      "[1359]\tvalidation_0-mlogloss:0.755763\n",
      "[1360]\tvalidation_0-mlogloss:0.755824\n",
      "[1361]\tvalidation_0-mlogloss:0.755836\n",
      "[1362]\tvalidation_0-mlogloss:0.755827\n",
      "[1363]\tvalidation_0-mlogloss:0.755775\n",
      "[1364]\tvalidation_0-mlogloss:0.755779\n",
      "[1365]\tvalidation_0-mlogloss:0.755714\n",
      "[1366]\tvalidation_0-mlogloss:0.755682\n",
      "[1367]\tvalidation_0-mlogloss:0.755682\n",
      "[1368]\tvalidation_0-mlogloss:0.755679\n",
      "[1369]\tvalidation_0-mlogloss:0.755724\n",
      "[1370]\tvalidation_0-mlogloss:0.755718\n",
      "[1371]\tvalidation_0-mlogloss:0.755694\n",
      "[1372]\tvalidation_0-mlogloss:0.755684\n",
      "[1373]\tvalidation_0-mlogloss:0.755643\n",
      "[1374]\tvalidation_0-mlogloss:0.755629\n",
      "[1375]\tvalidation_0-mlogloss:0.755583\n",
      "[1376]\tvalidation_0-mlogloss:0.755592\n",
      "[1377]\tvalidation_0-mlogloss:0.755571\n",
      "[1378]\tvalidation_0-mlogloss:0.755577\n",
      "[1379]\tvalidation_0-mlogloss:0.755606\n",
      "[1380]\tvalidation_0-mlogloss:0.755635\n",
      "[1381]\tvalidation_0-mlogloss:0.755629\n",
      "[1382]\tvalidation_0-mlogloss:0.755658\n",
      "[1383]\tvalidation_0-mlogloss:0.755622\n",
      "[1384]\tvalidation_0-mlogloss:0.755569\n",
      "[1385]\tvalidation_0-mlogloss:0.755576\n",
      "[1386]\tvalidation_0-mlogloss:0.75559\n",
      "[1387]\tvalidation_0-mlogloss:0.755586\n",
      "[1388]\tvalidation_0-mlogloss:0.755554\n",
      "[1389]\tvalidation_0-mlogloss:0.755578\n",
      "[1390]\tvalidation_0-mlogloss:0.755527\n",
      "[1391]\tvalidation_0-mlogloss:0.755521\n",
      "[1392]\tvalidation_0-mlogloss:0.755541\n",
      "[1393]\tvalidation_0-mlogloss:0.755492\n",
      "[1394]\tvalidation_0-mlogloss:0.755475\n",
      "[1395]\tvalidation_0-mlogloss:0.75547\n",
      "[1396]\tvalidation_0-mlogloss:0.755431\n",
      "[1397]\tvalidation_0-mlogloss:0.75538\n",
      "[1398]\tvalidation_0-mlogloss:0.755386\n",
      "[1399]\tvalidation_0-mlogloss:0.755358\n",
      "[1400]\tvalidation_0-mlogloss:0.755308\n",
      "[1401]\tvalidation_0-mlogloss:0.755261\n",
      "[1402]\tvalidation_0-mlogloss:0.755266\n",
      "[1403]\tvalidation_0-mlogloss:0.755244\n",
      "[1404]\tvalidation_0-mlogloss:0.75526\n",
      "[1405]\tvalidation_0-mlogloss:0.755264\n",
      "[1406]\tvalidation_0-mlogloss:0.755252\n",
      "[1407]\tvalidation_0-mlogloss:0.755246\n",
      "[1408]\tvalidation_0-mlogloss:0.755207\n",
      "[1409]\tvalidation_0-mlogloss:0.755285\n",
      "[1410]\tvalidation_0-mlogloss:0.755269\n",
      "[1411]\tvalidation_0-mlogloss:0.755305\n",
      "[1412]\tvalidation_0-mlogloss:0.755305\n",
      "[1413]\tvalidation_0-mlogloss:0.75532\n",
      "[1414]\tvalidation_0-mlogloss:0.755289\n",
      "[1415]\tvalidation_0-mlogloss:0.75531\n",
      "[1416]\tvalidation_0-mlogloss:0.755271\n",
      "[1417]\tvalidation_0-mlogloss:0.755229\n",
      "[1418]\tvalidation_0-mlogloss:0.75521\n",
      "[1419]\tvalidation_0-mlogloss:0.755186\n",
      "[1420]\tvalidation_0-mlogloss:0.755163\n",
      "[1421]\tvalidation_0-mlogloss:0.755165\n",
      "[1422]\tvalidation_0-mlogloss:0.755125\n",
      "[1423]\tvalidation_0-mlogloss:0.755106\n",
      "[1424]\tvalidation_0-mlogloss:0.755082\n",
      "[1425]\tvalidation_0-mlogloss:0.755027\n",
      "[1426]\tvalidation_0-mlogloss:0.754993\n",
      "[1427]\tvalidation_0-mlogloss:0.754982\n",
      "[1428]\tvalidation_0-mlogloss:0.754945\n",
      "[1429]\tvalidation_0-mlogloss:0.754895\n",
      "[1430]\tvalidation_0-mlogloss:0.7549\n",
      "[1431]\tvalidation_0-mlogloss:0.754943\n",
      "[1432]\tvalidation_0-mlogloss:0.754921\n",
      "[1433]\tvalidation_0-mlogloss:0.754864\n",
      "[1434]\tvalidation_0-mlogloss:0.754906\n",
      "[1435]\tvalidation_0-mlogloss:0.754908\n",
      "[1436]\tvalidation_0-mlogloss:0.754879\n",
      "[1437]\tvalidation_0-mlogloss:0.7549\n",
      "[1438]\tvalidation_0-mlogloss:0.754903\n",
      "[1439]\tvalidation_0-mlogloss:0.754878\n",
      "[1440]\tvalidation_0-mlogloss:0.754844\n",
      "[1441]\tvalidation_0-mlogloss:0.754849\n",
      "[1442]\tvalidation_0-mlogloss:0.754831\n",
      "[1443]\tvalidation_0-mlogloss:0.754838\n",
      "[1444]\tvalidation_0-mlogloss:0.754834\n",
      "[1445]\tvalidation_0-mlogloss:0.754818\n",
      "[1446]\tvalidation_0-mlogloss:0.754797\n",
      "[1447]\tvalidation_0-mlogloss:0.754783\n",
      "[1448]\tvalidation_0-mlogloss:0.754709\n",
      "[1449]\tvalidation_0-mlogloss:0.754726\n",
      "[1450]\tvalidation_0-mlogloss:0.754704\n",
      "[1451]\tvalidation_0-mlogloss:0.75468\n",
      "[1452]\tvalidation_0-mlogloss:0.754654\n",
      "[1453]\tvalidation_0-mlogloss:0.75467\n",
      "[1454]\tvalidation_0-mlogloss:0.754649\n",
      "[1455]\tvalidation_0-mlogloss:0.754651\n",
      "[1456]\tvalidation_0-mlogloss:0.754661\n",
      "[1457]\tvalidation_0-mlogloss:0.754661\n",
      "[1458]\tvalidation_0-mlogloss:0.754638\n",
      "[1459]\tvalidation_0-mlogloss:0.754662\n",
      "[1460]\tvalidation_0-mlogloss:0.754638\n",
      "[1461]\tvalidation_0-mlogloss:0.754626\n",
      "[1462]\tvalidation_0-mlogloss:0.754631\n",
      "[1463]\tvalidation_0-mlogloss:0.754604\n",
      "[1464]\tvalidation_0-mlogloss:0.754617\n",
      "[1465]\tvalidation_0-mlogloss:0.75461\n",
      "[1466]\tvalidation_0-mlogloss:0.754615\n",
      "[1467]\tvalidation_0-mlogloss:0.754614\n",
      "[1468]\tvalidation_0-mlogloss:0.754611\n",
      "[1469]\tvalidation_0-mlogloss:0.754615\n",
      "[1470]\tvalidation_0-mlogloss:0.754563\n",
      "[1471]\tvalidation_0-mlogloss:0.754563\n",
      "[1472]\tvalidation_0-mlogloss:0.754566\n",
      "[1473]\tvalidation_0-mlogloss:0.754495\n",
      "[1474]\tvalidation_0-mlogloss:0.754497\n",
      "[1475]\tvalidation_0-mlogloss:0.754495\n",
      "[1476]\tvalidation_0-mlogloss:0.754462\n",
      "[1477]\tvalidation_0-mlogloss:0.754459\n",
      "[1478]\tvalidation_0-mlogloss:0.754425\n",
      "[1479]\tvalidation_0-mlogloss:0.754425\n",
      "[1480]\tvalidation_0-mlogloss:0.754435\n",
      "[1481]\tvalidation_0-mlogloss:0.754457\n",
      "[1482]\tvalidation_0-mlogloss:0.754435\n",
      "[1483]\tvalidation_0-mlogloss:0.754423\n",
      "[1484]\tvalidation_0-mlogloss:0.754419\n",
      "[1485]\tvalidation_0-mlogloss:0.754421\n",
      "[1486]\tvalidation_0-mlogloss:0.754432\n",
      "[1487]\tvalidation_0-mlogloss:0.754417\n",
      "[1488]\tvalidation_0-mlogloss:0.754449\n",
      "[1489]\tvalidation_0-mlogloss:0.754454\n",
      "[1490]\tvalidation_0-mlogloss:0.754428\n",
      "[1491]\tvalidation_0-mlogloss:0.754428\n",
      "[1492]\tvalidation_0-mlogloss:0.754448\n",
      "[1493]\tvalidation_0-mlogloss:0.754413\n",
      "[1494]\tvalidation_0-mlogloss:0.75443\n",
      "[1495]\tvalidation_0-mlogloss:0.754382\n",
      "[1496]\tvalidation_0-mlogloss:0.754369\n",
      "[1497]\tvalidation_0-mlogloss:0.754383\n",
      "[1498]\tvalidation_0-mlogloss:0.754396\n",
      "[1499]\tvalidation_0-mlogloss:0.7544\n"
     ]
    },
    {
     "data": {
      "text/plain": [
       "XGBClassifier(base_score=0.5, colsample_bylevel=1, colsample_bytree=0.8,\n",
       "       gamma=0, learning_rate=0.01, max_delta_step=0, max_depth=10,\n",
       "       min_child_weight=9, missing=None, n_estimators=1500, nthread=8,\n",
       "       objective='multi:softprob', reg_alpha=0, reg_lambda=1,\n",
       "       scale_pos_weight=1, seed=4242, silent=True, subsample=0.8)"
      ]
     },
     "execution_count": 22,
     "metadata": {},
     "output_type": "execute_result"
    }
   ],
   "source": [
    "clf = xgb.XGBClassifier(max_depth=10, n_estimators=1500,min_child_weight=9,learning_rate=0.01,\n",
    "                       nthread=8, subsample=0.80,colsample_bytree=0.80,seed=4242)\n",
    "\n",
    "#learning rate .05 => 0.98 vgg\n",
    "#learning rate .005 => 0.96 vgg\n",
    "#resnet: 0.81,0.8, 0.01=>0.79,.78 preprocessed-0.87LB\n",
    "clf.fit(trn , y,eval_set=[(val, y_val)], eval_metric='mlogloss', verbose=True, early_stopping_rounds=50)\n",
    "#, eval_set=[(val_x, val_y)]"
   ]
  },
  {
   "cell_type": "code",
   "execution_count": 275,
   "metadata": {
    "scrolled": false
   },
   "outputs": [
    {
     "data": {
      "text/plain": [
       "0.5243243243243243"
      ]
     },
     "execution_count": 275,
     "metadata": {},
     "output_type": "execute_result"
    }
   ],
   "source": [
    "sum(clf.predict(val)==y_val)/len(y_val)"
   ]
  },
  {
   "cell_type": "code",
   "execution_count": 276,
   "metadata": {
    "collapsed": true
   },
   "outputs": [],
   "source": [
    "from sklearn.metrics import log_loss"
   ]
  },
  {
   "cell_type": "code",
   "execution_count": 292,
   "metadata": {
    "collapsed": true
   },
   "outputs": [],
   "source": [
    "y_pred=clf.predict_proba(val)"
   ]
  },
  {
   "cell_type": "code",
   "execution_count": 285,
   "metadata": {},
   "outputs": [
    {
     "data": {
      "text/plain": [
       "(array([1, 2, 3]), array([1, 2, 3]))"
      ]
     },
     "execution_count": 285,
     "metadata": {},
     "output_type": "execute_result"
    }
   ],
   "source": [
    "np.unique(y_pred),np.unique(y_val)"
   ]
  },
  {
   "cell_type": "code",
   "execution_count": 293,
   "metadata": {
    "scrolled": false
   },
   "outputs": [
    {
     "data": {
      "text/plain": [
       "0.98047145327200758"
      ]
     },
     "execution_count": 293,
     "metadata": {},
     "output_type": "execute_result"
    }
   ],
   "source": [
    "log_loss(y_val,y_pred)"
   ]
  },
  {
   "cell_type": "markdown",
   "metadata": {},
   "source": [
    "## submission"
   ]
  },
  {
   "cell_type": "markdown",
   "metadata": {},
   "source": [
    "#### fine tuned section"
   ]
  },
  {
   "cell_type": "code",
   "execution_count": 97,
   "metadata": {
    "collapsed": true
   },
   "outputs": [
    {
     "ename": "KeyboardInterrupt",
     "evalue": "",
     "output_type": "error",
     "traceback": [
      "\u001b[0;31m---------------------------------------------------------------------------\u001b[0m",
      "\u001b[0;31mKeyboardInterrupt\u001b[0m                         Traceback (most recent call last)",
      "\u001b[0;32m<ipython-input-97-58ee7ffd40b1>\u001b[0m in \u001b[0;36m<module>\u001b[0;34m()\u001b[0m\n\u001b[1;32m      1\u001b[0m \u001b[0;31m#fine tuned vgg\u001b[0m\u001b[0;34m\u001b[0m\u001b[0;34m\u001b[0m\u001b[0m\n\u001b[0;32m----> 2\u001b[0;31m \u001b[0mtest_pre_preds\u001b[0m\u001b[0;34m=\u001b[0m\u001b[0mconv_model\u001b[0m\u001b[0;34m.\u001b[0m\u001b[0mpredict\u001b[0m\u001b[0;34m(\u001b[0m\u001b[0mtest_imgs_processed\u001b[0m\u001b[0;34m)\u001b[0m\u001b[0;34m\u001b[0m\u001b[0m\n\u001b[0m",
      "\u001b[0;32m/home/ubuntu/anaconda3/lib/python3.6/site-packages/keras/models.py\u001b[0m in \u001b[0;36mpredict\u001b[0;34m(self, x, batch_size, verbose)\u001b[0m\n\u001b[1;32m    722\u001b[0m         \u001b[0;32mif\u001b[0m \u001b[0mself\u001b[0m\u001b[0;34m.\u001b[0m\u001b[0mmodel\u001b[0m \u001b[0;32mis\u001b[0m \u001b[0;32mNone\u001b[0m\u001b[0;34m:\u001b[0m\u001b[0;34m\u001b[0m\u001b[0m\n\u001b[1;32m    723\u001b[0m             \u001b[0mself\u001b[0m\u001b[0;34m.\u001b[0m\u001b[0mbuild\u001b[0m\u001b[0;34m(\u001b[0m\u001b[0;34m)\u001b[0m\u001b[0;34m\u001b[0m\u001b[0m\n\u001b[0;32m--> 724\u001b[0;31m         \u001b[0;32mreturn\u001b[0m \u001b[0mself\u001b[0m\u001b[0;34m.\u001b[0m\u001b[0mmodel\u001b[0m\u001b[0;34m.\u001b[0m\u001b[0mpredict\u001b[0m\u001b[0;34m(\u001b[0m\u001b[0mx\u001b[0m\u001b[0;34m,\u001b[0m \u001b[0mbatch_size\u001b[0m\u001b[0;34m=\u001b[0m\u001b[0mbatch_size\u001b[0m\u001b[0;34m,\u001b[0m \u001b[0mverbose\u001b[0m\u001b[0;34m=\u001b[0m\u001b[0mverbose\u001b[0m\u001b[0;34m)\u001b[0m\u001b[0;34m\u001b[0m\u001b[0m\n\u001b[0m\u001b[1;32m    725\u001b[0m \u001b[0;34m\u001b[0m\u001b[0m\n\u001b[1;32m    726\u001b[0m     \u001b[0;32mdef\u001b[0m \u001b[0mpredict_on_batch\u001b[0m\u001b[0;34m(\u001b[0m\u001b[0mself\u001b[0m\u001b[0;34m,\u001b[0m \u001b[0mx\u001b[0m\u001b[0;34m)\u001b[0m\u001b[0;34m:\u001b[0m\u001b[0;34m\u001b[0m\u001b[0m\n",
      "\u001b[0;32m/home/ubuntu/anaconda3/lib/python3.6/site-packages/keras/engine/training.py\u001b[0m in \u001b[0;36mpredict\u001b[0;34m(self, x, batch_size, verbose)\u001b[0m\n\u001b[1;32m   1270\u001b[0m         \u001b[0mf\u001b[0m \u001b[0;34m=\u001b[0m \u001b[0mself\u001b[0m\u001b[0;34m.\u001b[0m\u001b[0mpredict_function\u001b[0m\u001b[0;34m\u001b[0m\u001b[0m\n\u001b[1;32m   1271\u001b[0m         return self._predict_loop(f, ins,\n\u001b[0;32m-> 1272\u001b[0;31m                                   batch_size=batch_size, verbose=verbose)\n\u001b[0m\u001b[1;32m   1273\u001b[0m \u001b[0;34m\u001b[0m\u001b[0m\n\u001b[1;32m   1274\u001b[0m     def train_on_batch(self, x, y,\n",
      "\u001b[0;32m/home/ubuntu/anaconda3/lib/python3.6/site-packages/keras/engine/training.py\u001b[0m in \u001b[0;36m_predict_loop\u001b[0;34m(self, f, ins, batch_size, verbose)\u001b[0m\n\u001b[1;32m    941\u001b[0m                 \u001b[0mins_batch\u001b[0m \u001b[0;34m=\u001b[0m \u001b[0mslice_X\u001b[0m\u001b[0;34m(\u001b[0m\u001b[0mins\u001b[0m\u001b[0;34m[\u001b[0m\u001b[0;34m:\u001b[0m\u001b[0;34m-\u001b[0m\u001b[0;36m1\u001b[0m\u001b[0;34m]\u001b[0m\u001b[0;34m,\u001b[0m \u001b[0mbatch_ids\u001b[0m\u001b[0;34m)\u001b[0m \u001b[0;34m+\u001b[0m \u001b[0;34m[\u001b[0m\u001b[0mins\u001b[0m\u001b[0;34m[\u001b[0m\u001b[0;34m-\u001b[0m\u001b[0;36m1\u001b[0m\u001b[0;34m]\u001b[0m\u001b[0;34m]\u001b[0m\u001b[0;34m\u001b[0m\u001b[0m\n\u001b[1;32m    942\u001b[0m             \u001b[0;32melse\u001b[0m\u001b[0;34m:\u001b[0m\u001b[0;34m\u001b[0m\u001b[0m\n\u001b[0;32m--> 943\u001b[0;31m                 \u001b[0mins_batch\u001b[0m \u001b[0;34m=\u001b[0m \u001b[0mslice_X\u001b[0m\u001b[0;34m(\u001b[0m\u001b[0mins\u001b[0m\u001b[0;34m,\u001b[0m \u001b[0mbatch_ids\u001b[0m\u001b[0;34m)\u001b[0m\u001b[0;34m\u001b[0m\u001b[0m\n\u001b[0m\u001b[1;32m    944\u001b[0m \u001b[0;34m\u001b[0m\u001b[0m\n\u001b[1;32m    945\u001b[0m             \u001b[0mbatch_outs\u001b[0m \u001b[0;34m=\u001b[0m \u001b[0mf\u001b[0m\u001b[0;34m(\u001b[0m\u001b[0mins_batch\u001b[0m\u001b[0;34m)\u001b[0m\u001b[0;34m\u001b[0m\u001b[0m\n",
      "\u001b[0;32m/home/ubuntu/anaconda3/lib/python3.6/site-packages/keras/engine/training.py\u001b[0m in \u001b[0;36mslice_X\u001b[0;34m(X, start, stop)\u001b[0m\n\u001b[1;32m    297\u001b[0m             \u001b[0;32mif\u001b[0m \u001b[0mhasattr\u001b[0m\u001b[0;34m(\u001b[0m\u001b[0mstart\u001b[0m\u001b[0;34m,\u001b[0m \u001b[0;34m'shape'\u001b[0m\u001b[0;34m)\u001b[0m\u001b[0;34m:\u001b[0m\u001b[0;34m\u001b[0m\u001b[0m\n\u001b[1;32m    298\u001b[0m                 \u001b[0mstart\u001b[0m \u001b[0;34m=\u001b[0m \u001b[0mstart\u001b[0m\u001b[0;34m.\u001b[0m\u001b[0mtolist\u001b[0m\u001b[0;34m(\u001b[0m\u001b[0;34m)\u001b[0m\u001b[0;34m\u001b[0m\u001b[0m\n\u001b[0;32m--> 299\u001b[0;31m             \u001b[0;32mreturn\u001b[0m \u001b[0;34m[\u001b[0m\u001b[0mx\u001b[0m\u001b[0;34m[\u001b[0m\u001b[0mstart\u001b[0m\u001b[0;34m]\u001b[0m \u001b[0;32mfor\u001b[0m \u001b[0mx\u001b[0m \u001b[0;32min\u001b[0m \u001b[0mX\u001b[0m\u001b[0;34m]\u001b[0m\u001b[0;34m\u001b[0m\u001b[0m\n\u001b[0m\u001b[1;32m    300\u001b[0m         \u001b[0;32melse\u001b[0m\u001b[0;34m:\u001b[0m\u001b[0;34m\u001b[0m\u001b[0m\n\u001b[1;32m    301\u001b[0m             \u001b[0;32mreturn\u001b[0m \u001b[0;34m[\u001b[0m\u001b[0mx\u001b[0m\u001b[0;34m[\u001b[0m\u001b[0mstart\u001b[0m\u001b[0;34m:\u001b[0m\u001b[0mstop\u001b[0m\u001b[0;34m]\u001b[0m \u001b[0;32mfor\u001b[0m \u001b[0mx\u001b[0m \u001b[0;32min\u001b[0m \u001b[0mX\u001b[0m\u001b[0;34m]\u001b[0m\u001b[0;34m\u001b[0m\u001b[0m\n",
      "\u001b[0;32m/home/ubuntu/anaconda3/lib/python3.6/site-packages/keras/engine/training.py\u001b[0m in \u001b[0;36m<listcomp>\u001b[0;34m(.0)\u001b[0m\n\u001b[1;32m    297\u001b[0m             \u001b[0;32mif\u001b[0m \u001b[0mhasattr\u001b[0m\u001b[0;34m(\u001b[0m\u001b[0mstart\u001b[0m\u001b[0;34m,\u001b[0m \u001b[0;34m'shape'\u001b[0m\u001b[0;34m)\u001b[0m\u001b[0;34m:\u001b[0m\u001b[0;34m\u001b[0m\u001b[0m\n\u001b[1;32m    298\u001b[0m                 \u001b[0mstart\u001b[0m \u001b[0;34m=\u001b[0m \u001b[0mstart\u001b[0m\u001b[0;34m.\u001b[0m\u001b[0mtolist\u001b[0m\u001b[0;34m(\u001b[0m\u001b[0;34m)\u001b[0m\u001b[0;34m\u001b[0m\u001b[0m\n\u001b[0;32m--> 299\u001b[0;31m             \u001b[0;32mreturn\u001b[0m \u001b[0;34m[\u001b[0m\u001b[0mx\u001b[0m\u001b[0;34m[\u001b[0m\u001b[0mstart\u001b[0m\u001b[0;34m]\u001b[0m \u001b[0;32mfor\u001b[0m \u001b[0mx\u001b[0m \u001b[0;32min\u001b[0m \u001b[0mX\u001b[0m\u001b[0;34m]\u001b[0m\u001b[0;34m\u001b[0m\u001b[0m\n\u001b[0m\u001b[1;32m    300\u001b[0m         \u001b[0;32melse\u001b[0m\u001b[0;34m:\u001b[0m\u001b[0;34m\u001b[0m\u001b[0m\n\u001b[1;32m    301\u001b[0m             \u001b[0;32mreturn\u001b[0m \u001b[0;34m[\u001b[0m\u001b[0mx\u001b[0m\u001b[0;34m[\u001b[0m\u001b[0mstart\u001b[0m\u001b[0;34m:\u001b[0m\u001b[0mstop\u001b[0m\u001b[0;34m]\u001b[0m \u001b[0;32mfor\u001b[0m \u001b[0mx\u001b[0m \u001b[0;32min\u001b[0m \u001b[0mX\u001b[0m\u001b[0;34m]\u001b[0m\u001b[0;34m\u001b[0m\u001b[0m\n",
      "\u001b[0;31mKeyboardInterrupt\u001b[0m: "
     ]
    }
   ],
   "source": [
    "#fine tuned vgg\n",
    "test_pre_preds=conv_model.predict(test_imgs)"
   ]
  },
  {
   "cell_type": "code",
   "execution_count": 40,
   "metadata": {
    "collapsed": true
   },
   "outputs": [],
   "source": [
    "sub_preds=model1.predict(test_pre_preds)"
   ]
  },
  {
   "cell_type": "markdown",
   "metadata": {},
   "source": [
    " #### resnet/vgg + xgboost"
   ]
  },
  {
   "cell_type": "code",
   "execution_count": 27,
   "metadata": {
    "collapsed": true,
    "scrolled": true
   },
   "outputs": [],
   "source": [
    "test_preds=resnet.predict(test_imgs_processed)"
   ]
  },
  {
   "cell_type": "code",
   "execution_count": 28,
   "metadata": {
    "collapsed": true
   },
   "outputs": [],
   "source": [
    "sub_preds=clf.predict_proba(test_preds)"
   ]
  },
  {
   "cell_type": "code",
   "execution_count": 50,
   "metadata": {
    "collapsed": true
   },
   "outputs": [],
   "source": [
    "new_preds_1 = do_clip(sub_preds,0.99) #82->.89\n",
    "                                      #94->872  \n",
    "                                     #97->871  \n",
    "                                    #99->869,best  "
   ]
  },
  {
   "cell_type": "code",
   "execution_count": 51,
   "metadata": {
    "collapsed": true
   },
   "outputs": [],
   "source": [
    "classes = ['Type_1','Type_2','Type_3']\n",
    "submission = pd.DataFrame(new_preds_1, columns=classes)"
   ]
  },
  {
   "cell_type": "code",
   "execution_count": 52,
   "metadata": {
    "collapsed": true
   },
   "outputs": [],
   "source": [
    "submission.insert(0,'image_name', test_ids)"
   ]
  },
  {
   "cell_type": "code",
   "execution_count": 53,
   "metadata": {
    "scrolled": false
   },
   "outputs": [
    {
     "data": {
      "text/html": [
       "<div>\n",
       "<table border=\"1\" class=\"dataframe\">\n",
       "  <thead>\n",
       "    <tr style=\"text-align: right;\">\n",
       "      <th></th>\n",
       "      <th>image_name</th>\n",
       "      <th>Type_1</th>\n",
       "      <th>Type_2</th>\n",
       "      <th>Type_3</th>\n",
       "    </tr>\n",
       "  </thead>\n",
       "  <tbody>\n",
       "    <tr>\n",
       "      <th>0</th>\n",
       "      <td>488.jpg</td>\n",
       "      <td>0.044566</td>\n",
       "      <td>0.772516</td>\n",
       "      <td>0.182918</td>\n",
       "    </tr>\n",
       "    <tr>\n",
       "      <th>1</th>\n",
       "      <td>389.jpg</td>\n",
       "      <td>0.037793</td>\n",
       "      <td>0.940537</td>\n",
       "      <td>0.021670</td>\n",
       "    </tr>\n",
       "    <tr>\n",
       "      <th>2</th>\n",
       "      <td>4.jpg</td>\n",
       "      <td>0.023605</td>\n",
       "      <td>0.269202</td>\n",
       "      <td>0.707192</td>\n",
       "    </tr>\n",
       "    <tr>\n",
       "      <th>3</th>\n",
       "      <td>166.jpg</td>\n",
       "      <td>0.162947</td>\n",
       "      <td>0.266766</td>\n",
       "      <td>0.570288</td>\n",
       "    </tr>\n",
       "    <tr>\n",
       "      <th>4</th>\n",
       "      <td>290.jpg</td>\n",
       "      <td>0.139639</td>\n",
       "      <td>0.713997</td>\n",
       "      <td>0.146364</td>\n",
       "    </tr>\n",
       "  </tbody>\n",
       "</table>\n",
       "</div>"
      ],
      "text/plain": [
       "  image_name    Type_1    Type_2    Type_3\n",
       "0    488.jpg  0.044566  0.772516  0.182918\n",
       "1    389.jpg  0.037793  0.940537  0.021670\n",
       "2      4.jpg  0.023605  0.269202  0.707192\n",
       "3    166.jpg  0.162947  0.266766  0.570288\n",
       "4    290.jpg  0.139639  0.713997  0.146364"
      ]
     },
     "execution_count": 53,
     "metadata": {},
     "output_type": "execute_result"
    }
   ],
   "source": [
    "submission.head()#,len(submission)"
   ]
  },
  {
   "cell_type": "code",
   "execution_count": 54,
   "metadata": {
    "scrolled": true
   },
   "outputs": [
    {
     "data": {
      "text/plain": [
       "512"
      ]
     },
     "execution_count": 54,
     "metadata": {},
     "output_type": "execute_result"
    }
   ],
   "source": [
    "len(submission)"
   ]
  },
  {
   "cell_type": "code",
   "execution_count": 55,
   "metadata": {
    "collapsed": true,
    "scrolled": true
   },
   "outputs": [],
   "source": [
    "submission.to_csv('res_clipped_cerv_sub', index=False)"
   ]
  },
  {
   "cell_type": "code",
   "execution_count": 49,
   "metadata": {},
   "outputs": [
    {
     "name": "stdout",
     "output_type": "stream",
     "text": [
      "/mnt/kaggle_crevical\n"
     ]
    }
   ],
   "source": [
    "cd ."
   ]
  }
 ],
 "metadata": {
  "kernelspec": {
   "display_name": "Python 3",
   "language": "python",
   "name": "python3"
  },
  "language_info": {
   "codemirror_mode": {
    "name": "ipython",
    "version": 3
   },
   "file_extension": ".py",
   "mimetype": "text/x-python",
   "name": "python",
   "nbconvert_exporter": "python",
   "pygments_lexer": "ipython3",
   "version": "3.6.0"
  }
 },
 "nbformat": 4,
 "nbformat_minor": 2
}
