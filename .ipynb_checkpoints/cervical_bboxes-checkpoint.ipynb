{
 "cells": [
  {
   "cell_type": "code",
   "execution_count": 1,
   "metadata": {
    "collapsed": true
   },
   "outputs": [],
   "source": [
    "#from here https://www.kaggle.com/c/intel-mobileodt-cervical-cancer-screening/discussion/31565\n",
    "import cervical_utils"
   ]
  },
  {
   "cell_type": "code",
   "execution_count": 4,
   "metadata": {},
   "outputs": [
    {
     "name": "stdout",
     "output_type": "stream",
     "text": [
      "/mnt/kaggle_crevical\n"
     ]
    }
   ],
   "source": [
    "cd /mnt/kaggle_crevical/"
   ]
  },
  {
   "cell_type": "code",
   "execution_count": 5,
   "metadata": {},
   "outputs": [
    {
     "name": "stdout",
     "output_type": "stream",
     "text": [
      "\u001b[0m\u001b[01;31mBach10.zip\u001b[0m                \u001b[01;31madditional_Type_3_v2.7z\u001b[0m  \u001b[01;34mresults\u001b[0m/\r\n",
      "\u001b[01;34mType_1\u001b[0m/                   first_cerv_sub           sample_submission.csv\r\n",
      "Type_1_bbox.tsv           fixed_labels_v2.csv      \u001b[01;34mshrunk_files\u001b[0m/\r\n",
      "\u001b[01;34mType_2\u001b[0m/                   rectangles_1.csv         \u001b[01;34mtest\u001b[0m/\r\n",
      "Type_2_bboxes.tsv         rectangles_2.csv         \u001b[01;34mthin_dataset\u001b[0m/\r\n",
      "\u001b[01;34mType_3\u001b[0m/                   rectangles_3.csv         \u001b[01;34mtrain\u001b[0m/\r\n",
      "Type_3_bbox.tsv           removed_files.csv        vgg_ft_cerv_sub\r\n",
      "\u001b[01;31madditional_Type_1_v2.7z\u001b[0m   res_clipped_cerv_sub\r\n",
      "\u001b[01;31madditional_Type_2_v2_.7z\u001b[0m  resnet_cerv_sub\r\n"
     ]
    }
   ],
   "source": [
    "ls"
   ]
  },
  {
   "cell_type": "code",
   "execution_count": 10,
   "metadata": {},
   "outputs": [],
   "source": [
    "df1=pd.read_table('Type_1_bbox.tsv',sep=' ',header=None)"
   ]
  },
  {
   "cell_type": "code",
   "execution_count": 18,
   "metadata": {
    "scrolled": true
   },
   "outputs": [
    {
     "data": {
      "text/html": [
       "<div>\n",
       "<table border=\"1\" class=\"dataframe\">\n",
       "  <thead>\n",
       "    <tr style=\"text-align: right;\">\n",
       "      <th></th>\n",
       "      <th>name</th>\n",
       "      <th>type</th>\n",
       "      <th>x</th>\n",
       "      <th>y</th>\n",
       "      <th>width</th>\n",
       "      <th>height</th>\n",
       "    </tr>\n",
       "  </thead>\n",
       "  <tbody>\n",
       "    <tr>\n",
       "      <th>0</th>\n",
       "      <td>Type_1\\0.jpg</td>\n",
       "      <td>2</td>\n",
       "      <td>882</td>\n",
       "      <td>961</td>\n",
       "      <td>1042</td>\n",
       "      <td>1106</td>\n",
       "    </tr>\n",
       "    <tr>\n",
       "      <th>1</th>\n",
       "      <td>Type_1\\10.jpg</td>\n",
       "      <td>1</td>\n",
       "      <td>972</td>\n",
       "      <td>2349</td>\n",
       "      <td>1052</td>\n",
       "      <td>715</td>\n",
       "    </tr>\n",
       "    <tr>\n",
       "      <th>2</th>\n",
       "      <td>Type_1\\1013.jpg</td>\n",
       "      <td>1</td>\n",
       "      <td>606</td>\n",
       "      <td>1437</td>\n",
       "      <td>774</td>\n",
       "      <td>825</td>\n",
       "    </tr>\n",
       "    <tr>\n",
       "      <th>3</th>\n",
       "      <td>Type_1\\1014.jpg</td>\n",
       "      <td>1</td>\n",
       "      <td>930</td>\n",
       "      <td>1090</td>\n",
       "      <td>1310</td>\n",
       "      <td>1384</td>\n",
       "    </tr>\n",
       "    <tr>\n",
       "      <th>4</th>\n",
       "      <td>Type_1\\1019.jpg</td>\n",
       "      <td>1</td>\n",
       "      <td>620</td>\n",
       "      <td>1304</td>\n",
       "      <td>982</td>\n",
       "      <td>1168</td>\n",
       "    </tr>\n",
       "  </tbody>\n",
       "</table>\n",
       "</div>"
      ],
      "text/plain": [
       "              name  type    x     y  width  height\n",
       "0     Type_1\\0.jpg     2  882   961   1042    1106\n",
       "1    Type_1\\10.jpg     1  972  2349   1052     715\n",
       "2  Type_1\\1013.jpg     1  606  1437    774     825\n",
       "3  Type_1\\1014.jpg     1  930  1090   1310    1384\n",
       "4  Type_1\\1019.jpg     1  620  1304    982    1168"
      ]
     },
     "execution_count": 18,
     "metadata": {},
     "output_type": "execute_result"
    }
   ],
   "source": [
    "df1.head()"
   ]
  },
  {
   "cell_type": "code",
   "execution_count": 16,
   "metadata": {},
   "outputs": [],
   "source": [
    "df1=df1.drop(df1.columns[[6,7,8,9]], axis=1) "
   ]
  },
  {
   "cell_type": "code",
   "execution_count": 17,
   "metadata": {
    "collapsed": true
   },
   "outputs": [],
   "source": [
    "df1.columns=['name','type','x','y', 'width' , 'height']"
   ]
  },
  {
   "cell_type": "code",
   "execution_count": null,
   "metadata": {
    "collapsed": true
   },
   "outputs": [],
   "source": []
  }
 ],
 "metadata": {
  "kernelspec": {
   "display_name": "Python 3",
   "language": "python",
   "name": "python3"
  },
  "language_info": {
   "codemirror_mode": {
    "name": "ipython",
    "version": 3
   },
   "file_extension": ".py",
   "mimetype": "text/x-python",
   "name": "python",
   "nbconvert_exporter": "python",
   "pygments_lexer": "ipython3",
   "version": "3.6.0"
  }
 },
 "nbformat": 4,
 "nbformat_minor": 2
}
